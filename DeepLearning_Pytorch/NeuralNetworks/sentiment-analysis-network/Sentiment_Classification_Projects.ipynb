{
 "cells": [
  {
   "cell_type": "markdown",
   "metadata": {},
   "source": [
    "# Sentiment Classification & How To \"Frame Problems\" for a Neural Network\n",
    "\n",
    "by Andrew Trask\n",
    "\n",
    "- **Twitter**: @iamtrask\n",
    "- **Blog**: http://iamtrask.github.io"
   ]
  },
  {
   "cell_type": "markdown",
   "metadata": {},
   "source": [
    "### What You Should Already Know\n",
    "\n",
    "- neural networks, forward and back-propagation\n",
    "- stochastic gradient descent\n",
    "- mean squared error\n",
    "- and train/test splits\n",
    "\n",
    "### Where to Get Help if You Need it\n",
    "- Re-watch previous Udacity Lectures\n",
    "- Leverage the recommended Course Reading Material - [Grokking Deep Learning](https://www.manning.com/books/grokking-deep-learning) (Check inside your classroom for a discount code)\n",
    "- Shoot me a tweet @iamtrask\n",
    "\n",
    "\n",
    "### Tutorial Outline:\n",
    "\n",
    "- Intro: The Importance of \"Framing a Problem\" (this lesson)\n",
    "\n",
    "- [Curate a Dataset](#lesson_1)\n",
    "- [Developing a \"Predictive Theory\"](#lesson_2)\n",
    "- [**PROJECT 1**: Quick Theory Validation](#project_1)\n",
    "\n",
    "\n",
    "- [Transforming Text to Numbers](#lesson_3)\n",
    "- [**PROJECT 2**: Creating the Input/Output Data](#project_2)\n",
    "\n",
    "\n",
    "- Putting it all together in a Neural Network (video only - nothing in notebook)\n",
    "- [**PROJECT 3**: Building our Neural Network](#project_3)\n",
    "\n",
    "\n",
    "- [Understanding Neural Noise](#lesson_4)\n",
    "- [**PROJECT 4**: Making Learning Faster by Reducing Noise](#project_4)\n",
    "\n",
    "\n",
    "- [Analyzing Inefficiencies in our Network](#lesson_5)\n",
    "- [**PROJECT 5**: Making our Network Train and Run Faster](#project_5)\n",
    "\n",
    "\n",
    "- [Further Noise Reduction](#lesson_6)\n",
    "- [**PROJECT 6**: Reducing Noise by Strategically Reducing the Vocabulary](#project_6)\n",
    "\n",
    "\n",
    "- [Analysis: What's going on in the weights?](#lesson_7)"
   ]
  },
  {
   "cell_type": "markdown",
   "metadata": {
    "nbpresent": {
     "id": "56bb3cba-260c-4ebe-9ed6-b995b4c72aa3"
    }
   },
   "source": [
    "# Lesson: Curate a Dataset<a id='lesson_1'></a>\n",
    "The cells from here until Project 1 include code Andrew shows in the videos leading up to mini project 1. We've included them so you can run the code along with the videos without having to type in everything."
   ]
  },
  {
   "cell_type": "code",
   "execution_count": 1,
   "metadata": {
    "collapsed": true,
    "nbpresent": {
     "id": "eba2b193-0419-431e-8db9-60f34dd3fe83"
    }
   },
   "outputs": [],
   "source": [
    "def pretty_print_review_and_label(i):\n",
    "    print(labels[i] + \"\\t:\\t\" + reviews[i][:80] + \"...\")\n",
    "\n",
    "g = open('reviews.txt','r') # What we know!\n",
    "reviews = list(map(lambda x:x[:-1],g.readlines()))\n",
    "g.close()\n",
    "\n",
    "g = open('labels.txt','r') # What we WANT to know!\n",
    "labels = list(map(lambda x:x[:-1].upper(),g.readlines()))\n",
    "g.close()"
   ]
  },
  {
   "cell_type": "markdown",
   "metadata": {},
   "source": [
    "**Note:** The data in `reviews.txt` we're using has already been preprocessed a bit and contains only lower case characters. If we were working from raw data, where we didn't know it was all lower case, we would want to add a step here to convert it. That's so we treat different variations of the same word, like `The`, `the`, and `THE`, all the same way."
   ]
  },
  {
   "cell_type": "code",
   "execution_count": 2,
   "metadata": {
    "collapsed": true
   },
   "outputs": [
    {
     "output_type": "execute_result",
     "data": {
      "text/plain": "25000"
     },
     "metadata": {},
     "execution_count": 2
    }
   ],
   "source": [
    "len(reviews)"
   ]
  },
  {
   "cell_type": "code",
   "execution_count": 5,
   "metadata": {
    "collapsed": true,
    "nbpresent": {
     "id": "bb95574b-21a0-4213-ae50-34363cf4f87f"
    }
   },
   "outputs": [
    {
     "output_type": "execute_result",
     "data": {
      "text/plain": "'story of a man who has unnatural feelings for a pig . starts out with a opening scene that is a terrific example of absurd comedy . a formal orchestra audience is turned into an insane  violent mob by the crazy chantings of it  s singers . unfortunately it stays absurd the whole time with no general narrative eventually making it just too off putting . even those from the era should be turned off . the cryptic dialogue would make shakespeare seem easy to a third grader . on a technical level it  s better than you might think with some good cinematography by future great vilmos zsigmond . future stars sally kirkland and frederic forrest can be seen briefly .  '"
     },
     "metadata": {},
     "execution_count": 5
    }
   ],
   "source": [
    "reviews[1]"
   ]
  },
  {
   "cell_type": "code",
   "execution_count": 6,
   "metadata": {
    "collapsed": true,
    "nbpresent": {
     "id": "e0408810-c424-4ed4-afb9-1735e9ddbd0a"
    }
   },
   "outputs": [
    {
     "output_type": "execute_result",
     "data": {
      "text/plain": "'NEGATIVE'"
     },
     "metadata": {},
     "execution_count": 6
    }
   ],
   "source": [
    "labels[1]"
   ]
  },
  {
   "cell_type": "markdown",
   "metadata": {},
   "source": [
    "# Lesson: Develop a Predictive Theory<a id='lesson_2'></a>"
   ]
  },
  {
   "cell_type": "code",
   "execution_count": 7,
   "metadata": {
    "collapsed": true,
    "nbpresent": {
     "id": "e67a709f-234f-4493-bae6-4fb192141ee0"
    }
   },
   "outputs": [
    {
     "output_type": "stream",
     "name": "stdout",
     "text": "labels.txt \t : \t reviews.txt\n\nNEGATIVE\t:\tthis movie is terrible but it has some good effects .  ...\nPOSITIVE\t:\tadrian pasdar is excellent is this film . he makes a fascinating woman .  ...\nNEGATIVE\t:\tcomment this movie is impossible . is terrible  very improbable  bad interpretat...\nPOSITIVE\t:\texcellent episode movie ala pulp fiction .  days   suicides . it doesnt get more...\nNEGATIVE\t:\tif you haven  t seen this  it  s terrible . it is pure trash . i saw this about ...\nPOSITIVE\t:\tthis schiffer guy is a real genius  the movie is of excellent quality and both e...\n"
    }
   ],
   "source": [
    "print(\"labels.txt \\t : \\t reviews.txt\\n\")\n",
    "pretty_print_review_and_label(2137)\n",
    "pretty_print_review_and_label(12816)\n",
    "pretty_print_review_and_label(6267)\n",
    "pretty_print_review_and_label(21934)\n",
    "pretty_print_review_and_label(5297)\n",
    "pretty_print_review_and_label(4998)"
   ]
  },
  {
   "cell_type": "markdown",
   "metadata": {},
   "source": [
    "# Project 1: Quick Theory Validation<a id='project_1'></a>\n",
    "\n",
    "There are multiple ways to implement these projects, but in order to get your code closer to what Andrew shows in his solutions, we've provided some hints and starter code throughout this notebook.\n",
    "\n",
    "You'll find the [Counter](https://docs.python.org/2/library/collections.html#collections.Counter) class to be useful in this exercise, as well as the [numpy](https://docs.scipy.org/doc/numpy/reference/) library."
   ]
  },
  {
   "cell_type": "code",
   "execution_count": 8,
   "metadata": {
    "collapsed": true
   },
   "outputs": [],
   "source": [
    "from collections import Counter\n",
    "import numpy as np"
   ]
  },
  {
   "cell_type": "markdown",
   "metadata": {},
   "source": [
    "We'll create three `Counter` objects, one for words from postive reviews, one for words from negative reviews, and one for all the words."
   ]
  },
  {
   "cell_type": "code",
   "execution_count": 9,
   "metadata": {
    "collapsed": true
   },
   "outputs": [],
   "source": [
    "# Create three Counter objects to store positive, negative and total counts\n",
    "positive_counts = Counter()\n",
    "negative_counts = Counter()\n",
    "total_counts = Counter()"
   ]
  },
  {
   "cell_type": "markdown",
   "metadata": {},
   "source": [
    "**TODO:** Examine all the reviews. For each word in a positive review, increase the count for that word in both your positive counter and the total words counter; likewise, for each word in a negative review, increase the count for that word in both your negative counter and the total words counter.\n",
    "\n",
    "**Note:** Throughout these projects, you should use `split(' ')` to divide a piece of text (such as a review) into individual words. If you use `split()` instead, you'll get slightly different results than what the videos and solutions show."
   ]
  },
  {
   "cell_type": "code",
   "execution_count": 48,
   "metadata": {
    "collapsed": true
   },
   "outputs": [],
   "source": [
    "# TODO: Loop over all the words in all the reviews and increment the counts in the appropriate counter objects\n",
    "for i in range(len(reviews)):\n",
    "    if (labels[i]==\"POSITIVE\"):\n",
    "        for word in reviews[i].split(\" \"):\n",
    "            positive_counts[word] += 1\n",
    "            total_counts[word] += 1\n",
    "    else:\n",
    "        for word in reviews[i].split(\" \"):\n",
    "            negative_counts[word] += 1\n",
    "            total_counts[word] += 1"
   ]
  },
  {
   "cell_type": "markdown",
   "metadata": {},
   "source": [
    "Run the following two cells to list the words used in positive reviews and negative reviews, respectively, ordered from most to least commonly used. "
   ]
  },
  {
   "cell_type": "code",
   "execution_count": 49,
   "metadata": {
    "collapsed": true
   },
   "outputs": [
    {
     "output_type": "execute_result",
     "data": {
      "text/plain": "[('', 1100936),\n ('the', 346648),\n ('.', 319308),\n ('and', 179444),\n ('a', 167376),\n ('of', 153710),\n ('to', 133492),\n ('is', 114490),\n ('in', 100430),\n ('br', 98470),\n ('it', 96050),\n ('i', 81486),\n ('that', 71260),\n ('this', 70160),\n ('s', 67630),\n ('as', 52616),\n ('with', 46494),\n ('for', 44832),\n ('was', 43834),\n ('film', 41874),\n ('but', 41644),\n ('movie', 38148),\n ('his', 34454),\n ('on', 34016),\n ('you', 33362),\n ('he', 32564),\n ('are', 29614),\n ('not', 28544),\n ('t', 27440),\n ('one', 27310),\n ('have', 25174),\n ('be', 24832),\n ('by', 23994),\n ('all', 23884),\n ('who', 22928),\n ('an', 22588),\n ('at', 22468),\n ('from', 21534),\n ('her', 20948),\n ('they', 19790),\n ('has', 18372),\n ('so', 18308),\n ('like', 18076),\n ('about', 16626),\n ('very', 16610),\n ('out', 16268),\n ('there', 16114),\n ('she', 15558),\n ('what', 15474),\n ('or', 15464),\n ('good', 15440),\n ('more', 15042),\n ('when', 14912),\n ('some', 14882),\n ('if', 14570),\n ('just', 14304),\n ('can', 14002),\n ('story', 13560),\n ('time', 13030),\n ('my', 12976),\n ('great', 12838),\n ('well', 12810),\n ('up', 12642),\n ('which', 12534),\n ('their', 12214),\n ('see', 12052),\n ('also', 11100),\n ('we', 11062),\n ('really', 10952),\n ('would', 10800),\n ('will', 10436),\n ('me', 10334),\n ('had', 10296),\n ('only', 10274),\n ('him', 10036),\n ('even', 9928),\n ('most', 9728),\n ('other', 9716),\n ('were', 9564),\n ('first', 9510),\n ('than', 9472),\n ('much', 9370),\n ('its', 9244),\n ('no', 9148),\n ('into', 9088),\n ('people', 8958),\n ('best', 8638),\n ('love', 8602),\n ('get', 8544),\n ('how', 8426),\n ('life', 8398),\n ('been', 8378),\n ('because', 8158),\n ('way', 8072),\n ('do', 7882),\n ('made', 7646),\n ('films', 7626),\n ('them', 7610),\n ('after', 7600),\n ('many', 7532),\n ('two', 7466),\n ('too', 7318),\n ('think', 7310),\n ('movies', 7172),\n ('characters', 7120),\n ('character', 7028),\n ('don', 6936),\n ('man', 6920),\n ('show', 6864),\n ('watch', 6848),\n ('seen', 6828),\n ('then', 6716),\n ('little', 6682),\n ('still', 6680),\n ('make', 6606),\n ('could', 6474),\n ('never', 6452),\n ('being', 6434),\n ('where', 6346),\n ('does', 6138),\n ('over', 6034),\n ('any', 6004),\n ('while', 5798),\n ('know', 5666),\n ('did', 5580),\n ('years', 5516),\n ('here', 5480),\n ('ever', 5468),\n ('end', 5392),\n ('these', 5388),\n ('such', 5180),\n ('real', 5136),\n ('scene', 5134),\n ('back', 5094),\n ('those', 4970),\n ('though', 4950),\n ('off', 4926),\n ('new', 4916),\n ('your', 4906),\n ('go', 4880),\n ('acting', 4874),\n ('plot', 4864),\n ('world', 4858),\n ('scenes', 4854),\n ('say', 4828),\n ('through', 4818),\n ('makes', 4780),\n ('better', 4762),\n ('now', 4736),\n ('work', 4692),\n ('young', 4686),\n ('old', 4622),\n ('ve', 4614),\n ('find', 4544),\n ('both', 4496),\n ('before', 4354),\n ('us', 4324),\n ('again', 4316),\n ('series', 4306),\n ('quite', 4286),\n ('something', 4270),\n ('cast', 4266),\n ('should', 4242),\n ('part', 4196),\n ('always', 4176),\n ('lot', 4174),\n ('another', 4150),\n ('actors', 4094),\n ('director', 4080),\n ('family', 4064),\n ('between', 4032),\n ('own', 4032),\n ('m', 3996),\n ('may', 3994),\n ('same', 3944),\n ('role', 3934),\n ('watching', 3932),\n ('every', 3908),\n ('funny', 3906),\n ('doesn', 3870),\n ('performance', 3856),\n ('few', 3836),\n ('bad', 3814),\n ('look', 3800),\n ('re', 3768),\n ('why', 3710),\n ('things', 3698),\n ('times', 3664),\n ('big', 3630),\n ('however', 3590),\n ('actually', 3580),\n ('action', 3578),\n ('going', 3566),\n ('bit', 3514),\n ('comedy', 3484),\n ('down', 3480),\n ('music', 3476),\n ('must', 3456),\n ('take', 3418),\n ('saw', 3384),\n ('long', 3380),\n ('right', 3376),\n ('fun', 3372),\n ('fact', 3368),\n ('excellent', 3366),\n ('around', 3348),\n ('didn', 3344),\n ('without', 3342),\n ('thing', 3324),\n ('thought', 3278),\n ('got', 3270),\n ('each', 3260),\n ('day', 3228),\n ('feel', 3194),\n ('seems', 3192),\n ('come', 3188),\n ('done', 3172),\n ('beautiful', 3160),\n ('especially', 3144),\n ('played', 3142),\n ('almost', 3132),\n ('want', 3124),\n ('yet', 3112),\n ('give', 3106),\n ('pretty', 3098),\n ('last', 3086),\n ('since', 3038),\n ('different', 3008),\n ('although', 3002),\n ('gets', 2980),\n ('true', 2974),\n ('interesting', 2962),\n ('job', 2940),\n ('enough', 2910),\n ('our', 2908),\n ('shows', 2894),\n ('horror', 2882),\n ('woman', 2878),\n ('tv', 2800),\n ('probably', 2796),\n ('father', 2790),\n ('original', 2786),\n ('girl', 2780),\n ('point', 2758),\n ('plays', 2756),\n ('wonderful', 2744),\n ('far', 2716),\n ('course', 2716),\n ('john', 2700),\n ('rather', 2680),\n ('isn', 2656),\n ('ll', 2652),\n ('later', 2648),\n ('dvd', 2648),\n ('whole', 2620),\n ('war', 2620),\n ('d', 2614),\n ('found', 2612),\n ('away', 2612),\n ('screen', 2610),\n ('nothing', 2600),\n ('year', 2594),\n ('once', 2592),\n ('hard', 2588),\n ('together', 2560),\n ('set', 2554),\n ('am', 2554),\n ('having', 2532),\n ('making', 2530),\n ('place', 2526),\n ('might', 2520),\n ('comes', 2520),\n ('sure', 2506),\n ('american', 2496),\n ('play', 2490),\n ('kind', 2488),\n ('perfect', 2484),\n ('takes', 2484),\n ('performances', 2474),\n ('himself', 2460),\n ('worth', 2442),\n ('everyone', 2442),\n ('anyone', 2428),\n ('actor', 2406),\n ('three', 2402),\n ('wife', 2392),\n ('classic', 2384),\n ('goes', 2372),\n ('ending', 2356),\n ('version', 2336),\n ('star', 2298),\n ('enjoy', 2292),\n ('book', 2284),\n ('nice', 2264),\n ('everything', 2256),\n ('during', 2248),\n ('put', 2236),\n ('seeing', 2222),\n ('least', 2204),\n ('house', 2200),\n ('high', 2190),\n ('watched', 2188),\n ('loved', 2174),\n ('men', 2174),\n ('night', 2164),\n ('anything', 2150),\n ('believe', 2142),\n ('guy', 2142),\n ('top', 2126),\n ('amazing', 2116),\n ('hollywood', 2112),\n ('looking', 2106),\n ('main', 2088),\n ('definitely', 2086),\n ('gives', 2062),\n ('home', 2058),\n ('seem', 2056),\n ('episode', 2046),\n ('audience', 2040),\n ('sense', 2040),\n ('truly', 2034),\n ('special', 2022),\n ('second', 2018),\n ('short', 2018),\n ('fan', 2018),\n ('mind', 2010),\n ('human', 2002),\n ('recommend', 1998),\n ('full', 1992),\n ('black', 1990),\n ('help', 1982),\n ('along', 1978),\n ('trying', 1974),\n ('small', 1972),\n ('death', 1970),\n ('friends', 1962),\n ('remember', 1948),\n ('often', 1940),\n ('said', 1932),\n ('favorite', 1924),\n ('heart', 1918),\n ('early', 1914),\n ('left', 1912),\n ('until', 1910),\n ('script', 1908),\n ('let', 1908),\n ('maybe', 1874),\n ('today', 1872),\n ('live', 1868),\n ('less', 1868),\n ('moments', 1866),\n ('others', 1858),\n ('brilliant', 1852),\n ('shot', 1850),\n ('liked', 1846),\n ('become', 1832),\n ('won', 1830),\n ('used', 1820),\n ('style', 1814),\n ('mother', 1790),\n ('lives', 1788),\n ('came', 1786),\n ('stars', 1780),\n ('cinema', 1778),\n ('looks', 1770),\n ('perhaps', 1768),\n ('read', 1764),\n ('enjoyed', 1758),\n ('boy', 1750),\n ('drama', 1746),\n ('highly', 1742),\n ('given', 1740),\n ('playing', 1734),\n ('use', 1728),\n ('next', 1718),\n ('women', 1716),\n ('fine', 1714),\n ('effects', 1712),\n ('kids', 1708),\n ('entertaining', 1706),\n ('need', 1704),\n ('line', 1700),\n ('works', 1696),\n ('someone', 1694),\n ('mr', 1672),\n ('simply', 1670),\n ('picture', 1666),\n ('children', 1666),\n ('face', 1662),\n ('keep', 1662),\n ('friend', 1662),\n ('dark', 1660),\n ('overall', 1656),\n ('certainly', 1656),\n ('minutes', 1654),\n ('wasn', 1648),\n ('history', 1644),\n ('finally', 1640),\n ('couple', 1632),\n ('against', 1630),\n ('son', 1618),\n ('understand', 1616),\n ('lost', 1614),\n ('michael', 1610),\n ('else', 1602),\n ('throughout', 1596),\n ('fans', 1594),\n ('city', 1584),\n ('reason', 1578),\n ('written', 1574),\n ('production', 1574),\n ('several', 1568),\n ('school', 1566),\n ('based', 1562),\n ('rest', 1562),\n ('try', 1560),\n ('dead', 1552),\n ('hope', 1550),\n ('strong', 1536),\n ('white', 1530),\n ('tell', 1518),\n ('itself', 1516),\n ('half', 1506),\n ('person', 1498),\n ('sometimes', 1492),\n ('past', 1488),\n ('start', 1488),\n ('genre', 1486),\n ('beginning', 1478),\n ('final', 1478),\n ('town', 1476),\n ('art', 1468),\n ('humor', 1464),\n ('game', 1464),\n ('yes', 1462),\n ('idea', 1462),\n ('late', 1460),\n ('becomes', 1458),\n ('despite', 1458),\n ('able', 1452),\n ('case', 1452),\n ('money', 1446),\n ('child', 1442),\n ('completely', 1442),\n ('side', 1438),\n ('camera', 1432),\n ('getting', 1428),\n ('instead', 1424),\n ('soon', 1404),\n ('under', 1400),\n ('viewer', 1398),\n ('age', 1394),\n ('days', 1392),\n ('stories', 1392),\n ('felt', 1388),\n ('simple', 1388),\n ('roles', 1386),\n ('video', 1376),\n ('name', 1366),\n ('either', 1366),\n ('doing', 1354),\n ('turns', 1348),\n ('wants', 1342),\n ('close', 1342),\n ('title', 1338),\n ('wrong', 1336),\n ('went', 1332),\n ('james', 1330),\n ('evil', 1318),\n ('budget', 1314),\n ('episodes', 1314),\n ('relationship', 1310),\n ('fantastic', 1306),\n ('piece', 1306),\n ('david', 1302),\n ('turn', 1296),\n ('murder', 1292),\n ('parts', 1290),\n ('brother', 1288),\n ('absolutely', 1286),\n ('head', 1286),\n ('experience', 1284),\n ('eyes', 1282),\n ('sex', 1276),\n ('direction', 1274),\n ('called', 1274),\n ('directed', 1272),\n ('lines', 1268),\n ('behind', 1266),\n ('sort', 1264),\n ('actress', 1262),\n ('lead', 1260),\n ('oscar', 1256),\n ('including', 1254),\n ('example', 1254),\n ('known', 1250),\n ('musical', 1250),\n ('chance', 1242),\n ('score', 1240),\n ('already', 1238),\n ('feeling', 1238),\n ('hit', 1238),\n ('voice', 1230),\n ('moment', 1224),\n ('living', 1224),\n ('low', 1220),\n ('supporting', 1220),\n ('ago', 1218),\n ('themselves', 1216),\n ('reality', 1210),\n ('hilarious', 1210),\n ('jack', 1208),\n ('told', 1206),\n ('hand', 1202),\n ('quality', 1200),\n ('moving', 1200),\n ('dialogue', 1200),\n ('song', 1198),\n ('happy', 1198),\n ('matter', 1196),\n ('paul', 1196),\n ('light', 1188),\n ('future', 1186),\n ('entire', 1184),\n ('finds', 1182),\n ('gave', 1178),\n ('laugh', 1174),\n ('released', 1172),\n ('expect', 1168),\n ('fight', 1162),\n ('particularly', 1160),\n ('cinematography', 1158),\n ('police', 1158),\n ('whose', 1156),\n ('type', 1156),\n ('sound', 1156),\n ('view', 1146),\n ('enjoyable', 1146),\n ('number', 1144),\n ('romantic', 1144),\n ('husband', 1144),\n ('daughter', 1144),\n ('documentary', 1142),\n ('self', 1140),\n ('superb', 1138),\n ('modern', 1138),\n ('took', 1138),\n ('robert', 1138),\n ('mean', 1132),\n ('shown', 1126),\n ('coming', 1122),\n ('important', 1120),\n ('king', 1118),\n ('leave', 1118),\n ('change', 1116),\n ('somewhat', 1110),\n ('wanted', 1110),\n ('tells', 1108),\n ('events', 1104),\n ('run', 1104),\n ('career', 1104),\n ('country', 1104),\n ('heard', 1100),\n ('season', 1100),\n ('greatest', 1098),\n ('girls', 1098),\n ('etc', 1094),\n ('care', 1092),\n ('starts', 1090),\n ('english', 1084),\n ('killer', 1082),\n ('tale', 1080),\n ('guys', 1080),\n ('totally', 1080),\n ('animation', 1080),\n ('usual', 1078),\n ('miss', 1070),\n ('opinion', 1070),\n ('easy', 1062),\n ('violence', 1062),\n ('songs', 1060),\n ('british', 1056),\n ('says', 1052),\n ('realistic', 1050),\n ('writing', 1048),\n ('writer', 1044),\n ('act', 1044),\n ('comic', 1042),\n ('thriller', 1038),\n ('television', 1034),\n ('power', 1032),\n ('ones', 1030),\n ('kid', 1028),\n ('york', 1026),\n ('novel', 1026),\n ('alone', 1024),\n ('problem', 1024),\n ('attention', 1018),\n ('involved', 1016),\n ('kill', 1014),\n ('extremely', 1014),\n ('seemed', 1012),\n ('hero', 1010),\n ('french', 1010),\n ('rock', 1008),\n ('stuff', 1002),\n ('wish', 998),\n ('begins', 996),\n ('taken', 994),\n ('sad', 994),\n ('ways', 992),\n ('richard', 990),\n ('knows', 988),\n ('atmosphere', 986),\n ('similar', 982),\n ('surprised', 982),\n ('taking', 982),\n ('car', 982),\n ('george', 980),\n ('perfectly', 980),\n ('across', 978),\n ('team', 978),\n ('eye', 978),\n ('sequence', 978),\n ('room', 976),\n ('due', 976),\n ('among', 976),\n ('serious', 976),\n ('powerful', 976),\n ('strange', 974),\n ('order', 974),\n ('cannot', 974),\n ('b', 974),\n ('beauty', 972),\n ('famous', 970),\n ('happened', 968),\n ('tries', 968),\n ('herself', 968),\n ('myself', 968),\n ('class', 966),\n ('four', 964),\n ('cool', 962),\n ('release', 958),\n ('anyway', 958),\n ('theme', 958),\n ('opening', 956),\n ('entertainment', 954),\n ('slow', 950),\n ('ends', 950),\n ('unique', 950),\n ('exactly', 950),\n ('easily', 948),\n ('level', 948),\n ('o', 948),\n ('red', 948),\n ('interest', 944),\n ('happen', 942),\n ('crime', 940),\n ('viewing', 936),\n ('sets', 934),\n ('memorable', 934),\n ('stop', 932),\n ('group', 932),\n ('problems', 926),\n ('dance', 926),\n ('working', 926),\n ('sister', 926),\n ('message', 926),\n ('knew', 924),\n ('mystery', 922),\n ('nature', 922),\n ('bring', 920),\n ('believable', 918),\n ('thinking', 918),\n ('brought', 918),\n ('mostly', 916),\n ('disney', 914),\n ('couldn', 914),\n ('society', 912),\n ('lady', 910),\n ('within', 910),\n ('blood', 908),\n ('parents', 906),\n ('upon', 906),\n ('viewers', 906),\n ('meets', 904),\n ('form', 904),\n ('peter', 904),\n ('tom', 904),\n ('usually', 904),\n ('soundtrack', 904),\n ('local', 900),\n ('certain', 896),\n ('follow', 896),\n ('whether', 894),\n ('possible', 892),\n ('emotional', 890),\n ('killed', 888),\n ('above', 888),\n ('de', 888),\n ('god', 886),\n ('middle', 886),\n ('needs', 884),\n ('happens', 884),\n ('flick', 884),\n ('masterpiece', 882),\n ('period', 880),\n ('major', 880),\n ('named', 878),\n ('haven', 878),\n ('particular', 876),\n ('th', 876),\n ('earth', 874),\n ('feature', 874),\n ('stand', 872),\n ('words', 870),\n ('typical', 870),\n ('elements', 866),\n ('obviously', 866),\n ('romance', 862),\n ('jane', 860),\n ('yourself', 854),\n ('showing', 854),\n ('brings', 852),\n ('fantasy', 852),\n ('guess', 846),\n ('america', 846),\n ('unfortunately', 844),\n ('huge', 844),\n ('indeed', 842),\n ('running', 842),\n ('talent', 840),\n ('stage', 838),\n ('started', 836),\n ('leads', 834),\n ('sweet', 834),\n ('japanese', 834),\n ('poor', 832),\n ('deal', 832),\n ('incredible', 826),\n ('personal', 826),\n ('fast', 824),\n ('became', 820),\n ('deep', 820),\n ('hours', 818),\n ('giving', 816),\n ('nearly', 816),\n ('dream', 816),\n ('clearly', 814),\n ('turned', 814),\n ('obvious', 812),\n ('near', 812),\n ('cut', 810),\n ('surprise', 810),\n ('era', 808),\n ('body', 808),\n ('hour', 806),\n ('female', 806),\n ('five', 806),\n ('note', 798),\n ('learn', 796),\n ('truth', 796),\n ('except', 794),\n ('feels', 794),\n ('match', 794),\n ('tony', 794),\n ('filmed', 788),\n ('clear', 788),\n ('complete', 788),\n ('street', 786),\n ('eventually', 786),\n ('keeps', 786),\n ('older', 786),\n ('lots', 786),\n ('buy', 784),\n ('william', 782),\n ('stewart', 782),\n ('fall', 780),\n ('joe', 780),\n ('meet', 780),\n ('unlike', 778),\n ('talking', 778),\n ('shots', 778),\n ('rating', 778),\n ('difficult', 778),\n ('dramatic', 776),\n ('means', 776),\n ('situation', 772),\n ('wonder', 772),\n ('present', 772),\n ('appears', 772),\n ('subject', 772),\n ('comments', 770),\n ('general', 766),\n ('sequences', 766),\n ('lee', 766),\n ('points', 764),\n ('earlier', 764),\n ('gone', 758),\n ('check', 758),\n ('suspense', 756),\n ('recommended', 756),\n ('ten', 756),\n ('third', 754),\n ('business', 754),\n ('talk', 750),\n ('leaves', 750),\n ('beyond', 750),\n ('portrayal', 748),\n ('beautifully', 746),\n ('single', 744),\n ('bill', 744),\n ('plenty', 742),\n ('word', 742),\n ('whom', 740),\n ('falls', 740),\n ('scary', 738),\n ('non', 738),\n ('figure', 738),\n ('battle', 738),\n ('using', 736),\n ('return', 736),\n ('doubt', 734),\n ('add', 734),\n ('hear', 732),\n ('solid', 732),\n ('success', 732),\n ('jokes', 730),\n ('oh', 730),\n ('touching', 730),\n ('political', 730),\n ('hell', 728),\n ('awesome', 728),\n ('boys', 728),\n ('sexual', 724),\n ('recently', 724),\n ('dog', 724),\n ('please', 722),\n ('wouldn', 722),\n ('straight', 722),\n ('features', 722),\n ('forget', 720),\n ('setting', 720),\n ('lack', 720),\n ('married', 718),\n ('mark', 718),\n ('social', 714),\n ('interested', 712),\n ('adventure', 712),\n ('actual', 710),\n ('terrific', 710),\n ('sees', 710),\n ('brothers', 710),\n ('move', 708),\n ('call', 708),\n ('various', 706),\n ('theater', 706),\n ('dr', 706),\n ('animated', 704),\n ('western', 702),\n ('baby', 700),\n ('space', 700),\n ('leading', 696),\n ('disappointed', 696),\n ('portrayed', 692),\n ('aren', 692),\n ('screenplay', 690),\n ('smith', 690),\n ('towards', 688),\n ('hate', 688),\n ('noir', 686),\n ('outstanding', 684),\n ('decent', 684),\n ('kelly', 684),\n ('directors', 682),\n ('journey', 682),\n ('none', 680),\n ('looked', 680),\n ('effective', 680),\n ('storyline', 678),\n ('caught', 678),\n ('sci', 678),\n ('fi', 678),\n ('cold', 678),\n ('mary', 678),\n ('rich', 676),\n ('charming', 676),\n ('popular', 674),\n ('rare', 674),\n ('manages', 674),\n ('harry', 674),\n ('spirit', 672),\n ('appreciate', 670),\n ('open', 670),\n ('moves', 668),\n ('basically', 668),\n ('acted', 668),\n ('inside', 666),\n ('boring', 666),\n ('century', 666),\n ('mention', 666),\n ('deserves', 666),\n ('subtle', 666),\n ('pace', 666),\n ('familiar', 664),\n ('background', 664),\n ('ben', 662),\n ('creepy', 660),\n ('supposed', 660),\n ('secret', 658),\n ('die', 656),\n ('jim', 656),\n ('question', 654),\n ('effect', 654),\n ('natural', 654),\n ('impressive', 652),\n ('rate', 652),\n ('language', 652),\n ('saying', 650),\n ('intelligent', 650),\n ('telling', 648),\n ('realize', 648),\n ('material', 648),\n ('scott', 648),\n ('singing', 646),\n ('dancing', 644),\n ('visual', 642),\n ('adult', 642),\n ('imagine', 642),\n ('kept', 640),\n ('office', 640),\n ('uses', 638),\n ('pure', 636),\n ('wait', 636),\n ('stunning', 636),\n ('review', 634),\n ('previous', 634),\n ('copy', 634),\n ('seriously', 634),\n ('reading', 632),\n ('create', 632),\n ('hot', 632),\n ('created', 632),\n ('magic', 632),\n ('somehow', 632),\n ('stay', 630),\n ('attempt', 630),\n ('escape', 630),\n ('crazy', 630),\n ('air', 630),\n ('frank', 630),\n ('hands', 628),\n ('filled', 626),\n ('expected', 624),\n ('average', 624),\n ('surprisingly', 624),\n ('complex', 622),\n ('quickly', 620),\n ('successful', 620),\n ('studio', 620),\n ('plus', 618),\n ('male', 618),\n ('co', 614),\n ('images', 612),\n ('casting', 612),\n ('following', 612),\n ('minute', 612),\n ('exciting', 612),\n ('members', 610),\n ('follows', 610),\n ('themes', 610),\n ('german', 610),\n ('reasons', 610),\n ('e', 610),\n ('touch', 608),\n ('edge', 608),\n ('free', 608),\n ('cute', 608),\n ('genius', 608),\n ('outside', 606),\n ('reviews', 604),\n ('admit', 604),\n ('ok', 604),\n ('younger', 604),\n ('fighting', 602),\n ('odd', 602),\n ('master', 602),\n ('recent', 600),\n ('thanks', 600),\n ('break', 600),\n ('comment', 600),\n ('apart', 598),\n ('emotions', 596),\n ('lovely', 596),\n ('begin', 596),\n ('doctor', 594),\n ('party', 594),\n ('italian', 594),\n ('la', 592),\n ('missed', 592),\n ...]"
     },
     "metadata": {},
     "execution_count": 49
    }
   ],
   "source": [
    "# Examine the counts of the most common words in positive reviews\n",
    "positive_counts.most_common()"
   ]
  },
  {
   "cell_type": "code",
   "execution_count": 50,
   "metadata": {
    "collapsed": true
   },
   "outputs": [
    {
     "output_type": "execute_result",
     "data": {
      "text/plain": "[('', 1122924),\n ('.', 335076),\n ('the', 326778),\n ('a', 158642),\n ('and', 148770),\n ('of', 138018),\n ('to', 137948),\n ('br', 105274),\n ('is', 100166),\n ('it', 96654),\n ('i', 93760),\n ('in', 87506),\n ('this', 81840),\n ('that', 75230),\n ('s', 63092),\n ('was', 52582),\n ('movie', 49930),\n ('for', 43854),\n ('but', 43562),\n ('with', 41756),\n ('as', 41250),\n ('t', 40722),\n ('film', 38436),\n ('you', 35098),\n ('on', 34384),\n ('not', 32708),\n ('have', 30288),\n ('are', 29246),\n ('be', 29082),\n ('he', 27712),\n ('one', 26268),\n ('they', 26022),\n ('at', 24558),\n ('his', 24294),\n ('all', 24072),\n ('so', 22926),\n ('like', 22476),\n ('there', 21550),\n ('just', 21238),\n ('by', 21098),\n ('or', 20544),\n ('an', 20532),\n ('who', 19938),\n ('from', 19462),\n ('if', 19036),\n ('about', 18122),\n ('out', 17958),\n ('what', 16844),\n ('some', 16612),\n ('no', 16286),\n ('her', 15894),\n ('even', 15374),\n ('can', 15306),\n ('has', 15208),\n ('good', 14846),\n ('bad', 14802),\n ('would', 14072),\n ('up', 13940),\n ('only', 13562),\n ('more', 13460),\n ('when', 13452),\n ('she', 12888),\n ('really', 12524),\n ('time', 12418),\n ('had', 12284),\n ('my', 12030),\n ('were', 12002),\n ('which', 11560),\n ('very', 11528),\n ('me', 11212),\n ('see', 10904),\n ('don', 10672),\n ('we', 10656),\n ('their', 10556),\n ('do', 10472),\n ('story', 10416),\n ('than', 10366),\n ('been', 10200),\n ('much', 10156),\n ('get', 10074),\n ('because', 9932),\n ('people', 9612),\n ('then', 9522),\n ('make', 9444),\n ('how', 9376),\n ('could', 9372),\n ('any', 9316),\n ('into', 9134),\n ('made', 9082),\n ('first', 8612),\n ('other', 8610),\n ('well', 8508),\n ('too', 8348),\n ('them', 8330),\n ('plot', 8308),\n ('movies', 8160),\n ('acting', 8112),\n ('will', 7986),\n ('way', 7978),\n ('most', 7838),\n ('him', 7716),\n ('after', 7676),\n ('its', 7310),\n ('think', 7286),\n ('also', 7216),\n ('characters', 7200),\n ('off', 7134),\n ('watch', 7100),\n ('character', 7012),\n ('did', 7012),\n ('why', 6926),\n ('being', 6786),\n ('better', 6716),\n ('know', 6668),\n ('over', 6632),\n ('seen', 6530),\n ('ever', 6526),\n ('never', 6518),\n ('your', 6466),\n ('where', 6438),\n ('two', 6346),\n ('little', 6192),\n ('films', 6154),\n ('here', 6054),\n ('m', 6000),\n ('nothing', 5980),\n ('say', 5964),\n ('end', 5908),\n ('something', 5884),\n ('should', 5840),\n ('many', 5818),\n ('does', 5742),\n ('thing', 5732),\n ('show', 5724),\n ('ve', 5658),\n ('scene', 5632),\n ('scenes', 5570),\n ('these', 5448),\n ('go', 5434),\n ('didn', 5292),\n ('great', 5280),\n ('watching', 5280),\n ('re', 5240),\n ('doesn', 5202),\n ('through', 5120),\n ('such', 5088),\n ('man', 5032),\n ('worst', 4960),\n ('actually', 4898),\n ('actors', 4874),\n ('life', 4858),\n ('back', 4848),\n ('while', 4836),\n ('director', 4810),\n ('funny', 4672),\n ('going', 4638),\n ('still', 4566),\n ('another', 4508),\n ('look', 4494),\n ('now', 4474),\n ('old', 4430),\n ('those', 4424),\n ('real', 4340),\n ('few', 4316),\n ('love', 4304),\n ('horror', 4300),\n ('before', 4294),\n ('want', 4282),\n ('minutes', 4252),\n ('pretty', 4230),\n ('best', 4188),\n ('though', 4182),\n ('same', 4162),\n ('script', 4148),\n ('work', 4054),\n ('every', 4050),\n ('seems', 4046),\n ('least', 4022),\n ('enough', 3994),\n ('down', 3976),\n ('original', 3966),\n ('guy', 3928),\n ('got', 3904),\n ('around', 3886),\n ('part', 3884),\n ('lot', 3784),\n ('anything', 3748),\n ('find', 3720),\n ('new', 3708),\n ('again', 3698),\n ('isn', 3698),\n ('point', 3690),\n ('things', 3678),\n ('fact', 3678),\n ('give', 3646),\n ('makes', 3628),\n ('take', 3600),\n ('thought', 3596),\n ('d', 3540),\n ('whole', 3536),\n ('long', 3522),\n ('years', 3518),\n ('however', 3480),\n ('gets', 3428),\n ('making', 3390),\n ('cast', 3388),\n ('big', 3324),\n ('might', 3316),\n ('interesting', 3296),\n ('money', 3276),\n ('us', 3256),\n ('right', 3250),\n ('far', 3238),\n ('quite', 3192),\n ('without', 3190),\n ('come', 3190),\n ('almost', 3148),\n ('ll', 3134),\n ('action', 3132),\n ('awful', 3114),\n ('kind', 3078),\n ('reason', 3068),\n ('am', 3060),\n ('looks', 3056),\n ('must', 3044),\n ('done', 3020),\n ('comedy', 3008),\n ('someone', 2980),\n ('trying', 2972),\n ('wasn', 2968),\n ('poor', 2962),\n ('boring', 2956),\n ('instead', 2956),\n ('saw', 2950),\n ('away', 2938),\n ('girl', 2926),\n ('probably', 2888),\n ('believe', 2868),\n ('sure', 2866),\n ('looking', 2860),\n ('stupid', 2856),\n ('anyone', 2836),\n ('times', 2812),\n ('maybe', 2808),\n ('world', 2808),\n ('rather', 2788),\n ('terrible', 2782),\n ('may', 2780),\n ('last', 2780),\n ('since', 2776),\n ('let', 2770),\n ('tv', 2764),\n ('hard', 2748),\n ('between', 2748),\n ('waste', 2716),\n ('woman', 2712),\n ('feel', 2708),\n ('effects', 2696),\n ('half', 2682),\n ('own', 2666),\n ('young', 2634),\n ('music', 2632),\n ('idea', 2624),\n ('sense', 2612),\n ('bit', 2596),\n ('having', 2560),\n ('book', 2556),\n ('found', 2534),\n ('put', 2526),\n ('series', 2526),\n ('goes', 2512),\n ('worse', 2498),\n ('said', 2460),\n ('comes', 2448),\n ('role', 2444),\n ('main', 2440),\n ('else', 2398),\n ('everything', 2394),\n ('yet', 2392),\n ('low', 2378),\n ('screen', 2376),\n ('supposed', 2372),\n ('actor', 2370),\n ('either', 2366),\n ('budget', 2358),\n ('ending', 2358),\n ('audience', 2356),\n ('set', 2354),\n ('family', 2340),\n ('left', 2338),\n ('completely', 2336),\n ('both', 2316),\n ('wrong', 2310),\n ('always', 2302),\n ('course', 2296),\n ('place', 2296),\n ('seem', 2294),\n ('watched', 2284),\n ('day', 2264),\n ('simply', 2260),\n ('shot', 2252),\n ('mean', 2234),\n ('special', 2204),\n ('dead', 2202),\n ('three', 2188),\n ('house', 2170),\n ('oh', 2168),\n ('night', 2166),\n ('read', 2164),\n ('less', 2134),\n ('high', 2132),\n ('year', 2128),\n ('camera', 2122),\n ('worth', 2114),\n ('our', 2112),\n ('try', 2102),\n ('horrible', 2092),\n ('sex', 2092),\n ('video', 2086),\n ('black', 2078),\n ('although', 2072),\n ('couldn', 2072),\n ('once', 2066),\n ('rest', 2044),\n ('dvd', 2042),\n ('line', 2036),\n ('played', 2034),\n ('fun', 2014),\n ('during', 2012),\n ('production', 2006),\n ('everyone', 2004),\n ('play', 1986),\n ('mind', 1980),\n ('version', 1978),\n ('kids', 1978),\n ('seeing', 1976),\n ('american', 1960),\n ('given', 1956),\n ('used', 1938),\n ('performance', 1936),\n ('especially', 1926),\n ('together', 1926),\n ('tell', 1918),\n ('women', 1916),\n ('start', 1912),\n ('need', 1910),\n ('second', 1906),\n ('takes', 1900),\n ('each', 1900),\n ('wife', 1888),\n ('dialogue', 1884),\n ('use', 1880),\n ('problem', 1876),\n ('star', 1868),\n ('unfortunately', 1862),\n ('himself', 1858),\n ('doing', 1852),\n ('death', 1844),\n ('name', 1842),\n ('lines', 1838),\n ('killer', 1828),\n ('getting', 1826),\n ('help', 1810),\n ('couple', 1804),\n ('fan', 1804),\n ('head', 1796),\n ('crap', 1790),\n ('guess', 1776),\n ('piece', 1768),\n ('nice', 1760),\n ('different', 1756),\n ('school', 1752),\n ('later', 1750),\n ('entire', 1738),\n ('shows', 1720),\n ('next', 1716),\n ('john', 1716),\n ('short', 1714),\n ('seemed', 1714),\n ('hollywood', 1700),\n ('home', 1696),\n ('true', 1692),\n ('person', 1692),\n ('absolutely', 1684),\n ('sort', 1680),\n ('care', 1678),\n ('understand', 1672),\n ('plays', 1670),\n ('felt', 1668),\n ('written', 1658),\n ('title', 1656),\n ('men', 1644),\n ('until', 1642),\n ('flick', 1632),\n ('decent', 1630),\n ('face', 1628),\n ('friends', 1620),\n ('stars', 1614),\n ('job', 1614),\n ('case', 1614),\n ('itself', 1608),\n ('yes', 1602),\n ('perhaps', 1600),\n ('went', 1594),\n ('wanted', 1594),\n ('called', 1592),\n ('annoying', 1590),\n ('ridiculous', 1580),\n ('tries', 1580),\n ('laugh', 1576),\n ('evil', 1574),\n ('along', 1572),\n ('top', 1570),\n ('hour', 1568),\n ('full', 1566),\n ('came', 1560),\n ('writing', 1560),\n ('keep', 1540),\n ('totally', 1534),\n ('playing', 1532),\n ('god', 1530),\n ('won', 1528),\n ('guys', 1526),\n ('already', 1524),\n ('gore', 1514),\n ('direction', 1496),\n ('save', 1492),\n ('lost', 1490),\n ('example', 1488),\n ('sound', 1484),\n ('war', 1482),\n ('attempt', 1470),\n ('car', 1466),\n ('except', 1466),\n ('moments', 1464),\n ('blood', 1464),\n ('obviously', 1460),\n ('act', 1458),\n ('remember', 1456),\n ('kill', 1454),\n ('truly', 1452),\n ('white', 1452),\n ('father', 1452),\n ('b', 1450),\n ('thinking', 1440),\n ('ok', 1432),\n ('finally', 1432),\n ('turn', 1422),\n ('quality', 1402),\n ('lack', 1396),\n ('style', 1388),\n ('wouldn', 1386),\n ('cheap', 1382),\n ('none', 1380),\n ('kid', 1372),\n ('please', 1372),\n ('boy', 1370),\n ('seriously', 1368),\n ('lead', 1360),\n ('dull', 1354),\n ('children', 1352),\n ('starts', 1350),\n ('stuff', 1346),\n ('hope', 1344),\n ('looked', 1340),\n ('recommend', 1338),\n ('under', 1336),\n ('run', 1334),\n ('killed', 1334),\n ('enjoy', 1332),\n ('others', 1332),\n ('etc', 1326),\n ('myself', 1326),\n ('beginning', 1324),\n ('girls', 1324),\n ('against', 1324),\n ('obvious', 1320),\n ('small', 1320),\n ('hell', 1318),\n ('slow', 1314),\n ('hand', 1312),\n ('wonder', 1304),\n ('lame', 1304),\n ('becomes', 1302),\n ('picture', 1302),\n ('based', 1300),\n ('early', 1296),\n ('behind', 1292),\n ('poorly', 1288),\n ('avoid', 1284),\n ('apparently', 1280),\n ('complete', 1280),\n ('happens', 1278),\n ('anyway', 1276),\n ('classic', 1274),\n ('several', 1272),\n ('despite', 1270),\n ('certainly', 1270),\n ('episode', 1270),\n ('often', 1262),\n ('cut', 1260),\n ('writer', 1260),\n ('mother', 1256),\n ('predictable', 1256),\n ('gave', 1256),\n ('become', 1254),\n ('close', 1250),\n ('fans', 1248),\n ('saying', 1242),\n ('scary', 1238),\n ('stop', 1236),\n ('live', 1236),\n ('wants', 1234),\n ('self', 1230),\n ('mr', 1224),\n ('jokes', 1222),\n ('friend', 1222),\n ('cannot', 1220),\n ('overall', 1218),\n ('cinema', 1208),\n ('child', 1206),\n ('silly', 1202),\n ('beautiful', 1192),\n ('human', 1190),\n ('expect', 1188),\n ('liked', 1186),\n ('happened', 1184),\n ('bunch', 1180),\n ('entertaining', 1180),\n ('actress', 1176),\n ('final', 1176),\n ('says', 1168),\n ('performances', 1168),\n ('turns', 1154),\n ('humor', 1154),\n ('themselves', 1152),\n ('eyes', 1152),\n ('hours', 1148),\n ('happen', 1146),\n ('basically', 1144),\n ('days', 1144),\n ('running', 1142),\n ('involved', 1138),\n ('disappointed', 1138),\n ('call', 1138),\n ('directed', 1136),\n ('group', 1136),\n ('fight', 1134),\n ('daughter', 1132),\n ('talking', 1132),\n ('body', 1132),\n ('badly', 1130),\n ('sorry', 1130),\n ('throughout', 1126),\n ('viewer', 1126),\n ('yourself', 1124),\n ('extremely', 1124),\n ('interest', 1122),\n ('heard', 1122),\n ('violence', 1122),\n ('shots', 1118),\n ('side', 1114),\n ('word', 1112),\n ('art', 1110),\n ('possible', 1108),\n ('dark', 1102),\n ('game', 1102),\n ('hero', 1100),\n ('alone', 1098),\n ('son', 1094),\n ('type', 1094),\n ('leave', 1094),\n ('gives', 1092),\n ('parts', 1092),\n ('single', 1092),\n ('started', 1090),\n ('female', 1086),\n ('rating', 1082),\n ('mess', 1082),\n ('voice', 1082),\n ('aren', 1080),\n ('town', 1080),\n ('drama', 1076),\n ('definitely', 1074),\n ('unless', 1072),\n ('review', 1068),\n ('effort', 1066),\n ('weak', 1066),\n ('able', 1066),\n ('took', 1062),\n ('non', 1060),\n ('five', 1060),\n ('matter', 1058),\n ('usually', 1058),\n ('michael', 1056),\n ('feeling', 1052),\n ('huge', 1046),\n ('sequel', 1044),\n ('soon', 1042),\n ('exactly', 1040),\n ('past', 1038),\n ('turned', 1036),\n ('police', 1036),\n ('tried', 1030),\n ('middle', 1026),\n ('talent', 1026),\n ('genre', 1024),\n ('zombie', 1020),\n ('ends', 1018),\n ('history', 1018),\n ('straight', 1006),\n ('opening', 1002),\n ('serious', 1002),\n ('coming', 1002),\n ('moment', 1000),\n ('lives', 998),\n ('sad', 998),\n ('dialog', 996),\n ('particularly', 996),\n ('editing', 986),\n ('clearly', 984),\n ('beyond', 982),\n ('earth', 982),\n ('taken', 980),\n ('cool', 980),\n ('level', 978),\n ('dumb', 978),\n ('okay', 976),\n ('major', 974),\n ('fast', 970),\n ('premise', 970),\n ('joke', 968),\n ('stories', 968),\n ('wasted', 966),\n ('minute', 966),\n ('across', 964),\n ('mostly', 964),\n ('rent', 964),\n ('late', 962),\n ('falls', 962),\n ('fails', 962),\n ('mention', 956),\n ('theater', 950),\n ('stay', 944),\n ('sometimes', 944),\n ('hit', 936),\n ('talk', 934),\n ('fine', 934),\n ('die', 932),\n ('storyline', 930),\n ('pointless', 930),\n ('taking', 928),\n ('order', 924),\n ('brother', 922),\n ('whatever', 920),\n ('told', 920),\n ('wish', 916),\n ('room', 912),\n ('career', 910),\n ('appears', 910),\n ('write', 910),\n ('known', 908),\n ('husband', 908),\n ('living', 902),\n ('sit', 900),\n ('ten', 900),\n ('words', 898),\n ('monster', 896),\n ('chance', 896),\n ('hate', 888),\n ('novel', 888),\n ('add', 886),\n ('english', 886),\n ('somehow', 882),\n ('strange', 880),\n ('imdb', 876),\n ('actual', 876),\n ('total', 874),\n ('material', 874),\n ('killing', 874),\n ('ones', 874),\n ('knew', 872),\n ('king', 868),\n ('number', 868),\n ('using', 866),\n ('lee', 862),\n ('power', 862),\n ('shown', 862),\n ('works', 862),\n ('giving', 862),\n ('points', 860),\n ('possibly', 860),\n ('kept', 860),\n ('four', 858),\n ('local', 854),\n ('usual', 852),\n ('including', 850),\n ('problems', 848),\n ('ago', 848),\n ('opinion', 848),\n ('nudity', 846),\n ('age', 844),\n ('due', 842),\n ('roles', 840),\n ('writers', 838),\n ('decided', 838),\n ('near', 836),\n ('flat', 836),\n ('easily', 836),\n ('murder', 834),\n ('experience', 834),\n ('reviews', 832),\n ('imagine', 830),\n ('feels', 826),\n ('plain', 822),\n ('somewhat', 822),\n ('class', 820),\n ('score', 820),\n ('song', 818),\n ('bring', 818),\n ('whether', 818),\n ('otherwise', 816),\n ('whose', 816),\n ('average', 816),\n ('pathetic', 814),\n ('nearly', 814),\n ('knows', 814),\n ('zombies', 814),\n ('cinematography', 812),\n ('cheesy', 812),\n ('upon', 812),\n ('city', 810),\n ('space', 810),\n ('credits', 808),\n ('james', 806),\n ('lots', 806),\n ('change', 806),\n ('entertainment', 804),\n ('nor', 804),\n ('wait', 802),\n ('released', 800),\n ('needs', 798),\n ('shame', 796),\n ('attention', 792),\n ('comments', 788),\n ('bored', 786),\n ('free', 786),\n ('lady', 786),\n ('expected', 784),\n ('needed', 784),\n ('clear', 784),\n ('view', 782),\n ('development', 780),\n ('check', 780),\n ('doubt', 780),\n ('figure', 778),\n ('mystery', 778),\n ('excellent', 776),\n ('garbage', 776),\n ('sequence', 772),\n ('television', 772),\n ('o', 770),\n ('sets', 770),\n ('laughable', 768),\n ('potential', 768),\n ('robert', 764),\n ('light', 764),\n ('country', 764),\n ('documentary', 764),\n ('reality', 764),\n ('general', 762),\n ('ask', 762),\n ('comic', 760),\n ('fall', 760),\n ('begin', 760),\n ('footage', 758),\n ('stand', 758),\n ('forced', 758),\n ('trash', 758),\n ('remake', 758),\n ('thriller', 756),\n ('songs', 756),\n ('gay', 754),\n ('within', 754),\n ('hardly', 752),\n ('above', 750),\n ('gone', 750),\n ('george', 748),\n ('means', 746),\n ('sounds', 746),\n ('directing', 744),\n ('move', 744),\n ('david', 744),\n ('buy', 744),\n ('rock', 742),\n ('forward', 742),\n ('important', 742),\n ('hot', 740),\n ('haven', 740),\n ('filmed', 740),\n ('british', 740),\n ('heart', 738),\n ('reading', 738),\n ('fake', 738),\n ('incredibly', 736),\n ('weird', 736),\n ('hear', 736),\n ('enjoyed', 734),\n ('hilarious', 734),\n ('cop', 734),\n ('musical', 734),\n ('message', 732),\n ('happy', 732),\n ('pay', 732),\n ('laughs', 730),\n ('box', 730),\n ('suspense', 726),\n ('sadly', 726),\n ('eye', 724),\n ('third', 722),\n ('similar', 722),\n ('named', 722),\n ('modern', 720),\n ('failed', 718),\n ('events', 718),\n ('forget', 716),\n ('question', 716),\n ('male', 714),\n ('finds', 714),\n ('perfect', 712),\n ('spent', 710),\n ('sister', 710),\n ('feature', 708),\n ('result', 708),\n ('comment', 706),\n ('girlfriend', 706),\n ('sexual', 704),\n ('attempts', 702),\n ('neither', 702),\n ('richard', 702),\n ('screenplay', 700),\n ('elements', 700),\n ('spoilers', 698),\n ('brain', 696),\n ('filmmakers', 696),\n ('showing', 696),\n ('miss', 694),\n ('dr', 694),\n ('christmas', 694),\n ('cover', 690),\n ('red', 688),\n ('sequences', 688),\n ('typical', 686),\n ('excuse', 686),\n ('crazy', 684),\n ('ideas', 684),\n ('baby', 684),\n ('loved', 682),\n ('meant', 682),\n ('worked', 680),\n ('fire', 680),\n ('unbelievable', 678),\n ('follow', 678),\n ('theme', 674),\n ('barely', 672),\n ('producers', 672),\n ('twist', 672),\n ('plus', 672),\n ('appear', 672),\n ('directors', 670),\n ('team', 670),\n ('viewers', 666),\n ('leads', 664),\n ('tom', 664),\n ('slasher', 664),\n ('wrote', 662),\n ('villain', 662),\n ('gun', 662),\n ('working', 662),\n ('island', 660),\n ('strong', 660),\n ('open', 660),\n ('realize', 660),\n ('positive', 658),\n ('disappointing', 658),\n ('yeah', 658),\n ('quickly', 658),\n ('weren', 656),\n ('release', 656),\n ('simple', 656),\n ('honestly', 656),\n ('eventually', 654),\n ('period', 654),\n ('tells', 654),\n ('kills', 654),\n ('doctor', 654),\n ('nowhere', 652),\n ('list', 652),\n ('acted', 652),\n ('herself', 652),\n ('dog', 652),\n ('walk', 650),\n ('air', 648),\n ('apart', 648),\n ('makers', 646),\n ('subject', 646),\n ('learn', 644),\n ('fi', 644),\n ('sci', 638),\n ('bother', 638),\n ('admit', 638),\n ('jack', 636),\n ('disappointment', 636),\n ('hands', 636),\n ('note', 636),\n ('certain', 634),\n ('e', 634),\n ('value', 634),\n ('casting', 634),\n ('grade', 632),\n ('peter', 632),\n ('suddenly', 630),\n ('missing', 630),\n ('form', 626),\n ('stick', 626),\n ('previous', 626),\n ('break', 626),\n ('soundtrack', 624),\n ('surprised', 622),\n ('front', 622),\n ('expecting', 622),\n ('parents', 620),\n ('surprise', 620),\n ('relationship', 620),\n ('shoot', 618),\n ('today', 618),\n ('painful', 616),\n ('ways', 616),\n ('leaves', 616),\n ('ended', 616),\n ('creepy', 616),\n ('concept', 616),\n ('somewhere', 616),\n ('vampire', 616),\n ('spend', 614),\n ('th', 614),\n ('future', 612),\n ('difficult', 612),\n ('effect', 612),\n ('fighting', 612),\n ('street', 612),\n ('c', 610),\n ('america', 610),\n ('accent', 608),\n ('truth', 604),\n ('project', 604),\n ('joe', 602),\n ('f', 602),\n ('deal', 602),\n ('indeed', 602),\n ('biggest', 600),\n ('rate', 600),\n ('paul', 598),\n ('japanese', 598),\n ('utterly', 596),\n ('begins', 596),\n ('redeeming', 596),\n ('college', 596),\n ('york', 594),\n ('fairly', 594),\n ('disney', 594),\n ('crew', 592),\n ('create', 592),\n ('cartoon', 592),\n ('revenge', 592),\n ('co', 590),\n ('outside', 590),\n ('computer', 590),\n ('interested', 590),\n ('stage', 590),\n ('considering', 588),\n ('speak', 588),\n ('among', 588),\n ('towards', 586),\n ('channel', 586),\n ('sick', 586),\n ('talented', 584),\n ('cause', 584),\n ('particular', 584),\n ('van', 584),\n ('hair', 584),\n ('bottom', 582),\n ('reasons', 582),\n ('mediocre', 580),\n ('cat', 580),\n ('telling', 580),\n ('supporting', 578),\n ('store', 578),\n ('hoping', 576),\n ('waiting', 576),\n ...]"
     },
     "metadata": {},
     "execution_count": 50
    }
   ],
   "source": [
    "# Examine the counts of the most common words in negative reviews\n",
    "negative_counts.most_common()"
   ]
  },
  {
   "cell_type": "markdown",
   "metadata": {},
   "source": [
    "As you can see, common words like \"the\" appear very often in both positive and negative reviews. Instead of finding the most common words in positive or negative reviews, what you really want are the words found in positive reviews more often than in negative reviews, and vice versa. To accomplish this, you'll need to calculate the **ratios** of word usage between positive and negative reviews.\n",
    "\n",
    "**TODO:** Check all the words you've seen and calculate the ratio of postive to negative uses and store that ratio in `pos_neg_ratios`. \n",
    ">Hint: the positive-to-negative ratio for a given word can be calculated with `positive_counts[word] / float(negative_counts[word]+1)`. Notice the `+1` in the denominator – that ensures we don't divide by zero for words that are only seen in positive reviews."
   ]
  },
  {
   "cell_type": "code",
   "execution_count": 51,
   "metadata": {
    "collapsed": true
   },
   "outputs": [],
   "source": [
    "# Create Counter object to store positive/negative ratios\n",
    "pos_neg_ratios = Counter()\n",
    "\n",
    "# TODO: Calculate the ratios of positive and negative uses of the most common words\n",
    "#       Consider words to be \"common\" if they've been used at least 100 times\n",
    "\n",
    "for term, cnt in list(total_counts.most_common()):\n",
    "    if (cnt > 100):\n",
    "        pos_neg_ratio = positive_counts[term] / float(negative_counts[term]+1)\n",
    "        pos_neg_ratios[term] = pos_neg_ratio"
   ]
  },
  {
   "cell_type": "markdown",
   "metadata": {},
   "source": [
    "Examine the ratios you've calculated for a few words:"
   ]
  },
  {
   "cell_type": "code",
   "execution_count": 52,
   "metadata": {
    "collapsed": true
   },
   "outputs": [
    {
     "output_type": "stream",
     "name": "stdout",
     "text": "Pos-to-neg ratio for 'the' = 1.060802560752068\nPos-to-neg ratio for 'amazing' = 4.0304761904761905\nPos-to-neg ratio for 'terrible' = 0.17750628817822495\n"
    }
   ],
   "source": [
    "print(\"Pos-to-neg ratio for 'the' = {}\".format(pos_neg_ratios[\"the\"]))\n",
    "print(\"Pos-to-neg ratio for 'amazing' = {}\".format(pos_neg_ratios[\"amazing\"]))\n",
    "print(\"Pos-to-neg ratio for 'terrible' = {}\".format(pos_neg_ratios[\"terrible\"]))"
   ]
  },
  {
   "cell_type": "markdown",
   "metadata": {},
   "source": [
    "Looking closely at the values you just calculated, we see the following:\n",
    "\n",
    "* Words that you would expect to see more often in positive reviews – like \"amazing\" – have a ratio greater than 1. The more skewed a word is toward postive, the farther from 1 its positive-to-negative ratio  will be.\n",
    "* Words that you would expect to see more often in negative reviews – like \"terrible\" – have positive values that are less than 1. The more skewed a word is toward negative, the closer to zero its positive-to-negative ratio will be.\n",
    "* Neutral words, which don't really convey any sentiment because you would expect to see them in all sorts of reviews – like \"the\" – have values very close to 1. A perfectly neutral word – one that was used in exactly the same number of positive reviews as negative reviews – would be almost exactly 1. The `+1` we suggested you add to the denominator slightly biases words toward negative, but it won't matter because it will be a tiny bias and later we'll be ignoring words that are too close to neutral anyway.\n",
    "\n",
    "Ok, the ratios tell us which words are used more often in postive or negative reviews, but the specific values we've calculated are a bit difficult to work with. A very positive word like \"amazing\" has a value above 4, whereas a very negative word like \"terrible\" has a value around 0.18. Those values aren't easy to compare for a couple of reasons:\n",
    "\n",
    "* Right now, 1 is considered neutral, but the absolute value of the postive-to-negative rations of very postive words is larger than the absolute value of the ratios for the very negative words. So there is no way to directly compare two numbers and see if one word conveys the same magnitude of positive sentiment as another word conveys negative sentiment. So we should center all the values around netural so the absolute value fro neutral of the postive-to-negative ratio for a word would indicate how much sentiment (positive or negative) that word conveys.\n",
    "* When comparing absolute values it's easier to do that around zero than one. \n",
    "\n",
    "To fix these issues, we'll convert all of our ratios to new values using logarithms.\n",
    "\n",
    "**TODO:** Go through all the ratios you calculated and convert them to logarithms. (i.e. use `np.log(ratio)`)\n",
    "\n",
    "In the end, extremely positive and extremely negative words will have positive-to-negative ratios with similar magnitudes but opposite signs."
   ]
  },
  {
   "cell_type": "code",
   "execution_count": 53,
   "metadata": {
    "collapsed": true
   },
   "outputs": [],
   "source": [
    "# TODO: Convert ratios to logs\n",
    "for word, ratio in pos_neg_ratios.most_common():\n",
    "    pos_neg_ratios[word] = np.log(ratio)"
   ]
  },
  {
   "cell_type": "markdown",
   "metadata": {},
   "source": [
    "Examine the new ratios you've calculated for the same words from before:"
   ]
  },
  {
   "cell_type": "code",
   "execution_count": 54,
   "metadata": {
    "collapsed": true
   },
   "outputs": [
    {
     "output_type": "stream",
     "name": "stdout",
     "text": "Pos-to-neg ratio for 'the' = 0.05902575442851183\nPos-to-neg ratio for 'amazing' = 1.3938845303865663\nPos-to-neg ratio for 'terrible' = -1.7287492443379682\n"
    }
   ],
   "source": [
    "print(\"Pos-to-neg ratio for 'the' = {}\".format(pos_neg_ratios[\"the\"]))\n",
    "print(\"Pos-to-neg ratio for 'amazing' = {}\".format(pos_neg_ratios[\"amazing\"]))\n",
    "print(\"Pos-to-neg ratio for 'terrible' = {}\".format(pos_neg_ratios[\"terrible\"]))"
   ]
  },
  {
   "cell_type": "markdown",
   "metadata": {},
   "source": [
    "If everything worked, now you should see neutral words with values close to zero. In this case, \"the\" is near zero but slightly positive, so it was probably used in more positive reviews than negative reviews. But look at \"amazing\"'s ratio - it's above `1`, showing it is clearly a word with positive sentiment. And \"terrible\" has a similar score, but in the opposite direction, so it's below `-1`. It's now clear that both of these words are associated with specific, opposing sentiments.\n",
    "\n",
    "Now run the following cells to see more ratios. \n",
    "\n",
    "The first cell displays all the words, ordered by how associated they are with positive reviews. (Your notebook will most likely truncate the output so you won't actually see *all* the words in the list.)\n",
    "\n",
    "The second cell displays the 30 words most associated with negative reviews by reversing the order of the first list and then looking at the first 30 words. (If you want the second cell to display all the words, ordered by how associated they are with negative reviews, you could just write `reversed(pos_neg_ratios.most_common())`.)\n",
    "\n",
    "You should continue to see values similar to the earlier ones we checked – neutral words will be close to `0`, words will get more positive as their ratios approach and go above `1`, and words will get more negative as their ratios approach and go below `-1`. That's why we decided to use the logs instead of the raw ratios."
   ]
  },
  {
   "cell_type": "code",
   "execution_count": 55,
   "metadata": {},
   "outputs": [
    {
     "output_type": "execute_result",
     "data": {
      "text/plain": "5.384495062789089"
     },
     "metadata": {},
     "execution_count": 55
    }
   ],
   "source": [
    "pos_neg_ratios[\"edie\"]"
   ]
  },
  {
   "cell_type": "code",
   "execution_count": 56,
   "metadata": {
    "collapsed": true
   },
   "outputs": [
    {
     "output_type": "execute_result",
     "data": {
      "text/plain": "99982777),\n ('fabulous', 1.132513840343791),\n ('irene', 1.132513840343791),\n ('lola', 1.132513840343791),\n ('caron', 1.132513840343791),\n ('corruption', 1.1320602227356498),\n ('ned', 1.1317644959850102),\n ('realities', 1.13036098698269),\n ('emma', 1.128465251817791),\n ('smooth', 1.1247234326717954),\n ('sensitive', 1.1244917366559304),\n ('newman', 1.1239300966523995),\n ('dramas', 1.122479770074753),\n ('simplicity', 1.120591195386885),\n ('shelley', 1.119665697865942),\n ('inspiring', 1.1134273744532504),\n ('arkin', 1.110882381259924),\n ('owl', 1.110882381259924),\n ('isolation', 1.1100409844917325),\n ('packs', 1.1100409844917325),\n ('dazzling', 1.1093075777848576),\n ('contribution', 1.1093075777848576),\n ('helps', 1.107880195598891),\n ('beatles', 1.1075809586508703),\n ('vader', 1.1075809586508703),\n ('wwe', 1.1071229783360184),\n ('deniro', 1.1067094989007291),\n ('today', 1.1066573843529413),\n ('warmth', 1.10633433476202),\n ('tends', 1.10633433476202),\n ('june', 1.1059923959657323),\n ('thoughtful', 1.1053919756534885),\n ('stellar', 1.1051269696893034),\n ('jimmy', 1.1010424235214014),\n ('awesome', 1.0972396048561375),\n ('rival', 1.0944885714842476),\n ('depression', 1.093470889167691),\n ('shy', 1.0933072364384164),\n ('carrie', 1.0929465511324323),\n ('tragic', 1.0928816139591246),\n ('intense', 1.092815170983784),\n ('blend', 1.0927471692157116),\n ('hank', 1.092303119474845),\n ('diana', 1.0920548881219507),\n ('adorable', 1.0920548881219507),\n ('affect', 1.0914948208992457),\n ('unique', 1.091270881809742),\n ('intimate', 1.0911773101805917),\n ('poem', 1.0908301482260547),\n ('renaissance', 1.0895624531481918),\n ('prominent', 1.089042837651959),\n ('rounded', 1.089042837651959),\n ('mitch', 1.0884599172040916),\n ('fishburne', 1.0884599172040916),\n ('macabre', 1.087801372563894),\n ('vintage', 1.0870514662670339),\n ('psyche', 1.0861897686695525),\n ('provides', 1.085341951747213),\n ('achievement', 1.0826119473216687),\n ('unexpected', 1.0800687109559406),\n ('glorious', 1.0795640936974151),\n ('bettie', 1.0783276174966039),\n ('dub', 1.077993001465374),\n ('happiness', 1.0737442220900963),\n ('esther', 1.072636802264849),\n ('wilder', 1.0712133144799951),\n ('ideal', 1.0666606888615073),\n ('terrifying', 1.0661268335236214),\n ('enhanced', 1.0658224658451187),\n ('lena', 1.0653866410397892),\n ('collette', 1.0635209688568397),\n ('cliffhanger', 1.0635209688568397),\n ('fassbinder', 1.0635209688568397),\n ('fears', 1.062054692934312),\n ('wider', 1.0608719606852626),\n ('davis', 1.0596101308648405),\n ('palance', 1.057112557761357),\n ('laurence', 1.054937225165448),\n ('hong', 1.053854388026616),\n ('beauty', 1.0533556970799889),\n ('oldest', 1.0525211814678428),\n ('muppets', 1.0525211814678428),\n ('sandra', 1.0517809889840106),\n ('seasons', 1.0514468202256797),\n ('definite', 1.0481814350412177),\n ('restored', 1.0476921982408527),\n ('startling', 1.0467872208035236),\n ('gable', 1.0467872208035236),\n ('bloom', 1.0467872208035236),\n ('subtly', 1.0467872208035236),\n ('fascinating', 1.0463678896305901),\n ('carries', 1.04628646966637),\n ('waitress', 1.0453677741492975),\n ('der', 1.0453677741492975),\n ('satisfying', 1.0409331770814316),\n ('touched', 1.0407927177792835),\n ('difficulties', 1.0400181244020568),\n ('kansas', 1.0400181244020568),\n ('robinson', 1.0354333870465782),\n ('bands', 1.0354333870465782),\n ('goodman', 1.034896474282002),\n ('artistry', 1.034896474282002),\n ('aunt', 1.0343179379627125),\n ('rhythm', 1.0334729864971484),\n ('creates', 1.031831807464099),\n ('walter', 1.0308396735863876),\n ('enterprise', 1.0296194171811581),\n ('authorities', 1.0296194171811581),\n ('thrilled', 1.0296194171811581),\n ('boyer', 1.0296194171811581),\n ('greatest', 1.0274360102002147),\n ('spectacular', 1.0274360102002147),\n ('nominations', 1.0252810155825602),\n ('portrayal', 1.0226915983726381),\n ('musicals', 1.0203600917683615),\n ('fragile', 1.0203600917683615),\n ('nightclub', 1.0203600917683615),\n ('miranda', 1.0203600917683615),\n ('ann', 1.0192955338395222),\n ('gillian', 1.0185695809945732),\n ('mature', 1.016276002007474),\n ('deeply', 1.0153154290828954),\n ('diverse', 1.0147308046874077),\n ('sang', 1.0147308046874077),\n ('comparisons', 1.0140549006400466),\n ('passionate', 1.0133147081562146),\n ('triumph', 1.0130901152299476),\n ('margaret', 1.0130901152299476),\n ('incredible', 1.0094845087721023),\n ('navy', 1.0063625550168909),\n ('vulnerable', 1.0060195018402847),\n ('lucas', 1.0033021088637848),\n ('galaxy', 1.0033021088637848),\n ('limitations', 1.0033021088637848),\n ('wonderland', 1.0033021088637848),\n ('joey', 1.0023354582326898),\n ('balance', 0.9979236863710262),\n ('eugene', 0.9973585549629369),\n ('seymour', 0.9968295943581673),\n ('pierre', 0.9968295943581673),\n ('harry', 0.9957772144475994),\n ('vengeance', 0.995428052432879),\n ('carrey', 0.9948154949864662),\n ('ingenious', 0.9942522733438669),\n ('cher', 0.9942522733438669),\n ('widow', 0.993901334579079),\n ('guilt', 0.9937326578476341),\n ('glover', 0.9937326578476341),\n ('warm', 0.9929506135440711),\n ('sweet', 0.9928921254610014),\n ('brazil', 0.9926637106587292),\n ('ages', 0.9918790891983111),\n ('recognition', 0.9909816244757442),\n ('essence', 0.9907795838648943),\n ('sons', 0.9900459081166503),\n ('awe', 0.9898790885316442),\n ('immigrant', 0.9894129967031178),\n ('dynamics', 0.9894129967031178),\n ('oscar', 0.9893580893592466),\n ('eleven', 0.9879467207805901),\n ('conrad', 0.9879467207805901),\n ('learns', 0.9869082990881085),\n ('provocative', 0.9869082990881085),\n ('inventive', 0.9855351440491389),\n ('sport', 0.9850575891212473),\n ('eerie', 0.9840707469358971),\n ('unusual', 0.9837834649091577),\n ('holmes', 0.9836343039393348),\n ('complex', 0.981901639173479),\n ('destiny', 0.9808292530117262),\n ('pokemon', 0.9808292530117262),\n ('convincingly', 0.9808292530117262),\n ('integrity', 0.9808292530117262),\n ('pirate', 0.9808292530117262),\n ('solid', 0.9790094162947403),\n ('lonely', 0.9783991181584345),\n ('grim', 0.9783991181584345),\n ('vhs', 0.9775982324302798),\n ('relax', 0.974998332700933),\n ('thrillers', 0.9747869385557637),\n ('beautiful', 0.9741008844830417),\n ('ricky', 0.9727320427791069),\n ('ginger', 0.9723185633438176),\n ('debut', 0.9720495653596803),\n ('facing', 0.9713505090571825),\n ('poetic', 0.9713505090571825),\n ('rosemary', 0.968559160419912),\n ('cox', 0.9670359308793903),\n ('judd', 0.9664405155596266),\n ('willis', 0.9660141672265856),\n ('tears', 0.9653468888633492),\n ('stanley', 0.9645687321399459),\n ('hooked', 0.964462275547521),\n ('comfortable', 0.9642999510605156),\n ('rose', 0.964022134695345),\n ('compassion', 0.964022134695345),\n ('july', 0.963437510299857),\n ('detroit', 0.963437510299857),\n ('nolte', 0.9614111671546247),\n ('mistress', 0.9602099658089904),\n ('feelings', 0.9600672615632971),\n ('winning', 0.959886079166483),\n ('laurie', 0.9578397347870274),\n ('jules', 0.9578397347870274),\n ('paris', 0.9572193873725925),\n ('heart', 0.9537403344951817),\n ('mgm', 0.9534302788236119),\n ('keen', 0.9534302788236119),\n ('mirrors', 0.9534302788236119),\n ('raymond', 0.9509762898620452),\n ('nomination', 0.9484938723687899),\n ('arranged', 0.9480394301887354),\n ('perry', 0.9476770456948257),\n ('mysteries', 0.9463430769405569),\n ('hal', 0.9463430769405569),\n ('themes', 0.9453988160322258),\n ('danny', 0.9450620291530951),\n ('masterpiece', 0.9444616088408515),\n ('lovable', 0.9430889250288792),\n ('blunt', 0.9423629721839302),\n ('hara', 0.9416085398584451),\n ('spinal', 0.9416085398584451),\n ('anime', 0.9411639966192947),\n ('joy', 0.9390598401354312),\n ('casablanca', 0.9367692632176958),\n ('louis', 0.9365564293337381),\n ('attitudes', 0.9357088177312566),\n ('leo', 0.9343092373768334),\n ('minnelli', 0.9343092373768334),\n ('lifestyle', 0.9330978501905363),\n ('urban', 0.9329732318340911),\n ('gradually', 0.9311058176592958),\n ('charming', 0.9289444176427145),\n ('allows', 0.9287995815658638),\n ('italy', 0.9277194276977778),\n ('kennedy', 0.926078738240318),\n ('subsequent', 0.9249487946172696),\n ('impact', 0.9228419953613768),\n ('courtroom', 0.9227216222044455),\n ('youthful', 0.9219887529887928),\n ('natured', 0.9219887529887928),\n ('painter', 0.9219887529887928),\n ('spy', 0.9214058325409255),\n ('guinness', 0.9214058325409255),\n ('doubts', 0.9205370227556061),\n ('unpredictable', 0.9205370227556061),\n ('winter', 0.9188191782275138),\n ('treat', 0.9173830312727641),\n ('loving', 0.9151851485664054),\n ('surprising', 0.9151339937463314),\n ('reveals', 0.9143841536035735),\n ('raw', 0.9143085706701638),\n ('pleased', 0.9135472459284043),\n ('norman', 0.9135472459284043),\n ('secrets', 0.913209065336747),\n ('highest', 0.9130066566729652),\n ('quiet', 0.9126029587949702),\n ('iconic', 0.9114007465799633),\n ('cope', 0.9114007465799633),\n ('mutual', 0.9108706644048158),\n ('voyage', 0.9102116857977729),\n ('combines', 0.9102116857977729),\n ('goods', 0.9102116857977729),\n ('downs', 0.9102116857977729),\n ('thief', 0.9096754927554359),\n ('colorful', 0.9090355609929832),\n ('danes', 0.9072951689655772),\n ('funniest', 0.9056058317741387),\n ('lively', 0.9044562742271522),\n ('reflection', 0.9034425893963061),\n ('kudos', 0.9024974097418192),\n ('bleak', 0.9016919324530023),\n ('todd', 0.9007865453381899),\n ('christie', 0.9007865453381899),\n ('season', 0.900506864172893),\n ('compelling', 0.8991035154878968),\n ('colours', 0.8989992347640942),\n ('fatale', 0.8989992347640942),\n ('moody', 0.8985911547747542),\n ('romances', 0.8967461358011849),\n ('nuances', 0.8967461358011849),\n ('subtitles', 0.8962718649836631),\n ('palace', 0.8956714446714195),\n ('troubles', 0.8956714446714195),\n ('baseball', 0.8952713646500796),\n ('castle', 0.8947403853126118),\n ('winner', 0.8938178760220965),\n ('portrayals', 0.8915981192837835),\n ('tragedy', 0.8903651319790986),\n ('walt', 0.8888917576860407),\n ('belushi', 0.888455932880711),\n ('great', 0.8882940491647903),\n ('fonda', 0.8882077631313297),\n ('woo', 0.8860508466844369),\n ('seldom', 0.8860508466844369),\n ('establish', 0.8855190732074014),\n ('jewel', 0.8855190732074014),\n ('nicely', 0.8849474813084438),\n ('essential', 0.8842024173226545),\n ('eastwood', 0.8836655045580785),\n ('muppet', 0.8831907834478102),\n ('focuses', 0.8801307504597112),\n ('arthur', 0.8800245538897606),\n ('departure', 0.8797331361403574),\n ('differently', 0.8797331361403574),\n ('lasting', 0.8797331361403574),\n ('intensity', 0.8790465587017839),\n ('gorgeous', 0.8777702343421792),\n ('worlds', 0.8754687373538999),\n ('paranoia', 0.8754687373538999),\n ('celebration', 0.8754687373538999),\n ('crisp', 0.8754687373538999),\n ('witty', 0.8744330044803678),\n ('natural', 0.873635556272239),\n ('health', 0.8734090043908893),\n ('despair', 0.8721954120089308),\n ('enjoyed', 0.8720615790322855),\n ('rob', 0.8709844249065714),\n ('darth', 0.8700778887190236),\n ('debra', 0.8700778887190236),\n ('magical', 0.8681959780248202),\n ('deeper', 0.8675005677047231),\n ('lucy', 0.866658107671745),\n ('inspirational', 0.8664189018339821),\n ('drake', 0.8659899933993561),\n ('purple', 0.865759923226939),\n ('nicole', 0.861769892995738),\n ('optimistic', 0.8602012652231116),\n ('sings', 0.8584711609853288),\n ('bates', 0.858226930919394),\n ('trials', 0.858226930919394),\n ('niece', 0.858226930919394),\n ('moving', 0.857628819225569),\n ('craig', 0.857035035665062),\n ('modesty', 0.857035035665062),\n ('lovely', 0.8568511783378296),\n ('amazon', 0.8567766043417474),\n ('quaid', 0.8567766043417474),\n ('deliberate', 0.8513711857748395),\n ('subway', 0.8513711857748395),\n ('worms', 0.8513711857748395),\n ('carey', 0.8507761247635284),\n ('lukas', 0.8507761247635284),\n ('memorable', 0.8505150213389792),\n ('relate', 0.8503327640823577),\n ('appreciation', 0.849989652052915),\n ('morris', 0.8497162412514853),\n ('tear', 0.8490175512667303),\n ('disagree', 0.8454879051419641),\n ('episodes', 0.8440054678981148),\n ('weaknesses', 0.843970070294529),\n ('acceptance', 0.843970070294529),\n ('marvel', 0.843970070294529),\n ('christina', 0.8434293836092832),\n ('spine', 0.8434293836092832),\n ('strong', 0.8431830738559312),\n ('smith', 0.8429594587886053),\n ('informative', 0.8426789145309092),\n ('princess', 0.8412773726056207),\n ('hart', 0.8404718953168039),\n ('icon', 0.838858991741339),\n ('kung', 0.8385130308314708),\n ('apartment', 0.8381973425566682),\n ('dave', 0.8371865507828831),\n ('jake', 0.836935073351657),\n ('obtain', 0.8362480242006185),\n ('adventure', 0.8347366345142304),\n ('columbo', 0.8346467428336447),\n ('achieves', 0.8342257788198509),\n ('duel', 0.8342257788198509),\n ('whites', 0.8342257788198509),\n ('gibson', 0.8342257788198509),\n ('arrival', 0.8337291311811347),\n ('smiling', 0.8337291311811347),\n ('widely', 0.8337291311811347),\n ('forbidden', 0.8335045382548677),\n ('realizes', 0.8318305680938959),\n ('strength', 0.830864431117146),\n ('adds', 0.829722715565696),\n ('towers', 0.829722715565696),\n ('manager', 0.8279664033688966),\n ('tight', 0.8278040657062025),\n ('childhood', 0.8266785731844679),\n ('dancer', 0.8266785731844679),\n ('embrace', 0.8266785731844679),\n ('jealousy', 0.8266785731844679),\n ('melvyn', 0.8266785731844679),\n ('crippled', 0.8266785731844679),\n ('surreal', 0.8256938365219284),\n ('widescreen', 0.8237673629770095),\n ('confident', 0.8237673629770095),\n ('understands', 0.8237673629770095),\n ('businessman', 0.8217645583820389),\n ('explicit', 0.8215283472081522),\n ('miike', 0.8204866029365468),\n ('studios', 0.8198988861990891),\n ('con', 0.8198988861990891),\n ('residents', 0.8198988861990891),\n ('carl', 0.8191879014553103),\n ('martha', 0.8183103235139513),\n ('challenges', 0.8183103235139513),\n ('brendan', 0.8183103235139513),\n ('kurt', 0.8170166622727311),\n ('abc', 0.8152498773608452),\n ('miniseries', 0.81377516834856),\n ('carmen', 0.81377516834856),\n ('approaches', 0.81377516834856),\n ('straightforward', 0.8132914924020085),\n ('servant', 0.8132914924020085),\n ('teaches', 0.8132914924020085),\n ('dances', 0.8126923312097281),\n ('eyre', 0.8124939381925116),\n ('touches', 0.8118047243612613),\n ('traditional', 0.8116287841804688),\n ('deals', 0.8116287841804688),\n ('holds', 0.8103294351829385),\n ('realistic', 0.8102161854826718),\n ('sides', 0.8097840842857061),\n ('develops', 0.8096809968158969),\n ('gene', 0.808978996085067),\n ('albert', 0.8088831325946039),\n ('feat', 0.8082165103447326),\n ('dudley', 0.8082165103447326),\n ('wax', 0.8082165103447326),\n ('invention', 0.8075575317376894),\n ('instincts', 0.8075575317376894),\n ('otto', 0.8075575317376894),\n ('oscars', 0.8072604873273663),\n ('importance', 0.8069060659166033),\n ('waters', 0.8059426747052896),\n ('legendary', 0.8043728156701697),\n ('antonioni', 0.8043728156701697),\n ('cry', 0.8041597096491182),\n ('empire', 0.8036890549597692),\n ('paintings', 0.8031480757742738),\n ('hearted', 0.8020983643485001),\n ('disappoint', 0.8017810215627407),\n ('delighted', 0.8013607652001781),\n ('portraying', 0.800633095530085),\n ('styles', 0.7999151559856514),\n ('daring', 0.7999151559856514),\n ('backgrounds', 0.7985076962177716),\n ('matches', 0.7985076962177716),\n ('shares', 0.7985076962177716),\n ('conventions', 0.7985076962177716),\n ('environment', 0.7975898439275427),\n ('sentimental', 0.7974081908843548),\n ('impressed', 0.7971368940839929),\n ('separated', 0.7958013346200287),\n ('offbeat', 0.7958013346200287),\n ('astounding', 0.7958013346200287),\n ('principle', 0.7958013346200287),\n ('shared', 0.7942432974313142),\n ('boxer', 0.7942432974313142),\n ('attenborough', 0.7942432974313142),\n ('gothic', 0.7937907063396328),\n ('edge', 0.7934037842995957),\n ('tense', 0.7932306391169279),\n ('jean', 0.793013176900131),\n ('captured', 0.7923538306433934),\n ('achieved', 0.7915872533731978),\n ('scarface', 0.7907856501238614),\n ('des', 0.7907856501238614),\n ('desires', 0.790310929013593),\n ('sharp', 0.7891618337995339),\n ('court', 0.7877057631849579),\n ('steals', 0.786404674046528),\n ('frank', 0.7862376036259573),\n ('rules', 0.7853176403596024),\n ('colors', 0.7848143690857692),\n ('forms', 0.7841189587656721),\n ('reunion', 0.7836611881007772),\n ('covers', 0.7830954172228849),\n ('marries', 0.7820946665764414),\n ('blob', 0.780158557549575),\n ('rooney', 0.780158557549575),\n ('truths', 0.780158557549575),\n ('stern', 0.780158557549575),\n ('denzel', 0.7792217893311882),\n ('stages', 0.7783049889002521),\n ('boston', 0.7783049889002521),\n ('stays', 0.7765287894989963),\n ('conventional', 0.7765287894989963),\n ('rain', 0.7762137792585588),\n ('commitment', 0.7753852787969173),\n ('realization', 0.7753852787969173),\n ('landscape', 0.7721355918785757),\n ('tale', 0.7721102243667467),\n ('museum', 0.7719280584130597),\n ('aids', 0.7719280584130597),\n ('sung', 0.7716187960014406),\n ('maria', 0.7711087220296572),\n ('classy', 0.7711087220296572),\n ('toby', 0.7711087220296572),\n ('midnight', 0.7697804065808612),\n ('comfort', 0.7686547330680904),\n ('immensely', 0.7672551527136672),\n ('spring', 0.7663505845832402),\n ('cagney', 0.7663505845832402),\n ('testament', 0.7659065348423736),\n ('attend', 0.7659065348423736),\n ('fresh', 0.7657597135236546),\n ('titanic', 0.7648910854187866),\n ('sunday', 0.7648910854187866),\n ('nations', 0.7637647477738987),\n ('seeks', 0.7633514392331938),\n ('domestic', 0.7633514392331938),\n ('animated', 0.7607206053926704),\n ('bondage', 0.7605884613554778),\n ('sir', 0.7592869830644903),\n ('difficulty', 0.7576857016975165),\n ('nevertheless', 0.7572717087294839),\n ('nowadays', 0.7565167944925345),\n ('driven', 0.7564594599742722),\n ('christine', 0.7550225842780328),\n ('enjoyable', 0.7543173263656877),\n ('leslie', 0.7543016037132759),\n ('memories', 0.7527854468796765),\n ('unfold', 0.7525706010307461),\n ('obstacles', 0.7519876805828787),\n ('enigmatic', 0.7519876805828787),\n ('dominic', 0.7519876805828787),\n ('golden', 0.7513031007170193),\n ('packed', 0.750855498180592),\n ('lovers', 0.750305594399894),\n ('fathers', 0.750305594399894),\n ('che', 0.7498999971523947),\n ('performances', 0.7496875914803649),\n ('influenced', 0.7495001171110771),\n ('florida', 0.7495001171110771),\n ('strikes', 0.7490276389544019),\n ('remembers', 0.7487170317147561),\n ('document', 0.7487170317147561),\n ('strict', 0.7487170317147561),\n ('anthology', 0.7487170317147561),\n ('retired', 0.7482069577429727),\n ('simple', 0.7479351225821393),\n ('secretary', 0.7478055930978093),\n ('provoking', 0.7477061648103797),\n ('relationship', 0.7464513342617185),\n ('trek', 0.7462570058738937),\n ('polished', 0.7462570058738937),\n ('willie', 0.7462570058738937),\n ('depiction', 0.7457909140453672),\n ('intricate', 0.7457909140453672),\n ('supporting', 0.745303660154307),\n ('elderly', 0.7437909133787003),\n ('bruno', 0.7431576011346067),\n ('magician', 0.7431576011346067),\n ('kent', 0.7407752295491999),\n ('germany', 0.7396671961948382),\n ('faults', 0.7396671961948382),\n ('emotional', 0.7391322938017687),\n ('knightley', 0.7386095546367027),\n ('blues', 0.738267615840415),\n ('lewis', 0.7368699915737769),\n ('casual', 0.7366322924996842),\n ('slimy', 0.7366322924996842),\n ('bears', 0.7361645656436362),\n ('prejudice', 0.7348198769605134),\n ('brings', 0.733871370786514),\n ('owner', 0.7332671743493707),\n ('china', 0.7329930891071451),\n ('bugs', 0.7327563186549911),\n ('portrays', 0.7326259915337328),\n ('streets', 0.7323678937132266),\n ('anger', 0.7323678937132266),\n ('verhoeven', 0.7313683933801429),\n ('henry', 0.7301884522402944),\n ('whoopi', 0.7288652631620246),\n ('showdown', 0.7288652631620246),\n ('album', 0.7288652631620246),\n ('available', 0.728102195593522),\n ('society', 0.7265951146274854),\n ('advanced', 0.726483600827537),\n ('endearing', 0.7255824563130993),\n ('waves', 0.7254080427781668),\n ('donald', 0.7246458476193163),\n ('best', 0.7237090325736115),\n ('unsettling', 0.7234525300552741),\n ('elephant', 0.7234525300552741),\n ('delivers', 0.722747650336236),\n ('march', 0.7225610657662387),\n ('greatly', 0.7224175628600585),\n ('magic', 0.7220416465596603),\n ('controlling', 0.7213180575266416),\n ('clerk', 0.7213180575266416),\n ('moss', 0.7213180575266416),\n ('jim', 0.7209696861592445),\n ('cutter', 0.7198154276421066),\n ('brad', 0.7188996766623601),\n ('victorian', 0.7184649885442351),\n ('readers', 0.7184649885442351),\n ('glued', 0.7184649885442351),\n ('relationships', 0.7181484827653625),\n ...]"
     },
     "metadata": {},
     "execution_count": 56
    }
   ],
   "source": [
    "# words most frequently seen in a review with a \"POSITIVE\" label\n",
    "pos_neg_ratios.most_common()"
   ]
  },
  {
   "cell_type": "code",
   "execution_count": 57,
   "metadata": {
    "collapsed": true
   },
   "outputs": [
    {
     "output_type": "execute_result",
     "data": {
      "text/plain": "[('boll', -4.966335035199676),\n ('uwe', -4.620058798481842),\n ('thunderbirds', -4.119037174812472),\n ('beowulf', -4.102643365036796),\n ('dahmer', -3.979681653901961),\n ('wayans', -3.9219733362813143),\n ('seagal', -3.6408702349275757),\n ('gamera', -3.3232358401924436),\n ('dreck', -3.264486336120253),\n ('unwatchable', -3.253277251585533),\n ('stinker', -3.2037621870581527),\n ('mst', -2.9473586892697754),\n ('incoherent', -2.933096702562506),\n ('flimsy', -2.917770732084279),\n ('dillinger', -2.8233610476132043),\n ('yawn', -2.810907586541918),\n ('unfunny', -2.6902455764687034),\n ('waste', -2.6190165787318125),\n ('ugh', -2.6119063405493077),\n ('turd', -2.6119063405493077),\n ('blah', -2.5676928434072877),\n ('slugs', -2.5552874465498),\n ('tripe', -2.4918270926325743),\n ('horrid', -2.480266270231498),\n ('wtf', -2.4765384001174837),\n ('pointless', -2.4542326426031855),\n ('atrocious', -2.4231420555331544),\n ('damme', -2.404367787303988),\n ('redeeming', -2.366565422657453),\n ('prom', -2.356125859922076)]"
     },
     "metadata": {},
     "execution_count": 57
    }
   ],
   "source": [
    "# words most frequently seen in a review with a \"NEGATIVE\" label\n",
    "list(reversed(pos_neg_ratios.most_common()))[0:30]\n",
    "\n",
    "# Note: Above is the code Andrew uses in his solution video, \n",
    "#       so we've included it here to avoid confusion.\n",
    "#       If you explore the documentation for the Counter class, \n",
    "#       you will see you could also find the 30 least common\n",
    "#       words like this: pos_neg_ratios.most_common()[:-31:-1]"
   ]
  },
  {
   "cell_type": "markdown",
   "metadata": {},
   "source": [
    "# End of Project 1. \n",
    "## Watch the next video to see Andrew's solution, then continue on to the next lesson.\n",
    "\n",
    "# Transforming Text into Numbers<a id='lesson_3'></a>\n",
    "The cells here include code Andrew shows in the next video. We've included it so you can run the code along with the video without having to type in everything."
   ]
  },
  {
   "cell_type": "code",
   "execution_count": 58,
   "metadata": {
    "collapsed": true
   },
   "outputs": [
    {
     "output_type": "execute_result",
     "data": {
      "image/png": "[encoded data removed]",
      "text/plain": "<IPython.core.display.Image object>"
     },
     "metadata": {},
     "execution_count": 58
    }
   ],
   "source": [
    "from IPython.display import Image\n",
    "\n",
    "review = \"This was a horrible, terrible movie.\"\n",
    "\n",
    "Image(filename='sentiment_network.png')"
   ]
  },
  {
   "cell_type": "code",
   "execution_count": 59,
   "metadata": {
    "collapsed": true
   },
   "outputs": [
    {
     "output_type": "execute_result",
     "data": {
      "image/png": "[encoded data removed]",
      "text/plain": "<IPython.core.display.Image object>"
     },
     "metadata": {},
     "execution_count": 59
    }
   ],
   "source": [
    "review = \"The movie was excellent\"\n",
    "\n",
    "Image(filename='sentiment_network_pos.png')"
   ]
  },
  {
   "cell_type": "markdown",
   "metadata": {},
   "source": [
    "# Project 2: Creating the Input/Output Data<a id='project_2'></a>\n",
    "\n",
    "**TODO:** Create a [set](https://docs.python.org/3/tutorial/datastructures.html#sets) named `vocab` that contains every word in the vocabulary."
   ]
  },
  {
   "cell_type": "code",
   "execution_count": 64,
   "metadata": {
    "collapsed": true
   },
   "outputs": [],
   "source": [
    "# TODO: Create set named \"vocab\" containing all of the words from all of the reviews\n",
    "vocab = set(total_counts.keys())"
   ]
  },
  {
   "cell_type": "markdown",
   "metadata": {},
   "source": [
    "Run the following cell to check your vocabulary size. If everything worked correctly, it should print **74074**"
   ]
  },
  {
   "cell_type": "code",
   "execution_count": 65,
   "metadata": {
    "collapsed": true
   },
   "outputs": [
    {
     "output_type": "stream",
     "name": "stdout",
     "text": "74074\n"
    }
   ],
   "source": [
    "vocab_size = len(vocab)\n",
    "print(vocab_size)"
   ]
  },
  {
   "cell_type": "markdown",
   "metadata": {},
   "source": [
    "Take a look at the following image. It represents the layers of the neural network you'll be building throughout this notebook. `layer_0` is the input layer, `layer_1` is a hidden layer, and `layer_2` is the output layer."
   ]
  },
  {
   "cell_type": "code",
   "execution_count": 66,
   "metadata": {},
   "outputs": [
    {
     "output_type": "execute_result",
     "data": {
      "image/png": "[encoded data removed]",
      "text/plain": "<IPython.core.display.Image object>"
     },
     "metadata": {},
     "execution_count": 66
    }
   ],
   "source": [
    "from IPython.display import Image\n",
    "Image(filename='sentiment_network_2.png')"
   ]
  },
  {
   "cell_type": "markdown",
   "metadata": {},
   "source": [
    "**TODO:** Create a numpy array called `layer_0` and initialize it to all zeros. You will find the [zeros](https://docs.scipy.org/doc/numpy/reference/generated/numpy.zeros.html) function particularly helpful here. Be sure you create `layer_0` as a 2-dimensional matrix with 1 row and `vocab_size` columns. "
   ]
  },
  {
   "cell_type": "code",
   "execution_count": 71,
   "metadata": {
    "collapsed": true
   },
   "outputs": [],
   "source": [
    "# TODO: Create layer_0 matrix with dimensions 1 by vocab_size, initially filled with zeros\n",
    "layer_0 = np.zeros((1, vocab_size))"
   ]
  },
  {
   "cell_type": "markdown",
   "metadata": {},
   "source": [
    "Run the following cell. It should display `(1, 74074)`"
   ]
  },
  {
   "cell_type": "code",
   "execution_count": 72,
   "metadata": {
    "collapsed": true
   },
   "outputs": [
    {
     "output_type": "execute_result",
     "data": {
      "text/plain": "(1, 74074)"
     },
     "metadata": {},
     "execution_count": 72
    }
   ],
   "source": [
    "layer_0.shape"
   ]
  },
  {
   "cell_type": "code",
   "execution_count": 73,
   "metadata": {
    "collapsed": true
   },
   "outputs": [
    {
     "output_type": "execute_result",
     "data": {
      "image/png": "[encoded data removed]",
      "text/plain": "<IPython.core.display.Image object>"
     },
     "metadata": {},
     "execution_count": 73
    }
   ],
   "source": [
    "from IPython.display import Image\n",
    "Image(filename='sentiment_network.png')"
   ]
  },
  {
   "cell_type": "markdown",
   "metadata": {},
   "source": [
    "`layer_0` contains one entry for every word in the vocabulary, as shown in the above image. We need to make sure we know the index of each word, so run the following cell to create a lookup table that stores the index of every word."
   ]
  },
  {
   "cell_type": "code",
   "execution_count": 74,
   "metadata": {
    "collapsed": true
   },
   "outputs": [
    {
     "output_type": "execute_result",
     "data": {
      "text/plain": "{'': 0,\n 'shakespeares': 1,\n 'surrounding': 2,\n 'lovingkindness': 3,\n 'tovarish': 4,\n 'fele': 5,\n 'sagas': 6,\n 'crumpled': 7,\n 'wallflower': 8,\n 'villaronga': 9,\n 'reached': 10,\n 'strobes': 11,\n 'cytown': 12,\n 'oldfish': 13,\n 'awesomenes': 14,\n 'lensed': 15,\n 'nicolai': 16,\n 'vcr': 17,\n 'theologians': 18,\n 'inheritor': 19,\n 'pevensie': 20,\n 'sterotypes': 21,\n 'dp': 22,\n 'shoppingmal': 23,\n 'fireballs': 24,\n 'sharyn': 25,\n 'bushie': 26,\n 'squillions': 27,\n 'politic': 28,\n 'caretaker': 29,\n 'fieldsian': 30,\n 'reviews': 31,\n 'heiden': 32,\n 'sequins': 33,\n 'epitaph': 34,\n 'takashi': 35,\n 'ansons': 36,\n 'adds': 37,\n 'redack': 38,\n 'expedition': 39,\n 'measuring': 40,\n 'greendale': 41,\n 'tyrrell': 42,\n 'earpeircing': 43,\n 'prescribes': 44,\n 'lazarushian': 45,\n 'leboeuf': 46,\n 'leavitt': 47,\n 'restore': 48,\n 'flirted': 49,\n 'causes': 50,\n 'laughingly': 51,\n 'reidelsheimer': 52,\n 'condon': 53,\n 'upchucking': 54,\n 'misued': 55,\n 'knuckling': 56,\n 'septej': 57,\n 'cahulawassee': 58,\n 'merk': 59,\n 'ramchand': 60,\n 'jacquouille': 61,\n 'oaks': 62,\n 'engaged': 63,\n 'hysteria': 64,\n 'mayer': 65,\n 'park': 66,\n 'denomination': 67,\n 'mooted': 68,\n 'alabama': 69,\n 'brave': 70,\n 'maidens': 71,\n 'rogaine': 72,\n 'panders': 73,\n 'brusk': 74,\n 'foes': 75,\n 'mccheese': 76,\n 'disown': 77,\n 'spanned': 78,\n 'tidey': 79,\n 'mareno': 80,\n 'dou': 81,\n 'seizing': 82,\n 'kristensen': 83,\n 'op': 84,\n 'forcefully': 85,\n 'obsessives': 86,\n 'frontiers': 87,\n 'pedestal': 88,\n 'reinas': 89,\n 'irrationality': 90,\n 'magnus': 91,\n 'swindlers': 92,\n 'boilers': 93,\n 'bubbly': 94,\n 'party': 95,\n 'blacklist': 96,\n 'georgy': 97,\n 'indiains': 98,\n 'blacklisted': 99,\n 'winched': 100,\n 'concoction': 101,\n 'perfectionistic': 102,\n 'silence': 103,\n 'vette': 104,\n 'initial': 105,\n 'burlap': 106,\n 'ood': 107,\n 'cleavers': 108,\n 'expletives': 109,\n 'fewer': 110,\n 'charities': 111,\n 'apostles': 112,\n 'doubter': 113,\n 'unnerving': 114,\n 'joysticks': 115,\n 'fanatical': 116,\n 'feng': 117,\n 'gossiping': 118,\n 'masculin': 119,\n 'chuke': 120,\n 'challiya': 121,\n 'bhaer': 122,\n 'temporary': 123,\n 'neccesary': 124,\n 'amontillado': 125,\n 'dependent': 126,\n 'cowardly': 127,\n 'donati': 128,\n 'guerrillas': 129,\n 'logon': 130,\n 'yan': 131,\n 'facie': 132,\n 'strunzdumm': 133,\n 'digga': 134,\n 'amit': 135,\n 'bootie': 136,\n 'jaysun': 137,\n 'numar': 138,\n 'dutta': 139,\n 'redundancies': 140,\n 'weebl': 141,\n 'misdirects': 142,\n 'propagandized': 143,\n 'childs': 144,\n 'arcades': 145,\n 'cunnilingus': 146,\n 'egyptianas': 147,\n 'prost': 148,\n 'puppy': 149,\n 'biker': 150,\n 'amphibulos': 151,\n 'traded': 152,\n 'trucks': 153,\n 'kazushi': 154,\n 'lny': 155,\n 'conscience': 156,\n 'stirrings': 157,\n 'blazes': 158,\n 'washes': 159,\n 'moviephysics': 160,\n 'depressive': 161,\n 'brags': 162,\n 'rizzuto': 163,\n 'provided': 164,\n 'occurrences': 165,\n 'rendition': 166,\n 'squelched': 167,\n 'disharmony': 168,\n 'commits': 169,\n 'wendingo': 170,\n 'flashing': 171,\n 'evoked': 172,\n 'desis': 173,\n 'toshi': 174,\n 'fakery': 175,\n 'slapstick': 176,\n 'henreid': 177,\n 'ottaviano': 178,\n 'dahmer': 179,\n 'patrice': 180,\n 'yeux': 181,\n 'beneath': 182,\n 'batbot': 183,\n 'textiles': 184,\n 'stroup': 185,\n 'superwonderscope': 186,\n 'serafian': 187,\n 'behl': 188,\n 'gunilla': 189,\n 'kermy': 190,\n 'cables': 191,\n 'rewatchability': 192,\n 'damsels': 193,\n 'slice': 194,\n 'superhuman': 195,\n 'vulcans': 196,\n 'further': 197,\n 'crowded': 198,\n 'herzogian': 199,\n 'pscychosexual': 200,\n 'flitty': 201,\n 'bimalda': 202,\n 'intrepidly': 203,\n 'dales': 204,\n 'flabby': 205,\n 'icebergs': 206,\n 'hoosegow': 207,\n 'definately': 208,\n 'tarred': 209,\n 'solvent': 210,\n 'homicidelife': 211,\n 'ttws': 212,\n 'rr': 213,\n 'shoenumber': 214,\n 'mutants': 215,\n 'munitions': 216,\n 'lifelong': 217,\n 'epigrammatic': 218,\n 'arzenta': 219,\n 'personals': 220,\n 'yeow': 221,\n 'humanizes': 222,\n 'bests': 223,\n 'nanook': 224,\n 'clobbering': 225,\n 'ladakh': 226,\n 'benign': 227,\n 'hindenburg': 228,\n 'instilling': 229,\n 'gunned': 230,\n 'mayhem': 231,\n 'childbearing': 232,\n 'mismanaged': 233,\n 'furs': 234,\n 'velazquez': 235,\n 'sailes': 236,\n 'rj': 237,\n 'vultures': 238,\n 'posterity': 239,\n 'gangland': 240,\n 'millardo': 241,\n 'mosbey': 242,\n 'lesbonk': 243,\n 'essays': 244,\n 'enriching': 245,\n 'boringness': 246,\n 'nationalists': 247,\n 'rambling': 248,\n 'hoskins': 249,\n 'gr': 250,\n 'dismount': 251,\n 'pacing': 252,\n 'majin': 253,\n 'modifying': 254,\n 'fainted': 255,\n 'compare': 256,\n 'poles': 257,\n 'able': 258,\n 'decreases': 259,\n 'headly': 260,\n 'fitfully': 261,\n 'jugular': 262,\n 'quisessential': 263,\n 'tells': 264,\n 'disapprove': 265,\n 'shafts': 266,\n 'kristopherson': 267,\n 'madea': 268,\n 'anesthetic': 269,\n 'gleanings': 270,\n 'physicians': 271,\n 'atlease': 272,\n 'islander': 273,\n 'rober': 274,\n 'canted': 275,\n 'holocaust': 276,\n 'descendants': 277,\n 'winterson': 278,\n 'suspiciouly': 279,\n 'franfreako': 280,\n 'afro': 281,\n 'cooped': 282,\n 'chauvinist': 283,\n 'chakiris': 284,\n 'mendanassos': 285,\n 'royalist': 286,\n 'dietrich': 287,\n 'besmirches': 288,\n 'voogdt': 289,\n 'svea': 290,\n 'proved': 291,\n 'humanisation': 292,\n 'petulant': 293,\n 'propeganda': 294,\n 'unprofessionally': 295,\n 'outdid': 296,\n 'reconstruct': 297,\n 'shovelware': 298,\n 'ramo': 299,\n 'conceit': 300,\n 'harken': 301,\n 'hooky': 302,\n 'pixie': 303,\n 'fisticuffs': 304,\n 'greedo': 305,\n 'demolished': 306,\n 'coattails': 307,\n 'unpredictable': 308,\n 'securities': 309,\n 'macneille': 310,\n 'georgian': 311,\n 'struggled': 312,\n 'bangkok': 313,\n 'offworlders': 314,\n 'locusts': 315,\n 'artisty': 316,\n 'nuteral': 317,\n 'yacht': 318,\n 'unfulfilling': 319,\n 'benumbed': 320,\n 'optical': 321,\n 'undefeatable': 322,\n 'diggs': 323,\n 'whiskers': 324,\n 'kinnair': 325,\n 'ululating': 326,\n 'haphazardly': 327,\n 'gangbanger': 328,\n 'severin': 329,\n 'neumann': 330,\n 'wannabes': 331,\n 'stylised': 332,\n 'spider': 333,\n 'albanians': 334,\n 'jackhammer': 335,\n 'ssst': 336,\n 'diahnn': 337,\n 'glorify': 338,\n 'crassly': 339,\n 'subtler': 340,\n 'dismissable': 341,\n 'hollander': 342,\n 'smokingly': 343,\n 'fedar': 344,\n 'braindeads': 345,\n 'symbolizes': 346,\n 'alteration': 347,\n 'silent': 348,\n 'velma': 349,\n 'frailty': 350,\n 'apolitical': 351,\n 'lehrman': 352,\n 'scent': 353,\n 'schrer': 354,\n 'abo': 355,\n 'schtick': 356,\n 'duds': 357,\n 'survivor': 358,\n 'ilene': 359,\n 'crumpling': 360,\n 'iglesias': 361,\n 'mocumentaries': 362,\n 'twt': 363,\n 'loncraine': 364,\n 'gangbusters': 365,\n 'duster': 366,\n 'none': 367,\n 'specialized': 368,\n 'kemek': 369,\n 'indecision': 370,\n 'minorly': 371,\n 'gagging': 372,\n 'naschy': 373,\n 'wurb': 374,\n 'shep': 375,\n 'mcguire': 376,\n 'raza': 377,\n 'wrights': 378,\n 'giuliani': 379,\n 'tuberculosis': 380,\n 'banning': 381,\n 'kayaker': 382,\n 'liddy': 383,\n 'caimano': 384,\n 'arguments': 385,\n 'aahhh': 386,\n 'abstraction': 387,\n 'macguffin': 388,\n 'platt': 389,\n 'dichen': 390,\n 'groaningly': 391,\n 'searchers': 392,\n 'broadway': 393,\n 'giorgos': 394,\n 'macshane': 395,\n 'gnomes': 396,\n 'belknap': 397,\n 'aeroplane': 398,\n 'dawood': 399,\n 'shakiness': 400,\n 'acorns': 401,\n 'maltz': 402,\n 'becomea': 403,\n 'handkerchiefs': 404,\n 'insistent': 405,\n 'microfilm': 406,\n 'exploitations': 407,\n 'mph': 408,\n 'radically': 409,\n 'embezzled': 410,\n 'profanities': 411,\n 'loughlin': 412,\n 'franziska': 413,\n 'vacations': 414,\n 'fichtner': 415,\n 'daresay': 416,\n 'nuimage': 417,\n 'defers': 418,\n 'konerak': 419,\n 'lovelife': 420,\n 'tyrants': 421,\n 'fkg': 422,\n 'racial': 423,\n 'interleave': 424,\n 'sorghum': 425,\n 'declined': 426,\n 'memphis': 427,\n 'midget': 428,\n 'endows': 429,\n 'grissom': 430,\n 'kabuki': 431,\n 'flamenco': 432,\n 'prehysteria': 433,\n 'spouts': 434,\n 'chesley': 435,\n 'pinnacle': 436,\n 'coconut': 437,\n 'roadtrip': 438,\n 'autocockers': 439,\n 'unconsiousness': 440,\n 'cognizant': 441,\n 'vanquishes': 442,\n 'troopers': 443,\n 'neighbourliness': 444,\n 'grievances': 445,\n 'boyfriend': 446,\n 'loosey': 447,\n 'matrimonial': 448,\n 'acomplication': 449,\n 'calibur': 450,\n 'round': 451,\n 'jerzee': 452,\n 'nk': 453,\n 'jimi': 454,\n 'teeeell': 455,\n 'form': 456,\n 'forensic': 457,\n 'inflame': 458,\n 'quietness': 459,\n 'catacombs': 460,\n 'gorylicious': 461,\n 'dentist': 462,\n 'misdemeanour': 463,\n 'sites': 464,\n 'tolerate': 465,\n 'spaz': 466,\n 'bigfoot': 467,\n 'aunt': 468,\n 'hoovervilles': 469,\n 'eek': 470,\n 'auie': 471,\n 'aured': 472,\n 'doqui': 473,\n 'shamoo': 474,\n 'responisible': 475,\n 'boor': 476,\n 'titanic': 477,\n 'sohpie': 478,\n 'tastey': 479,\n 'busted': 480,\n 'gonzalez': 481,\n 'bleeping': 482,\n 'unorganized': 483,\n 'wowzors': 484,\n 'lake': 485,\n 'drugging': 486,\n 'shrine': 487,\n 'wv': 488,\n 'alleb': 489,\n 'meekly': 490,\n 'cack': 491,\n 'broadest': 492,\n 'needed': 493,\n 'astonishingly': 494,\n 'slayers': 495,\n 'eesh': 496,\n 'china': 497,\n 'buggies': 498,\n 'whiteness': 499,\n 'hypobolic': 500,\n 'hoochie': 501,\n 'allures': 502,\n 'introductions': 503,\n 'frightner': 504,\n 'carroll': 505,\n 'scwarz': 506,\n 'angelfire': 507,\n 'cancelling': 508,\n 'suspension': 509,\n 'ackland': 510,\n 'frazee': 511,\n 'steet': 512,\n 'traumatising': 513,\n 'escreve': 514,\n 'hospitalised': 515,\n 'weapons': 516,\n 'gto': 517,\n 'toturro': 518,\n 'mala': 519,\n 'font': 520,\n 'sally': 521,\n 'shojo': 522,\n 'lavishing': 523,\n 'conceals': 524,\n 'soulfulness': 525,\n 'offencive': 526,\n 'bracco': 527,\n 'epiphany': 528,\n 'shore': 529,\n 'bergman': 530,\n 'unequivocal': 531,\n 'lasers': 532,\n 'musashibo': 533,\n 'tarus': 534,\n 'unaffected': 535,\n 'snipping': 536,\n 'kegan': 537,\n 'hicock': 538,\n 'eurasian': 539,\n 'cooder': 540,\n 'maneur': 541,\n 'sisson': 542,\n 'tesmacher': 543,\n 'nimbly': 544,\n 'ribs': 545,\n 'cocktails': 546,\n 'incontinuities': 547,\n 'bloodshet': 548,\n 'subservient': 549,\n 'transmutes': 550,\n 'desiging': 551,\n 'overhyped': 552,\n 'sympathetic': 553,\n 'daytime': 554,\n 'jobber': 555,\n 'modest': 556,\n 'balder': 557,\n 'goodfellows': 558,\n 'tyranny': 559,\n 'prendergast': 560,\n 'socialized': 561,\n 'kneejerk': 562,\n 'giant': 563,\n 'mbna': 564,\n 'leonie': 565,\n 'melt': 566,\n 'titties': 567,\n 'goren': 568,\n 'subterranean': 569,\n 'overindulging': 570,\n 'disneylike': 571,\n 'wises': 572,\n 'effects': 573,\n 'limits': 574,\n 'mirrorless': 575,\n 'throughline': 576,\n 'dipping': 577,\n 'certainly': 578,\n 'hormone': 579,\n 'whimpered': 580,\n 'mounting': 581,\n 'disk': 582,\n 'alliance': 583,\n 'hummer': 584,\n 'waving': 585,\n 'zack': 586,\n 'oppurunity': 587,\n 'lamarr': 588,\n 'corbet': 589,\n 'disrespected': 590,\n 'fixating': 591,\n 'notices': 592,\n 'hiltz': 593,\n 'purposes': 594,\n 'dumpy': 595,\n 'seeding': 596,\n 'fan': 597,\n 'embellishing': 598,\n 'tended': 599,\n 'underprivileged': 600,\n 'breadline': 601,\n 'breathed': 602,\n 'renown': 603,\n 'warmheartedness': 604,\n 'kiran': 605,\n 'sorcerer': 606,\n 'filmedan': 607,\n 'consignations': 608,\n 'sporatically': 609,\n 'flim': 610,\n 'pcp': 611,\n 'academia': 612,\n 'dilwale': 613,\n 'knocked': 614,\n 'darkwolf': 615,\n 'innovates': 616,\n 'buckets': 617,\n 'bleachers': 618,\n 'chimeric': 619,\n 'shining': 620,\n 'kurtz': 621,\n 'revitalize': 622,\n 'airhead': 623,\n 'riser': 624,\n 'fatalism': 625,\n 'protestations': 626,\n 'wahala': 627,\n 'selden': 628,\n 'inch': 629,\n 'dorlan': 630,\n 'using': 631,\n 'nursed': 632,\n 'turbo': 633,\n 'ambiguousthe': 634,\n 'wrongheaded': 635,\n 'literal': 636,\n 'baransky': 637,\n 'treacly': 638,\n 'analytics': 639,\n 'humanitas': 640,\n 'shaffner': 641,\n 'sheik': 642,\n 'britan': 643,\n 'write': 644,\n 'druten': 645,\n 'revist': 646,\n 'importing': 647,\n 'mystifies': 648,\n 'shlater': 649,\n 'slip': 650,\n 'accumulating': 651,\n 'ameche': 652,\n 'borg': 653,\n 'julien': 654,\n 'afer': 655,\n 'barfly': 656,\n 'ofr': 657,\n 'algernon': 658,\n 'kaffeine': 659,\n 'brentwood': 660,\n 'mero': 661,\n 'borscht': 662,\n 'shake': 663,\n 'ambivalent': 664,\n 'galley': 665,\n 'formula': 666,\n 'dwars': 667,\n 'supervise': 668,\n 'earing': 669,\n 'shorelines': 670,\n 'afterwhile': 671,\n 'daves': 672,\n 'infact': 673,\n 'loosest': 674,\n 'innane': 675,\n 'despirately': 676,\n 'erbil': 677,\n 'journos': 678,\n 'stake': 679,\n 'bigotries': 680,\n 'overlap': 681,\n 'guatamala': 682,\n 'inveighing': 683,\n 'achieving': 684,\n 'obscuringly': 685,\n 'variegated': 686,\n 'depressants': 687,\n 'chirstmastime': 688,\n 'capping': 689,\n 'swng': 690,\n 'karyo': 691,\n 'hav': 692,\n 'madigan': 693,\n 'mappo': 694,\n 'pussed': 695,\n 'village': 696,\n 'hackett': 697,\n 'valeri': 698,\n 'coursing': 699,\n 'heeellllo': 700,\n 'shets': 701,\n 'anjos': 702,\n 'propellant': 703,\n 'disintegrated': 704,\n 'cds': 705,\n 'lamely': 706,\n 'patient': 707,\n 'undemanding': 708,\n 'ludicrously': 709,\n 'polemics': 710,\n 'videomarket': 711,\n 'kagan': 712,\n 'swap': 713,\n 'heterosexual': 714,\n 'bed': 715,\n 'extinguisher': 716,\n 'slvia': 717,\n 'zorros': 718,\n 'queer': 719,\n 'tsing': 720,\n 'far': 721,\n 'lavishly': 722,\n 'coca': 723,\n 'vacuously': 724,\n 'awaaaaay': 725,\n 'blakewell': 726,\n 'anglophile': 727,\n 'arnald': 728,\n 'recomear': 729,\n 'medalian': 730,\n 'jacks': 731,\n 'snoopers': 732,\n 'bodied': 733,\n 'phelps': 734,\n 'shawls': 735,\n 'piggish': 736,\n 'batmobile': 737,\n 'squash': 738,\n 'landsman': 739,\n 'avni': 740,\n 'incorruptable': 741,\n 'consumptive': 742,\n 'patrics': 743,\n 'picturizations': 744,\n 'kah': 745,\n 'islamist': 746,\n 'qualms': 747,\n 'runtime': 748,\n 'shoebat': 749,\n 'quillan': 750,\n 'swagger': 751,\n 'hardison': 752,\n 'landowners': 753,\n 'profiles': 754,\n 'ronins': 755,\n 'despised': 756,\n 'mcbeal': 757,\n 'euphemisms': 758,\n 'ferch': 759,\n 'suranne': 760,\n 'atleast': 761,\n 'inquiry': 762,\n 'gutsy': 763,\n 'recurring': 764,\n 'ketchup': 765,\n 'wil': 766,\n 'schanzer': 767,\n 'mas': 768,\n 'charishma': 769,\n 'wield': 770,\n 'binks': 771,\n 'different': 772,\n 'venereal': 773,\n 'social': 774,\n 'touchdown': 775,\n 'hoarded': 776,\n 'lca': 777,\n 'prepares': 778,\n 'brightness': 779,\n 'nip': 780,\n 'invested': 781,\n 'typewriter': 782,\n 'bestbut': 783,\n 'paradigm': 784,\n 'exclusives': 785,\n 'walkers': 786,\n 'farrells': 787,\n 'cloths': 788,\n 'seto': 789,\n 'unvarying': 790,\n 'textbooks': 791,\n 'inciting': 792,\n 'nyily': 793,\n 'incher': 794,\n 'wehle': 795,\n 'innuendos': 796,\n 'sweeper': 797,\n 'gazzo': 798,\n 'sincere': 799,\n 'mcmurty': 800,\n 'pineyro': 801,\n 'ichi': 802,\n 'clime': 803,\n 'odessa': 804,\n 'traced': 805,\n 'scramble': 806,\n 'wolfman': 807,\n 'crissakes': 808,\n 'konvitz': 809,\n 'spazzy': 810,\n 'gorby': 811,\n 'fuhrer': 812,\n 'whedonettes': 813,\n 'apophis': 814,\n 'cultic': 815,\n 'occhipinti': 816,\n 'triumphs': 817,\n 'fronts': 818,\n 'targeted': 819,\n 'rozelle': 820,\n 'mouldering': 821,\n 'givin': 822,\n 'reconciles': 823,\n 'ferdin': 824,\n 'monkey': 825,\n 'baddie': 826,\n 'swoozie': 827,\n 'vagrants': 828,\n 'dandelions': 829,\n 'malnutrition': 830,\n 'droll': 831,\n 'disrepair': 832,\n 'departure': 833,\n 'rossa': 834,\n 'welch': 835,\n 'prosper': 836,\n 'deterioration': 837,\n 'marque': 838,\n 'shipments': 839,\n 'expound': 840,\n 'humorist': 841,\n 'gableacting': 842,\n 'fierceness': 843,\n 'boozed': 844,\n 'voodoo': 845,\n 'representation': 846,\n 'pynchon': 847,\n 'farmzoid': 848,\n 'yeshua': 849,\n 'threatening': 850,\n 'hanger': 851,\n 'foundationally': 852,\n 'haiduck': 853,\n 'refinements': 854,\n 'discourage': 855,\n 'snakey': 856,\n 'cosmetic': 857,\n 'distinctions': 858,\n 'aryans': 859,\n 'sauron': 860,\n 'whiskeys': 861,\n 'flaherty': 862,\n 'jor': 863,\n 'soloflex': 864,\n 'ariell': 865,\n 'throes': 866,\n 'angelique': 867,\n 'enthusiams': 868,\n 'defusing': 869,\n 'orgolini': 870,\n 'pes': 871,\n 'themself': 872,\n 'piznarski': 873,\n 'boal': 874,\n 'havebut': 875,\n 'cloris': 876,\n 'alfonso': 877,\n 'chaperoning': 878,\n 'rawhide': 879,\n 'oysters': 880,\n 'thionite': 881,\n 'understate': 882,\n 'scholarships': 883,\n 'suriyothai': 884,\n 'kilairn': 885,\n 'slaves': 886,\n 'isolationist': 887,\n 'chteau': 888,\n 'dmn': 889,\n 'silverstonesque': 890,\n 'jawing': 891,\n 'silken': 892,\n 'bender': 893,\n 'impose': 894,\n 'depravities': 895,\n 'annapolis': 896,\n 'brd': 897,\n 'wholesomely': 898,\n 'betas': 899,\n 'cristiano': 900,\n 'suspected': 901,\n 'mainsprings': 902,\n 'demographic': 903,\n 'predictions': 904,\n 'alvira': 905,\n 'sequence': 906,\n 'tripped': 907,\n 'actorsi': 908,\n 'acheived': 909,\n 'shillabeer': 910,\n 'resurrect': 911,\n 'ohtsji': 912,\n 'thirteen': 913,\n 'tingling': 914,\n 'tearful': 915,\n 'comports': 916,\n 'pumpkin': 917,\n 'rationale': 918,\n 'graphical': 919,\n 'derivations': 920,\n 'extreamely': 921,\n 'motions': 922,\n 'coservationist': 923,\n 'polution': 924,\n 'ril': 925,\n 'dedications': 926,\n 'barabarian': 927,\n 'foolishly': 928,\n 'insignificance': 929,\n 'boons': 930,\n 'melania': 931,\n 'quasirealistic': 932,\n 'buffed': 933,\n 'jaihind': 934,\n 'surmise': 935,\n 'wa': 936,\n 'endearment': 937,\n 'untill': 938,\n 'legiunea': 939,\n 'cancer': 940,\n 'terrore': 941,\n 'felitta': 942,\n 'blabbing': 943,\n 'remotes': 944,\n 'grasper': 945,\n 'satisfies': 946,\n 'hybridity': 947,\n 'pedophiliac': 948,\n 'heeeeaaarrt': 949,\n 'bellied': 950,\n 'sinewy': 951,\n 'inbetween': 952,\n 'istead': 953,\n 'treveiler': 954,\n 'underated': 955,\n 'camerons': 956,\n 'scare': 957,\n 'dharma': 958,\n 'aspen': 959,\n 'gelb': 960,\n 'plotholes': 961,\n 'lo': 962,\n 'horrror': 963,\n 'trelkovski': 964,\n 'measurement': 965,\n 'chiefly': 966,\n 'akai': 967,\n 'exce': 968,\n 'pom': 969,\n 'goalkeeper': 970,\n 'aire': 971,\n 'inoculated': 972,\n 'powders': 973,\n 'isildur': 974,\n 'mille': 975,\n 'stagnate': 976,\n 'melida': 977,\n 'tenuous': 978,\n 'overprotective': 979,\n 'camembert': 980,\n 'oxygen': 981,\n 'warriors': 982,\n 'stalinism': 983,\n 'tammy': 984,\n 'wine': 985,\n 'popinjays': 986,\n 'beckingsale': 987,\n 'onna': 988,\n 'glissando': 989,\n 'recalling': 990,\n 'dictioary': 991,\n 'joking': 992,\n 'socking': 993,\n 'yecchy': 994,\n 'dissatisfaction': 995,\n 'lambert': 996,\n 'instinct': 997,\n 'diurnal': 998,\n 'jazzed': 999,\n ...}"
     },
     "metadata": {},
     "execution_count": 74
    }
   ],
   "source": [
    "# Create a dictionary of words in the vocabulary mapped to index positions\n",
    "# (to be used in layer_0)\n",
    "word2index = {}\n",
    "for i,word in enumerate(vocab):\n",
    "    word2index[word] = i\n",
    "    \n",
    "# display the map of words to indices\n",
    "word2index"
   ]
  },
  {
   "cell_type": "markdown",
   "metadata": {},
   "source": [
    "**TODO:**  Complete the implementation of `update_input_layer`. It should count \n",
    "          how many times each word is used in the given review, and then store\n",
    "          those counts at the appropriate indices inside `layer_0`."
   ]
  },
  {
   "cell_type": "code",
   "execution_count": 75,
   "metadata": {
    "collapsed": true
   },
   "outputs": [],
   "source": [
    "def update_input_layer(review):\n",
    "    \"\"\" Modify the global layer_0 to represent the vector form of review.\n",
    "    The element at a given index of layer_0 should represent\n",
    "    how many times the given word occurs in the review.\n",
    "    Args:\n",
    "        review(string) - the string of the review\n",
    "    Returns:\n",
    "        None\n",
    "    \"\"\"\n",
    "    global layer_0\n",
    "    # clear out previous state by resetting the layer to be all 0s\n",
    "    layer_0 *= 0\n",
    "    \n",
    "    # TODO: count how many times each word is used in the given review and store the results in layer_0 \n",
    "    for word in review.split(\" \"):\n",
    "        layer_0[0][word2index[word]] += 1"
   ]
  },
  {
   "cell_type": "markdown",
   "metadata": {},
   "source": [
    "Run the following cell to test updating the input layer with the first review. The indices assigned may not be the same as in the solution, but hopefully you'll see some non-zero values in `layer_0`.  "
   ]
  },
  {
   "cell_type": "code",
   "execution_count": 76,
   "metadata": {
    "collapsed": true
   },
   "outputs": [
    {
     "output_type": "execute_result",
     "data": {
      "text/plain": "array([[18.,  0.,  0., ...,  0.,  0.,  0.]])"
     },
     "metadata": {},
     "execution_count": 76
    }
   ],
   "source": [
    "update_input_layer(reviews[0])\n",
    "layer_0"
   ]
  },
  {
   "cell_type": "markdown",
   "metadata": {},
   "source": [
    "**TODO:** Complete the implementation of `get_target_for_labels`. It should return `0` or `1`, \n",
    "          depending on whether the given label is `NEGATIVE` or `POSITIVE`, respectively."
   ]
  },
  {
   "cell_type": "code",
   "execution_count": 77,
   "metadata": {
    "collapsed": true
   },
   "outputs": [],
   "source": [
    "def get_target_for_label(label):\n",
    "    \"\"\"Convert a label to `0` or `1`.\n",
    "    Args:\n",
    "        label(string) - Either \"POSITIVE\" or \"NEGATIVE\".\n",
    "    Returns:\n",
    "        `0` or `1`.\n",
    "    \"\"\"\n",
    "    # TODO: Your code here\n",
    "    if (label == 'POSITIVE'):\n",
    "        return 1\n",
    "    else:\n",
    "        return 0"
   ]
  },
  {
   "cell_type": "markdown",
   "metadata": {},
   "source": [
    "Run the following two cells. They should print out`'POSITIVE'` and `1`, respectively."
   ]
  },
  {
   "cell_type": "code",
   "execution_count": 78,
   "metadata": {
    "collapsed": true
   },
   "outputs": [
    {
     "output_type": "execute_result",
     "data": {
      "text/plain": "'POSITIVE'"
     },
     "metadata": {},
     "execution_count": 78
    }
   ],
   "source": [
    "labels[0]"
   ]
  },
  {
   "cell_type": "code",
   "execution_count": 79,
   "metadata": {
    "collapsed": true
   },
   "outputs": [
    {
     "output_type": "execute_result",
     "data": {
      "text/plain": "1"
     },
     "metadata": {},
     "execution_count": 79
    }
   ],
   "source": [
    "get_target_for_label(labels[0])"
   ]
  },
  {
   "cell_type": "markdown",
   "metadata": {},
   "source": [
    "Run the following two cells. They should print out `'NEGATIVE'` and `0`, respectively."
   ]
  },
  {
   "cell_type": "code",
   "execution_count": 80,
   "metadata": {
    "collapsed": true
   },
   "outputs": [
    {
     "output_type": "execute_result",
     "data": {
      "text/plain": "'NEGATIVE'"
     },
     "metadata": {},
     "execution_count": 80
    }
   ],
   "source": [
    "labels[1]"
   ]
  },
  {
   "cell_type": "code",
   "execution_count": 81,
   "metadata": {
    "collapsed": true
   },
   "outputs": [
    {
     "output_type": "execute_result",
     "data": {
      "text/plain": "0"
     },
     "metadata": {},
     "execution_count": 81
    }
   ],
   "source": [
    "get_target_for_label(labels[1])"
   ]
  },
  {
   "cell_type": "markdown",
   "metadata": {},
   "source": [
    "# End of Project 2. \n",
    "## Watch the next video to see Andrew's solution, then continue on to the next lesson."
   ]
  },
  {
   "cell_type": "markdown",
   "metadata": {},
   "source": [
    "# Project 3: Building a Neural Network<a id='project_3'></a>"
   ]
  },
  {
   "cell_type": "markdown",
   "metadata": {},
   "source": [
    "**TODO:** We've included the framework of a class called `SentimentNetwork`. Implement all of the items marked `TODO` in the code. These include doing the following:\n",
    "- Create a basic neural network much like the networks you've seen in earlier lessons and in Project 1, with an input layer, a hidden layer, and an output layer. \n",
    "- Do **not** add a non-linearity in the hidden layer. That is, do not use an activation function when calculating the hidden layer outputs.\n",
    "- Re-use the code from earlier in this notebook to create the training data (see `TODO`s in the code)\n",
    "- Implement the `pre_process_data` function to create the vocabulary for our training data generating functions\n",
    "- Ensure `train` trains over the entire corpus"
   ]
  },
  {
   "cell_type": "markdown",
   "metadata": {},
   "source": [
    "### Where to Get Help if You Need it\n",
    "- Re-watch earlier Udacity lectures\n",
    "- Chapters 3-5 - [Grokking Deep Learning](https://www.manning.com/books/grokking-deep-learning) - (Check inside your classroom for a discount code)"
   ]
  },
  {
   "cell_type": "code",
   "execution_count": 100,
   "metadata": {
    "collapsed": true
   },
   "outputs": [],
   "source": [
    "# This didn't work\n",
    "\n",
    "import time\n",
    "import sys\n",
    "import numpy as np\n",
    "\n",
    "# Encapsulate our neural network in a class\n",
    "class SentimentNetwork:\n",
    "    def __init__(self, reviews, labels, hidden_nodes = 10, learning_rate = 0.1):\n",
    "        \"\"\"Create a SentimenNetwork with the given settings\n",
    "        Args:\n",
    "            reviews(list) - List of reviews used for training\n",
    "            labels(list) - List of POSITIVE/NEGATIVE labels associated with the given reviews\n",
    "            hidden_nodes(int) - Number of nodes to create in the hidden layer\n",
    "            learning_rate(float) - Learning rate to use while training\n",
    "        \n",
    "        \"\"\"\n",
    "        # Assign a seed to our random number generator to ensure we get\n",
    "        # reproducable results during development \n",
    "        np.random.seed(1)\n",
    "\n",
    "        # process the reviews and their associated labels so that everything\n",
    "        # is ready for training\n",
    "        self.pre_process_data(reviews, labels)\n",
    "        \n",
    "        # Build the network to have the number of hidden nodes and the learning rate that\n",
    "        # were passed into this initializer. Make the same number of input nodes as\n",
    "        # there are vocabulary words and create a single output node.\n",
    "        self.init_network(len(self.review_vocab),hidden_nodes, 1, learning_rate)\n",
    "\n",
    "    def pre_process_data(self, reviews, labels):\n",
    "        \n",
    "        review_vocab = set()\n",
    "        # TODO: populate review_vocab with all of the words in the given reviews\n",
    "        #       Remember to split reviews into individual words \n",
    "        #       using \"split(' ')\" instead of \"split()\".\n",
    "        for review in reviews:\n",
    "            for word in review.split(\" \"):\n",
    "                review_vocab.add(word)\n",
    "\n",
    "        # Convert the vocabulary set to a list so we can access words via indices\n",
    "        self.review_vocab = list(review_vocab)\n",
    "        \n",
    "        label_vocab = set()\n",
    "        # TODO: populate label_vocab with all of the words in the given labels.\n",
    "        #       There is no need to split the labels because each one is a single word.\n",
    "        for label in labels:\n",
    "            label_vocab.add(label)\n",
    "\n",
    "        # Convert the label vocabulary set to a list so we can access labels via indices\n",
    "        self.label_vocab = list(label_vocab)\n",
    "        \n",
    "        # Store the sizes of the review and label vocabularies.\n",
    "        self.review_vocab_size = len(self.review_vocab)\n",
    "        self.label_vocab_size = len(self.label_vocab)\n",
    "        \n",
    "        # Create a dictionary of words in the vocabulary mapped to index positions\n",
    "        self.word2index = {}\n",
    "        # TODO: populate self.word2index with indices for all the words in self.review_vocab\n",
    "        #       like you saw earlier in the notebook\n",
    "        for i,word in enumerate(self.review_vocab):\n",
    "            self.word2index[word] = i\n",
    "        # Create a dictionary of labels mapped to index positions\n",
    "        self.label2index = {}\n",
    "        # TODO: do the same thing you did for self.word2index and self.review_vocab, \n",
    "        #       but for self.label2index and self.label_vocab instead\n",
    "        for i,label in enumerate(self.label_vocab):\n",
    "            self.label2index[label] = i\n",
    "        \n",
    "    def init_network(self, input_nodes, hidden_nodes, output_nodes, learning_rate):\n",
    "        # Store the number of nodes in input, hidden, and output layers.\n",
    "        self.input_nodes = input_nodes\n",
    "        self.hidden_nodes = hidden_nodes\n",
    "        self.output_nodes = output_nodes\n",
    "\n",
    "        # Store the learning rate\n",
    "        self.learning_rate = learning_rate\n",
    "\n",
    "        # Initialize weights\n",
    "        \n",
    "        # TODO: initialize self.weights_0_1 as a matrix of zeros. These are the weights between\n",
    "        #       the input layer and the hidden layer.\n",
    "        self.weights_0_1 = np.zeros((self.input_nodes, self.hidden_nodes))\n",
    "        \n",
    "        # TODO: initialize self.weights_1_2 as a matrix of random values. \n",
    "        #       These are the weights between the hidden layer and the output layer.\n",
    "        self.weights_1_2 = np.random.normal(0.0, self.hidden_nodes**-0.5,(self.hidden_nodes, self.output_nodes))\n",
    "        \n",
    "        # TODO: Create the input layer, a two-dimensional matrix with shape \n",
    "        #       1 x input_nodes, with all values initialized to zero\n",
    "        self.layer_0 = np.zeros((1,input_nodes))\n",
    "    \n",
    "        \n",
    "    def update_input_layer(self,review):\n",
    "        # TODO: You can copy most of the code you wrote for update_input_layer \n",
    "        #       earlier in this notebook. \n",
    "        #\n",
    "        #       However, MAKE SURE YOU CHANGE ALL VARIABLES TO REFERENCE\n",
    "        #       THE VERSIONS STORED IN THIS OBJECT, NOT THE GLOBAL OBJECTS.\n",
    "        #       For example, replace \"layer_0 *= 0\" with \"self.layer_0 *= 0\"\n",
    "        # clear out previous state by resetting the layer to be all 0s\n",
    "        self.layer_0 *= 0\n",
    "    \n",
    "        # TODO: count how many times each word is used in the given review and store the results in layer_0 \n",
    "        for word in review.split(\" \"):\n",
    "            if(word in self.word2index.keys()):\n",
    "                self.layer_0[0][word2index[word]] += 1\n",
    "                \n",
    "    def get_target_for_label(self,label):\n",
    "        # TODO: Copy the code you wrote for get_target_for_label \n",
    "        #       earlier in this notebook. \n",
    "        if (label == 'POSITIVE'):\n",
    "            return 1\n",
    "        else:\n",
    "            return 0\n",
    "        \n",
    "    def sigmoid(self,x):\n",
    "        # TODO: Return the result of calculating the sigmoid activation function\n",
    "        #       shown in the lectures\n",
    "        return 1/(1 + np.exp(-x))\n",
    "    \n",
    "    def sigmoid_output_2_derivative(self,output):\n",
    "        # TODO: Return the derivative of the sigmoid activation function, \n",
    "        #       where \"output\" is the original output from the sigmoid fucntion \n",
    "        return output * (1 - output)\n",
    "\n",
    "    def train(self, training_reviews, training_labels):\n",
    "        \n",
    "        # make sure out we have a matching number of reviews and labels\n",
    "        assert(len(training_reviews) == len(training_labels))\n",
    "        \n",
    "        # Keep track of correct predictions to display accuracy during training \n",
    "        correct_so_far = 0\n",
    "        \n",
    "        # Remember when we started for printing time statistics\n",
    "        start = time.time()\n",
    "\n",
    "        # loop through all the given reviews and run a forward and backward pass,\n",
    "        # updating weights for every item\n",
    "        for i in range(len(training_reviews)):\n",
    "            \n",
    "            # TODO: Get the next review and its correct label\n",
    "            review = training_reviews[i]\n",
    "            label = training_labels[i]\n",
    "            # TODO: Implement the forward pass through the network. \n",
    "            #       That means use the given review to update the input layer, \n",
    "            #       then calculate values for the hidden layer,\n",
    "            #       and finally calculate the output layer.\n",
    "            # \n",
    "            #       Do not use an activation function for the hidden layer,\n",
    "            #       but use the sigmoid activation function for the output layer.\n",
    "            self.update_input_layer(review)\n",
    "            layer_1 = self.layer_0.dot(self.weights_0_1)\n",
    "            layer_2 = self.sigmoid(layer_1.dot(self.weights_1_2))\n",
    "\n",
    "            # TODO: Implement the back propagation pass here. \n",
    "            #       That means calculate the error for the forward pass's prediction\n",
    "            #       and update the weights in the network according to their\n",
    "            #       contributions toward the error, as calculated via the\n",
    "            #       gradient descent and back propagation algorithms you \n",
    "            #       learned in class.\n",
    "            layer_2_error = layer_2 - self.get_target_for_label(label)\n",
    "            layer_2_delta = layer_2_error * self.sigmoid_output_2_derivative(layer_2)\n",
    "            # TODO: Keep track of correct predictions. To determine if the prediction was\n",
    "            #       correct, check that the absolute value of the output error \n",
    "            #       is less than 0.5. If so, add one to the correct_so_far count.\n",
    "            layer_1_error = layer_2_delta.dot(self.weights_1_2.T)\n",
    "            layer_1_delta = layer_1_error\n",
    "\n",
    "            # Update the weights\n",
    "            self.weights_1_2 -= layer_1.T.dot(layer_2_delta)*self.learning_rate\n",
    "            self.weights_0_1 -= self.layer_0.T.dot(layer_1_delta)*self.learning_rate\n",
    "\n",
    "            # Keep track of correct predictions.\n",
    "            if(layer_2 >= 0.5 and label == 'POSITIVE'):\n",
    "                correct_so_far += 1\n",
    "            elif(layer_2 < 0.5 and label == 'NEGATIVE'):\n",
    "                correct_so_far += 1\n",
    "\n",
    "            # For debug purposes, print out our prediction accuracy and speed \n",
    "            # throughout the training process. \n",
    "\n",
    "            elapsed_time = float(time.time() - start)\n",
    "            reviews_per_second = i / elapsed_time if elapsed_time > 0 else 0\n",
    "            \n",
    "            sys.stdout.write(\"\\rProgress:\" + str(100 * i/float(len(training_reviews)))[:4] \\\n",
    "                             + \"% Speed(reviews/sec):\" + str(reviews_per_second)[0:5] \\\n",
    "                             + \" #Correct:\" + str(correct_so_far) + \" #Trained:\" + str(i+1) \\\n",
    "                             + \" Training Accuracy:\" + str(correct_so_far * 100 / float(i+1))[:4] + \"%\")\n",
    "            if(i % 2500 == 0):\n",
    "                print(\"\")\n",
    "    \n",
    "    def test(self, testing_reviews, testing_labels):\n",
    "        \"\"\"\n",
    "        Attempts to predict the labels for the given testing_reviews,\n",
    "        and uses the test_labels to calculate the accuracy of those predictions.\n",
    "        \"\"\"\n",
    "        \n",
    "        # keep track of how many correct predictions we make\n",
    "        correct = 0\n",
    "\n",
    "        # we'll time how many predictions per second we make\n",
    "        start = time.time()\n",
    "\n",
    "        # Loop through each of the given reviews and call run to predict\n",
    "        # its label. \n",
    "        for i in range(len(testing_reviews)):\n",
    "            pred = self.run(testing_reviews[i])\n",
    "            if(pred == testing_labels[i]):\n",
    "                correct += 1\n",
    "            \n",
    "            # For debug purposes, print out our prediction accuracy and speed \n",
    "            # throughout the prediction process. \n",
    "\n",
    "            elapsed_time = float(time.time() - start)\n",
    "            reviews_per_second = i / elapsed_time if elapsed_time > 0 else 0\n",
    "            \n",
    "            sys.stdout.write(\"\\rProgress:\" + str(100 * i/float(len(testing_reviews)))[:4] \\\n",
    "                             + \"% Speed(reviews/sec):\" + str(reviews_per_second)[0:5] \\\n",
    "                             + \" #Correct:\" + str(correct) + \" #Tested:\" + str(i+1) \\\n",
    "                             + \" Testing Accuracy:\" + str(correct * 100 / float(i+1))[:4] + \"%\")\n",
    "    \n",
    "    def run(self, review):\n",
    "        \"\"\"\n",
    "        Returns a POSITIVE or NEGATIVE prediction for the given review.\n",
    "        \"\"\"\n",
    "        # TODO: Run a forward pass through the network, like you did in the\n",
    "        #       \"train\" function. That means use the given review to \n",
    "        #       update the input layer, then calculate values for the hidden layer,\n",
    "        #       and finally calculate the output layer.\n",
    "        #\n",
    "        #       Note: The review passed into this function for prediction \n",
    "        #             might come from anywhere, so you should convert it \n",
    "        #             to lower case prior to using it.\n",
    "        self.update_input_layer(review.lower())\n",
    "        layer_1 = self.layer_0.dot(self.weights_0_1)\n",
    "        layer_2 = self.sigmoid(layer_1.dot(self.weights_1_2))\n",
    "\n",
    "        # TODO: The output layer should now contain a prediction. \n",
    "        #       Return `POSITIVE` for predictions greater-than-or-equal-to `0.5`, \n",
    "        #       and `NEGATIVE` otherwise.\n",
    "\n",
    "        if(layer_2[0] >= 0.5):\n",
    "            return 'POSITIVE'\n",
    "        else:\n",
    "            return 'NEGATIVE'\n",
    "\n"
   ]
  },
  {
   "cell_type": "code",
   "execution_count": 106,
   "metadata": {},
   "outputs": [],
   "source": [
    "# Somehow this work\n",
    "\n",
    "import time\n",
    "import sys\n",
    "import numpy as np\n",
    "\n",
    "# Encapsulate our neural network in a class\n",
    "class SentimentNetwork:\n",
    "    def __init__(self, reviews,labels,hidden_nodes = 10, learning_rate = 0.1):\n",
    "        \"\"\"Create a SentimenNetwork with the given settings\n",
    "        Args:\n",
    "            reviews(list) - List of reviews used for training\n",
    "            labels(list) - List of POSITIVE/NEGATIVE labels associated with the given reviews\n",
    "            hidden_nodes(int) - Number of nodes to create in the hidden layer\n",
    "            learning_rate(float) - Learning rate to use while training\n",
    "        \n",
    "        \"\"\"\n",
    "        # Assign a seed to our random number generator to ensure we get\n",
    "        # reproducable results during development \n",
    "        np.random.seed(1)\n",
    "\n",
    "        # process the reviews and their associated labels so that everything\n",
    "        # is ready for training\n",
    "        self.pre_process_data(reviews, labels)\n",
    "        \n",
    "        # Build the network to have the number of hidden nodes and the learning rate that\n",
    "        # were passed into this initializer. Make the same number of input nodes as\n",
    "        # there are vocabulary words and create a single output node.\n",
    "        self.init_network(len(self.review_vocab),hidden_nodes, 1, learning_rate)\n",
    "\n",
    "    def pre_process_data(self, reviews, labels):\n",
    "        \n",
    "        # populate review_vocab with all of the words in the given reviews\n",
    "        review_vocab = set()\n",
    "        for review in reviews:\n",
    "            for word in review.split(\" \"):\n",
    "                review_vocab.add(word)\n",
    "\n",
    "        # Convert the vocabulary set to a list so we can access words via indices\n",
    "        self.review_vocab = list(review_vocab)\n",
    "        \n",
    "        # populate label_vocab with all of the words in the given labels.\n",
    "        label_vocab = set()\n",
    "        for label in labels:\n",
    "            label_vocab.add(label)\n",
    "        \n",
    "        # Convert the label vocabulary set to a list so we can access labels via indices\n",
    "        self.label_vocab = list(label_vocab)\n",
    "        \n",
    "        # Store the sizes of the review and label vocabularies.\n",
    "        self.review_vocab_size = len(self.review_vocab)\n",
    "        self.label_vocab_size = len(self.label_vocab)\n",
    "        \n",
    "        # Create a dictionary of words in the vocabulary mapped to index positions\n",
    "        self.word2index = {}\n",
    "        for i, word in enumerate(self.review_vocab):\n",
    "            self.word2index[word] = i\n",
    "        \n",
    "        # Create a dictionary of labels mapped to index positions\n",
    "        self.label2index = {}\n",
    "        for i, label in enumerate(self.label_vocab):\n",
    "            self.label2index[label] = i\n",
    "        \n",
    "    def init_network(self, input_nodes, hidden_nodes, output_nodes, learning_rate):\n",
    "        # Set number of nodes in input, hidden and output layers.\n",
    "        self.input_nodes = input_nodes\n",
    "        self.hidden_nodes = hidden_nodes\n",
    "        self.output_nodes = output_nodes\n",
    "\n",
    "        # Store the learning rate\n",
    "        self.learning_rate = learning_rate\n",
    "\n",
    "        # Initialize weights\n",
    "\n",
    "        # These are the weights between the input layer and the hidden layer.\n",
    "        self.weights_0_1 = np.zeros((self.input_nodes,self.hidden_nodes))\n",
    "    \n",
    "        # These are the weights between the hidden layer and the output layer.\n",
    "        ## NOTE: the difference in the standard deviation of the normal weights\n",
    "        ## This has been changed from `self.output_nodes**-0.5` to `self.hidden_nodes**-0.5`\n",
    "        self.weights_1_2 = np.random.normal(0.0, self.hidden_nodes**-0.5, \n",
    "                                                (self.hidden_nodes, self.output_nodes))\n",
    "        \n",
    "        # The input layer, a two-dimensional matrix with shape 1 x input_nodes\n",
    "        self.layer_0 = np.zeros((1,input_nodes))\n",
    "    \n",
    "    def update_input_layer(self,review):\n",
    "\n",
    "        # clear out previous state, reset the layer to be all 0s\n",
    "        self.layer_0 *= 0\n",
    "        \n",
    "        for word in review.split(\" \"):\n",
    "            # NOTE: This if-check was not in the version of this method created in Project 2,\n",
    "            #       and it appears in Andrew's Project 3 solution without explanation. \n",
    "            #       It simply ensures the word is actually a key in word2index before\n",
    "            #       accessing it, which is important because accessing an invalid key\n",
    "            #       with raise an exception in Python. This allows us to ignore unknown\n",
    "            #       words encountered in new reviews.\n",
    "            if(word in self.word2index.keys()):\n",
    "                self.layer_0[0][self.word2index[word]] += 1\n",
    "                \n",
    "    def get_target_for_label(self,label):\n",
    "        if(label == 'POSITIVE'):\n",
    "            return 1\n",
    "        else:\n",
    "            return 0\n",
    "        \n",
    "    def sigmoid(self,x):\n",
    "        return 1 / (1 + np.exp(-x))\n",
    "    \n",
    "    def sigmoid_output_2_derivative(self,output):\n",
    "        return output * (1 - output)\n",
    "    \n",
    "    def train(self, training_reviews, training_labels):\n",
    "        \n",
    "        # make sure out we have a matching number of reviews and labels\n",
    "        assert(len(training_reviews) == len(training_labels))\n",
    "        \n",
    "        # Keep track of correct predictions to display accuracy during training \n",
    "        correct_so_far = 0\n",
    "\n",
    "        # Remember when we started for printing time statistics\n",
    "        start = time.time()\n",
    "        \n",
    "        # loop through all the given reviews and run a forward and backward pass,\n",
    "        # updating weights for every item\n",
    "        for i in range(len(training_reviews)):\n",
    "            \n",
    "            # Get the next review and its correct label\n",
    "            review = training_reviews[i]\n",
    "            label = training_labels[i]\n",
    "            \n",
    "            #### Implement the forward pass here ####\n",
    "            ### Forward pass ###\n",
    "\n",
    "            # Input Layer\n",
    "            self.update_input_layer(review)\n",
    "\n",
    "            # Hidden layer\n",
    "            layer_1 = self.layer_0.dot(self.weights_0_1)\n",
    "\n",
    "            # Output layer\n",
    "            layer_2 = self.sigmoid(layer_1.dot(self.weights_1_2))\n",
    "            \n",
    "            #### Implement the backward pass here ####\n",
    "            ### Backward pass ###\n",
    "\n",
    "            # Output error\n",
    "            layer_2_error = layer_2 - self.get_target_for_label(label) # Output layer error is the difference between desired target and actual output.\n",
    "            layer_2_delta = layer_2_error * self.sigmoid_output_2_derivative(layer_2)\n",
    "\n",
    "            # Backpropagated error\n",
    "            layer_1_error = layer_2_delta.dot(self.weights_1_2.T) # errors propagated to the hidden layer\n",
    "            layer_1_delta = layer_1_error # hidden layer gradients - no nonlinearity so it's the same as the error\n",
    "\n",
    "            # Update the weights\n",
    "            self.weights_1_2 -= layer_1.T.dot(layer_2_delta) * self.learning_rate # update hidden-to-output weights with gradient descent step\n",
    "            self.weights_0_1 -= self.layer_0.T.dot(layer_1_delta) * self.learning_rate # update input-to-hidden weights with gradient descent step\n",
    "\n",
    "            # Keep track of correct predictions.\n",
    "            if(layer_2 >= 0.5 and label == 'POSITIVE'):\n",
    "                correct_so_far += 1\n",
    "            elif(layer_2 < 0.5 and label == 'NEGATIVE'):\n",
    "                correct_so_far += 1\n",
    "            \n",
    "            # For debug purposes, print out our prediction accuracy and speed \n",
    "            # throughout the training process. \n",
    "            elapsed_time = float(time.time() - start)\n",
    "            reviews_per_second = i / elapsed_time if elapsed_time > 0 else 0\n",
    "            \n",
    "            sys.stdout.write(\"\\rProgress:\" + str(100 * i/float(len(training_reviews)))[:4] \\\n",
    "                             + \"% Speed(reviews/sec):\" + str(reviews_per_second)[0:5] \\\n",
    "                             + \" #Correct:\" + str(correct_so_far) + \" #Trained:\" + str(i+1) \\\n",
    "                             + \" Training Accuracy:\" + str(correct_so_far * 100 / float(i+1))[:4] + \"%\")\n",
    "            if(i % 2500 == 0):\n",
    "                print(\"\")\n",
    "    \n",
    "    def test(self, testing_reviews, testing_labels):\n",
    "        \"\"\"\n",
    "        Attempts to predict the labels for the given testing_reviews,\n",
    "        and uses the test_labels to calculate the accuracy of those predictions.\n",
    "        \"\"\"\n",
    "        \n",
    "        # keep track of how many correct predictions we make\n",
    "        correct = 0\n",
    "\n",
    "        # we'll time how many predictions per second we make\n",
    "        start = time.time()\n",
    "\n",
    "        # Loop through each of the given reviews and call run to predict\n",
    "        # its label. \n",
    "        for i in range(len(testing_reviews)):\n",
    "            pred = self.run(testing_reviews[i])\n",
    "            if(pred == testing_labels[i]):\n",
    "                correct += 1\n",
    "            \n",
    "            # For debug purposes, print out our prediction accuracy and speed \n",
    "            # throughout the prediction process. \n",
    "\n",
    "            elapsed_time = float(time.time() - start)\n",
    "            reviews_per_second = i / elapsed_time if elapsed_time > 0 else 0\n",
    "            \n",
    "            sys.stdout.write(\"\\rProgress:\" + str(100 * i/float(len(testing_reviews)))[:4] \\\n",
    "                             + \"% Speed(reviews/sec):\" + str(reviews_per_second)[0:5] \\\n",
    "                             + \" #Correct:\" + str(correct) + \" #Tested:\" + str(i+1) \\\n",
    "                             + \" Testing Accuracy:\" + str(correct * 100 / float(i+1))[:4] + \"%\")\n",
    "    \n",
    "    def run(self, review):\n",
    "        \"\"\"\n",
    "        Returns a POSITIVE or NEGATIVE prediction for the given review.\n",
    "        \"\"\"\n",
    "        # Run a forward pass through the network, like in the \"train\" function.\n",
    "        \n",
    "        # Input Layer\n",
    "        self.update_input_layer(review.lower())\n",
    "\n",
    "        # Hidden layer\n",
    "        layer_1 = self.layer_0.dot(self.weights_0_1)\n",
    "\n",
    "        # Output layer\n",
    "        layer_2 = self.sigmoid(layer_1.dot(self.weights_1_2))\n",
    "        \n",
    "        # Return POSITIVE for values above greater-than-or-equal-to 0.5 in the output layer;\n",
    "        # return NEGATIVE for other values\n",
    "        if(layer_2[0] >= 0.5):\n",
    "            return \"POSITIVE\"\n",
    "        else:\n",
    "            return \"NEGATIVE\"\n",
    "        "
   ]
  },
  {
   "cell_type": "markdown",
   "metadata": {},
   "source": [
    "Run the following cell to create a `SentimentNetwork` that will train on all but the last 1000 reviews (we're saving those for testing). Here we use a learning rate of `0.1`."
   ]
  },
  {
   "cell_type": "code",
   "execution_count": 101,
   "metadata": {
    "collapsed": true
   },
   "outputs": [],
   "source": [
    "mlp = SentimentNetwork(reviews[:-1000],labels[:-1000], learning_rate=0.1)"
   ]
  },
  {
   "cell_type": "markdown",
   "metadata": {},
   "source": [
    "Run the following cell to test the network's performance against the last 1000 reviews (the ones we held out from our training set). \n",
    "\n",
    "**We have not trained the model yet, so the results should be about 50% as it will just be guessing and there are only two possible values to choose from.**"
   ]
  },
  {
   "cell_type": "code",
   "execution_count": 102,
   "metadata": {
    "collapsed": true
   },
   "outputs": [
    {
     "output_type": "stream",
     "name": "stdout",
     "text": "Progress:99.9% Speed(reviews/sec):855.3 #Correct:500 #Tested:1000 Testing Accuracy:50.0%"
    }
   ],
   "source": [
    "mlp.test(reviews[-1000:],labels[-1000:])"
   ]
  },
  {
   "cell_type": "markdown",
   "metadata": {},
   "source": [
    "Run the following cell to actually train the network. During training, it will display the model's accuracy repeatedly as it trains so you can see how well it's doing."
   ]
  },
  {
   "cell_type": "code",
   "execution_count": 103,
   "metadata": {
    "collapsed": true
   },
   "outputs": [
    {
     "output_type": "stream",
     "name": "stdout",
     "text": "Progress:0.0% Speed(reviews/sec):0.0 #Correct:1 #Trained:1 Training Accuracy:100.%\nProgress:10.4% Speed(reviews/sec):94.72 #Correct:1247 #Trained:2501 Training Accuracy:49.8%\nProgress:20.8% Speed(reviews/sec):92.86 #Correct:2366 #Trained:5001 Training Accuracy:47.3%\nProgress:31.2% Speed(reviews/sec):90.92 #Correct:3616 #Trained:7501 Training Accuracy:48.2%\nProgress:41.6% Speed(reviews/sec):89.83 #Correct:4866 #Trained:10001 Training Accuracy:48.6%\nProgress:52.0% Speed(reviews/sec):89.97 #Correct:6172 #Trained:12501 Training Accuracy:49.3%\nProgress:62.5% Speed(reviews/sec):90.48 #Correct:7581 #Trained:15001 Training Accuracy:50.5%\nProgress:72.9% Speed(reviews/sec):90.87 #Correct:8934 #Trained:17501 Training Accuracy:51.0%\nProgress:83.3% Speed(reviews/sec):91.44 #Correct:10454 #Trained:20001 Training Accuracy:52.2%\nProgress:93.7% Speed(reviews/sec):91.45 #Correct:11804 #Trained:22501 Training Accuracy:52.4%\nProgress:99.9% Speed(reviews/sec):91.15 #Correct:12554 #Trained:24000 Training Accuracy:52.3%"
    }
   ],
   "source": [
    "mlp.train(reviews[:-1000],labels[:-1000])"
   ]
  },
  {
   "cell_type": "markdown",
   "metadata": {},
   "source": [
    "That most likely didn't train very well. Part of the reason may be because the learning rate is too high. Run the following cell to recreate the network with a smaller learning rate, `0.01`, and then train the new network."
   ]
  },
  {
   "cell_type": "code",
   "execution_count": 104,
   "metadata": {
    "collapsed": true
   },
   "outputs": [
    {
     "output_type": "stream",
     "name": "stdout",
     "text": "Progress:0.0% Speed(reviews/sec):0.0 #Correct:1 #Trained:1 Training Accuracy:100.%\nProgress:10.4% Speed(reviews/sec):93.59 #Correct:1408 #Trained:2501 Training Accuracy:56.2%\nProgress:20.8% Speed(reviews/sec):94.04 #Correct:2989 #Trained:5001 Training Accuracy:59.7%\nProgress:31.2% Speed(reviews/sec):94.59 #Correct:4661 #Trained:7501 Training Accuracy:62.1%\nProgress:41.6% Speed(reviews/sec):94.47 #Correct:6403 #Trained:10001 Training Accuracy:64.0%\nProgress:52.0% Speed(reviews/sec):94.73 #Correct:8182 #Trained:12501 Training Accuracy:65.4%\nProgress:62.5% Speed(reviews/sec):94.78 #Correct:9960 #Trained:15001 Training Accuracy:66.3%\nProgress:72.9% Speed(reviews/sec):94.88 #Correct:11733 #Trained:17501 Training Accuracy:67.0%\nProgress:83.3% Speed(reviews/sec):94.90 #Correct:13595 #Trained:20001 Training Accuracy:67.9%\nProgress:93.7% Speed(reviews/sec):94.94 #Correct:15446 #Trained:22501 Training Accuracy:68.6%\nProgress:99.9% Speed(reviews/sec):94.92 #Correct:16598 #Trained:24000 Training Accuracy:69.1%"
    }
   ],
   "source": [
    "mlp = SentimentNetwork(reviews[:-1000],labels[:-1000], learning_rate=0.01)\n",
    "mlp.train(reviews[:-1000],labels[:-1000])"
   ]
  },
  {
   "cell_type": "markdown",
   "metadata": {},
   "source": [
    "That probably wasn't much different. Run the following cell to recreate the network one more time with an even smaller learning rate, `0.001`, and then train the new network."
   ]
  },
  {
   "cell_type": "code",
   "execution_count": 105,
   "metadata": {
    "collapsed": true
   },
   "outputs": [
    {
     "output_type": "stream",
     "name": "stdout",
     "text": "Progress:0.0% Speed(reviews/sec):0.0 #Correct:1 #Trained:1 Training Accuracy:100.%\nProgress:10.4% Speed(reviews/sec):92.30 #Correct:1356 #Trained:2501 Training Accuracy:54.2%\nProgress:20.8% Speed(reviews/sec):87.41 #Correct:2913 #Trained:5001 Training Accuracy:58.2%\nProgress:31.2% Speed(reviews/sec):87.85 #Correct:4573 #Trained:7501 Training Accuracy:60.9%\nProgress:41.6% Speed(reviews/sec):87.95 #Correct:6317 #Trained:10001 Training Accuracy:63.1%\nProgress:52.0% Speed(reviews/sec):87.43 #Correct:8114 #Trained:12501 Training Accuracy:64.9%\nProgress:62.5% Speed(reviews/sec):85.94 #Correct:9909 #Trained:15001 Training Accuracy:66.0%\nProgress:72.9% Speed(reviews/sec):86.06 #Correct:11700 #Trained:17501 Training Accuracy:66.8%\nProgress:83.3% Speed(reviews/sec):85.72 #Correct:13574 #Trained:20001 Training Accuracy:67.8%\nProgress:93.7% Speed(reviews/sec):85.34 #Correct:15442 #Trained:22501 Training Accuracy:68.6%\nProgress:99.9% Speed(reviews/sec):85.29 #Correct:16597 #Trained:24000 Training Accuracy:69.1%"
    }
   ],
   "source": [
    "mlp = SentimentNetwork(reviews[:-1000],labels[:-1000], learning_rate=0.001)\n",
    "mlp.train(reviews[:-1000],labels[:-1000])"
   ]
  },
  {
   "cell_type": "markdown",
   "metadata": {},
   "source": [
    "With a learning rate of `0.001`, the network should finally have started to improve during training. It's still not very good, but it shows that this solution has potential. We will improve it in the next lesson."
   ]
  },
  {
   "cell_type": "markdown",
   "metadata": {},
   "source": [
    "# End of Project 3. \n",
    "## Watch the next video to see Andrew's solution, then continue on to the next lesson."
   ]
  },
  {
   "cell_type": "markdown",
   "metadata": {},
   "source": [
    "# Understanding Neural Noise<a id='lesson_4'></a>\n",
    "\n",
    "The following cells include includes the code Andrew shows in the next video. We've included it here so you can run the cells along with the video without having to type in everything."
   ]
  },
  {
   "cell_type": "code",
   "execution_count": null,
   "metadata": {
    "collapsed": true
   },
   "outputs": [],
   "source": [
    "from IPython.display import Image\n",
    "Image(filename='sentiment_network.png')"
   ]
  },
  {
   "cell_type": "code",
   "execution_count": null,
   "metadata": {
    "collapsed": true
   },
   "outputs": [],
   "source": [
    "def update_input_layer(review):\n",
    "    \n",
    "    global layer_0\n",
    "    \n",
    "    # clear out previous state, reset the layer to be all 0s\n",
    "    layer_0 *= 0\n",
    "    for word in review.split(\" \"):\n",
    "        layer_0[0][word2index[word]] += 1\n",
    "\n",
    "update_input_layer(reviews[0])"
   ]
  },
  {
   "cell_type": "code",
   "execution_count": null,
   "metadata": {
    "collapsed": true
   },
   "outputs": [],
   "source": [
    "layer_0"
   ]
  },
  {
   "cell_type": "code",
   "execution_count": null,
   "metadata": {
    "collapsed": true
   },
   "outputs": [],
   "source": [
    "review_counter = Counter()"
   ]
  },
  {
   "cell_type": "code",
   "execution_count": null,
   "metadata": {
    "collapsed": true
   },
   "outputs": [],
   "source": [
    "for word in reviews[0].split(\" \"):\n",
    "    review_counter[word] += 1"
   ]
  },
  {
   "cell_type": "code",
   "execution_count": null,
   "metadata": {
    "collapsed": true
   },
   "outputs": [],
   "source": [
    "review_counter.most_common()"
   ]
  },
  {
   "cell_type": "markdown",
   "metadata": {},
   "source": [
    "# Project 4: Reducing Noise in Our Input Data<a id='project_4'></a>\n",
    "\n",
    "**TODO:** Attempt to reduce the noise in the input data like Andrew did in the previous video. Specifically, do the following:\n",
    "* Copy the `SentimentNetwork` class you created earlier into the following cell.\n",
    "* Modify `update_input_layer` so it does not count how many times each word is used, but rather just stores whether or not a word was used. "
   ]
  },
  {
   "cell_type": "code",
   "execution_count": null,
   "metadata": {
    "collapsed": true
   },
   "outputs": [],
   "source": [
    "# TODO: -Copy the SentimentNetwork class from Projet 3 lesson\n",
    "#       -Modify it to reduce noise, like in the video "
   ]
  },
  {
   "cell_type": "markdown",
   "metadata": {},
   "source": [
    "Run the following cell to recreate the network and train it. Notice we've gone back to the higher learning rate of `0.1`."
   ]
  },
  {
   "cell_type": "code",
   "execution_count": null,
   "metadata": {
    "collapsed": true
   },
   "outputs": [],
   "source": [
    "mlp = SentimentNetwork(reviews[:-1000],labels[:-1000], learning_rate=0.1)\n",
    "mlp.train(reviews[:-1000],labels[:-1000])"
   ]
  },
  {
   "cell_type": "markdown",
   "metadata": {},
   "source": [
    "That should have trained much better than the earlier attempts. It's still not wonderful, but it should have improved dramatically. Run the following cell to test your model with 1000 predictions."
   ]
  },
  {
   "cell_type": "code",
   "execution_count": null,
   "metadata": {
    "collapsed": true
   },
   "outputs": [],
   "source": [
    "mlp.test(reviews[-1000:],labels[-1000:])"
   ]
  },
  {
   "cell_type": "markdown",
   "metadata": {},
   "source": [
    "# End of Project 4. \n",
    "## Andrew's solution was actually in the previous video, so rewatch that video if you had any problems with that project. Then continue on to the next lesson.\n",
    "# Analyzing Inefficiencies in our Network<a id='lesson_5'></a>\n",
    "The following cells include the code Andrew shows in the next video. We've included it here so you can run the cells along with the video without having to type in everything."
   ]
  },
  {
   "cell_type": "code",
   "execution_count": null,
   "metadata": {
    "collapsed": true
   },
   "outputs": [],
   "source": [
    "Image(filename='sentiment_network_sparse.png')"
   ]
  },
  {
   "cell_type": "code",
   "execution_count": null,
   "metadata": {
    "collapsed": true
   },
   "outputs": [],
   "source": [
    "layer_0 = np.zeros(10)"
   ]
  },
  {
   "cell_type": "code",
   "execution_count": null,
   "metadata": {
    "collapsed": true
   },
   "outputs": [],
   "source": [
    "layer_0"
   ]
  },
  {
   "cell_type": "code",
   "execution_count": null,
   "metadata": {
    "collapsed": true
   },
   "outputs": [],
   "source": [
    "layer_0[4] = 1\n",
    "layer_0[9] = 1"
   ]
  },
  {
   "cell_type": "code",
   "execution_count": null,
   "metadata": {
    "collapsed": true
   },
   "outputs": [],
   "source": [
    "layer_0"
   ]
  },
  {
   "cell_type": "code",
   "execution_count": null,
   "metadata": {
    "collapsed": true
   },
   "outputs": [],
   "source": [
    "weights_0_1 = np.random.randn(10,5)"
   ]
  },
  {
   "cell_type": "code",
   "execution_count": null,
   "metadata": {
    "collapsed": true
   },
   "outputs": [],
   "source": [
    "layer_0.dot(weights_0_1)"
   ]
  },
  {
   "cell_type": "code",
   "execution_count": null,
   "metadata": {
    "collapsed": true
   },
   "outputs": [],
   "source": [
    "indices = [4,9]"
   ]
  },
  {
   "cell_type": "code",
   "execution_count": null,
   "metadata": {
    "collapsed": true
   },
   "outputs": [],
   "source": [
    "layer_1 = np.zeros(5)"
   ]
  },
  {
   "cell_type": "code",
   "execution_count": null,
   "metadata": {
    "collapsed": true
   },
   "outputs": [],
   "source": [
    "for index in indices:\n",
    "    layer_1 += (1 * weights_0_1[index])"
   ]
  },
  {
   "cell_type": "code",
   "execution_count": null,
   "metadata": {
    "collapsed": true
   },
   "outputs": [],
   "source": [
    "layer_1"
   ]
  },
  {
   "cell_type": "code",
   "execution_count": null,
   "metadata": {
    "collapsed": true
   },
   "outputs": [],
   "source": [
    "Image(filename='sentiment_network_sparse_2.png')"
   ]
  },
  {
   "cell_type": "code",
   "execution_count": null,
   "metadata": {
    "collapsed": true
   },
   "outputs": [],
   "source": [
    "layer_1 = np.zeros(5)"
   ]
  },
  {
   "cell_type": "code",
   "execution_count": null,
   "metadata": {
    "collapsed": true
   },
   "outputs": [],
   "source": [
    "for index in indices:\n",
    "    layer_1 += (weights_0_1[index])"
   ]
  },
  {
   "cell_type": "code",
   "execution_count": null,
   "metadata": {
    "collapsed": true
   },
   "outputs": [],
   "source": [
    "layer_1"
   ]
  },
  {
   "cell_type": "markdown",
   "metadata": {},
   "source": [
    "# Project 5: Making our Network More Efficient<a id='project_5'></a>\n",
    "**TODO:** Make the `SentimentNetwork` class more efficient by eliminating unnecessary multiplications and additions that occur during forward and backward propagation. To do that, you can do the following:\n",
    "* Copy the `SentimentNetwork` class from the previous project into the following cell.\n",
    "* Remove the `update_input_layer` function - you will not need it in this version.\n",
    "* Modify `init_network`:\n",
    ">* You no longer need a separate input layer, so remove any mention of `self.layer_0`\n",
    ">* You will be dealing with the old hidden layer more directly, so create `self.layer_1`, a two-dimensional matrix with shape 1 x hidden_nodes, with all values initialized to zero\n",
    "* Modify `train`:\n",
    ">* Change the name of the input parameter `training_reviews` to `training_reviews_raw`. This will help with the next step.\n",
    ">* At the beginning of the function, you'll want to preprocess your reviews to convert them to a list of indices (from `word2index`) that are actually used in the review. This is equivalent to what you saw in the video when Andrew set specific indices to 1. Your code should create a local `list` variable named `training_reviews` that should contain a `list` for each review in `training_reviews_raw`. Those lists should contain the indices for words found in the review.\n",
    ">* Remove call to `update_input_layer`\n",
    ">* Use `self`'s  `layer_1` instead of a local `layer_1` object.\n",
    ">* In the forward pass, replace the code that updates `layer_1` with new logic that only adds the weights for the indices used in the review.\n",
    ">* When updating `weights_0_1`, only update the individual weights that were used in the forward pass.\n",
    "* Modify `run`:\n",
    ">* Remove call to `update_input_layer` \n",
    ">* Use `self`'s  `layer_1` instead of a local `layer_1` object.\n",
    ">* Much like you did in `train`, you will need to pre-process the `review` so you can work with word indices, then update `layer_1` by adding weights for the indices used in the review."
   ]
  },
  {
   "cell_type": "code",
   "execution_count": null,
   "metadata": {
    "collapsed": true
   },
   "outputs": [],
   "source": [
    "# TODO: -Copy the SentimentNetwork class from Project 4 lesson\n",
    "#       -Modify it according to the above instructions "
   ]
  },
  {
   "cell_type": "markdown",
   "metadata": {},
   "source": [
    "Run the following cell to recreate the network and train it once again."
   ]
  },
  {
   "cell_type": "code",
   "execution_count": null,
   "metadata": {
    "collapsed": true
   },
   "outputs": [],
   "source": [
    "mlp = SentimentNetwork(reviews[:-1000],labels[:-1000], learning_rate=0.1)\n",
    "mlp.train(reviews[:-1000],labels[:-1000])"
   ]
  },
  {
   "cell_type": "markdown",
   "metadata": {},
   "source": [
    "That should have trained much better than the earlier attempts. Run the following cell to test your model with 1000 predictions."
   ]
  },
  {
   "cell_type": "code",
   "execution_count": null,
   "metadata": {
    "collapsed": true
   },
   "outputs": [],
   "source": [
    "mlp.test(reviews[-1000:],labels[-1000:])"
   ]
  },
  {
   "cell_type": "markdown",
   "metadata": {},
   "source": [
    "# End of Project 5. \n",
    "## Watch the next video to see Andrew's solution, then continue on to the next lesson.\n",
    "# Further Noise Reduction<a id='lesson_6'></a>"
   ]
  },
  {
   "cell_type": "code",
   "execution_count": null,
   "metadata": {
    "collapsed": true
   },
   "outputs": [],
   "source": [
    "Image(filename='sentiment_network_sparse_2.png')"
   ]
  },
  {
   "cell_type": "code",
   "execution_count": null,
   "metadata": {
    "collapsed": true
   },
   "outputs": [],
   "source": [
    "# words most frequently seen in a review with a \"POSITIVE\" label\n",
    "pos_neg_ratios.most_common()"
   ]
  },
  {
   "cell_type": "code",
   "execution_count": null,
   "metadata": {
    "collapsed": true
   },
   "outputs": [],
   "source": [
    "# words most frequently seen in a review with a \"NEGATIVE\" label\n",
    "list(reversed(pos_neg_ratios.most_common()))[0:30]"
   ]
  },
  {
   "cell_type": "code",
   "execution_count": null,
   "metadata": {
    "collapsed": true
   },
   "outputs": [],
   "source": [
    "from bokeh.models import ColumnDataSource, LabelSet\n",
    "from bokeh.plotting import figure, show, output_file\n",
    "from bokeh.io import output_notebook\n",
    "output_notebook()"
   ]
  },
  {
   "cell_type": "code",
   "execution_count": null,
   "metadata": {
    "collapsed": true
   },
   "outputs": [],
   "source": [
    "hist, edges = np.histogram(list(map(lambda x:x[1],pos_neg_ratios.most_common())), density=True, bins=100, normed=True)\n",
    "\n",
    "p = figure(tools=\"pan,wheel_zoom,reset,save\",\n",
    "           toolbar_location=\"above\",\n",
    "           title=\"Word Positive/Negative Affinity Distribution\")\n",
    "p.quad(top=hist, bottom=0, left=edges[:-1], right=edges[1:], line_color=\"#555555\")\n",
    "show(p)"
   ]
  },
  {
   "cell_type": "code",
   "execution_count": null,
   "metadata": {
    "collapsed": true
   },
   "outputs": [],
   "source": [
    "frequency_frequency = Counter()\n",
    "\n",
    "for word, cnt in total_counts.most_common():\n",
    "    frequency_frequency[cnt] += 1"
   ]
  },
  {
   "cell_type": "code",
   "execution_count": null,
   "metadata": {
    "collapsed": true
   },
   "outputs": [],
   "source": [
    "hist, edges = np.histogram(list(map(lambda x:x[1],frequency_frequency.most_common())), density=True, bins=100, normed=True)\n",
    "\n",
    "p = figure(tools=\"pan,wheel_zoom,reset,save\",\n",
    "           toolbar_location=\"above\",\n",
    "           title=\"The frequency distribution of the words in our corpus\")\n",
    "p.quad(top=hist, bottom=0, left=edges[:-1], right=edges[1:], line_color=\"#555555\")\n",
    "show(p)"
   ]
  },
  {
   "cell_type": "markdown",
   "metadata": {},
   "source": [
    "# Project 6: Reducing Noise by Strategically Reducing the Vocabulary<a id='project_6'></a>\n",
    "\n",
    "**TODO:** Improve `SentimentNetwork`'s performance by reducing more noise in the vocabulary. Specifically, do the following:\n",
    "* Copy the `SentimentNetwork` class from the previous project into the following cell.\n",
    "* Modify `pre_process_data`:\n",
    ">* Add two additional parameters: `min_count` and `polarity_cutoff`\n",
    ">* Calculate the positive-to-negative ratios of words used in the reviews. (You can use code you've written elsewhere in the notebook, but we are moving it into the class like we did with other helper code earlier.)\n",
    ">* Andrew's solution only calculates a postive-to-negative ratio for words that occur at least 50 times. This keeps the network from attributing too much sentiment to rarer words. You can choose to add this to your solution if you would like.  \n",
    ">* Change so words are only added to the vocabulary if they occur in the vocabulary more than `min_count` times.\n",
    ">* Change so words are only added to the vocabulary if the absolute value of their postive-to-negative ratio is at least `polarity_cutoff`\n",
    "* Modify `__init__`:\n",
    ">* Add the same two parameters (`min_count` and `polarity_cutoff`) and use them when you call `pre_process_data`"
   ]
  },
  {
   "cell_type": "code",
   "execution_count": null,
   "metadata": {
    "collapsed": true
   },
   "outputs": [],
   "source": [
    "# TODO: -Copy the SentimentNetwork class from Project 5 lesson\n",
    "#       -Modify it according to the above instructions "
   ]
  },
  {
   "cell_type": "markdown",
   "metadata": {},
   "source": [
    "Run the following cell to train your network with a small polarity cutoff."
   ]
  },
  {
   "cell_type": "code",
   "execution_count": null,
   "metadata": {
    "collapsed": true
   },
   "outputs": [],
   "source": [
    "mlp = SentimentNetwork(reviews[:-1000],labels[:-1000],min_count=20,polarity_cutoff=0.05,learning_rate=0.01)\n",
    "mlp.train(reviews[:-1000],labels[:-1000])"
   ]
  },
  {
   "cell_type": "markdown",
   "metadata": {},
   "source": [
    "And run the following cell to test it's performance. It should be "
   ]
  },
  {
   "cell_type": "code",
   "execution_count": null,
   "metadata": {
    "collapsed": true
   },
   "outputs": [],
   "source": [
    "mlp.test(reviews[-1000:],labels[-1000:])"
   ]
  },
  {
   "cell_type": "markdown",
   "metadata": {},
   "source": [
    "Run the following cell to train your network with a much larger polarity cutoff."
   ]
  },
  {
   "cell_type": "code",
   "execution_count": null,
   "metadata": {
    "collapsed": true
   },
   "outputs": [],
   "source": [
    "mlp = SentimentNetwork(reviews[:-1000],labels[:-1000],min_count=20,polarity_cutoff=0.8,learning_rate=0.01)\n",
    "mlp.train(reviews[:-1000],labels[:-1000])"
   ]
  },
  {
   "cell_type": "markdown",
   "metadata": {},
   "source": [
    "And run the following cell to test it's performance."
   ]
  },
  {
   "cell_type": "code",
   "execution_count": null,
   "metadata": {
    "collapsed": true
   },
   "outputs": [],
   "source": [
    "mlp.test(reviews[-1000:],labels[-1000:])"
   ]
  },
  {
   "cell_type": "markdown",
   "metadata": {},
   "source": [
    "# End of Project 6. \n",
    "## Watch the next video to see Andrew's solution, then continue on to the next lesson."
   ]
  },
  {
   "cell_type": "markdown",
   "metadata": {
    "collapsed": true
   },
   "source": [
    "# Analysis: What's Going on in the Weights?<a id='lesson_7'></a>"
   ]
  },
  {
   "cell_type": "code",
   "execution_count": null,
   "metadata": {
    "collapsed": true
   },
   "outputs": [],
   "source": [
    "mlp_full = SentimentNetwork(reviews[:-1000],labels[:-1000],min_count=0,polarity_cutoff=0,learning_rate=0.01)"
   ]
  },
  {
   "cell_type": "code",
   "execution_count": null,
   "metadata": {
    "collapsed": true
   },
   "outputs": [],
   "source": [
    "mlp_full.train(reviews[:-1000],labels[:-1000])"
   ]
  },
  {
   "cell_type": "code",
   "execution_count": null,
   "metadata": {
    "collapsed": true
   },
   "outputs": [],
   "source": [
    "Image(filename='sentiment_network_sparse.png')"
   ]
  },
  {
   "cell_type": "code",
   "execution_count": null,
   "metadata": {
    "collapsed": true
   },
   "outputs": [],
   "source": [
    "def get_most_similar_words(focus = \"horrible\"):\n",
    "    most_similar = Counter()\n",
    "\n",
    "    for word in mlp_full.word2index.keys():\n",
    "        most_similar[word] = np.dot(mlp_full.weights_0_1[mlp_full.word2index[word]],mlp_full.weights_0_1[mlp_full.word2index[focus]])\n",
    "    \n",
    "    return most_similar.most_common()"
   ]
  },
  {
   "cell_type": "code",
   "execution_count": null,
   "metadata": {
    "collapsed": true
   },
   "outputs": [],
   "source": [
    "get_most_similar_words(\"excellent\")"
   ]
  },
  {
   "cell_type": "code",
   "execution_count": null,
   "metadata": {
    "collapsed": true
   },
   "outputs": [],
   "source": [
    "get_most_similar_words(\"terrible\")"
   ]
  },
  {
   "cell_type": "code",
   "execution_count": null,
   "metadata": {
    "collapsed": true
   },
   "outputs": [],
   "source": [
    "import matplotlib.colors as colors\n",
    "\n",
    "words_to_visualize = list()\n",
    "for word, ratio in pos_neg_ratios.most_common(500):\n",
    "    if(word in mlp_full.word2index.keys()):\n",
    "        words_to_visualize.append(word)\n",
    "    \n",
    "for word, ratio in list(reversed(pos_neg_ratios.most_common()))[0:500]:\n",
    "    if(word in mlp_full.word2index.keys()):\n",
    "        words_to_visualize.append(word)"
   ]
  },
  {
   "cell_type": "code",
   "execution_count": null,
   "metadata": {
    "collapsed": true
   },
   "outputs": [],
   "source": [
    "pos = 0\n",
    "neg = 0\n",
    "\n",
    "colors_list = list()\n",
    "vectors_list = list()\n",
    "for word in words_to_visualize:\n",
    "    if word in pos_neg_ratios.keys():\n",
    "        vectors_list.append(mlp_full.weights_0_1[mlp_full.word2index[word]])\n",
    "        if(pos_neg_ratios[word] > 0):\n",
    "            pos+=1\n",
    "            colors_list.append(\"#00ff00\")\n",
    "        else:\n",
    "            neg+=1\n",
    "            colors_list.append(\"#000000\")"
   ]
  },
  {
   "cell_type": "code",
   "execution_count": null,
   "metadata": {
    "collapsed": true
   },
   "outputs": [],
   "source": [
    "from sklearn.manifold import TSNE\n",
    "tsne = TSNE(n_components=2, random_state=0)\n",
    "words_top_ted_tsne = tsne.fit_transform(vectors_list)"
   ]
  },
  {
   "cell_type": "code",
   "execution_count": null,
   "metadata": {
    "collapsed": true
   },
   "outputs": [],
   "source": [
    "p = figure(tools=\"pan,wheel_zoom,reset,save\",\n",
    "           toolbar_location=\"above\",\n",
    "           title=\"vector T-SNE for most polarized words\")\n",
    "\n",
    "source = ColumnDataSource(data=dict(x1=words_top_ted_tsne[:,0],\n",
    "                                    x2=words_top_ted_tsne[:,1],\n",
    "                                    names=words_to_visualize,\n",
    "                                    color=colors_list))\n",
    "\n",
    "p.scatter(x=\"x1\", y=\"x2\", size=8, source=source, fill_color=\"color\")\n",
    "\n",
    "word_labels = LabelSet(x=\"x1\", y=\"x2\", text=\"names\", y_offset=6,\n",
    "                  text_font_size=\"8pt\", text_color=\"#555555\",\n",
    "                  source=source, text_align='center')\n",
    "p.add_layout(word_labels)\n",
    "\n",
    "show(p)\n",
    "\n",
    "# green indicates positive words, black indicates negative words"
   ]
  }
 ],
 "metadata": {
  "anaconda-cloud": {},
  "kernelspec": {
   "display_name": "Python 3.7.4 64-bit",
   "language": "python",
   "name": "python37464bit9d70fb674624405fbbf5be8adca00fd6"
  },
  "language_info": {
   "codemirror_mode": {
    "name": "ipython",
    "version": 3
   },
   "file_extension": ".py",
   "mimetype": "text/x-python",
   "name": "python",
   "nbconvert_exporter": "python",
   "pygments_lexer": "ipython3",
   "version": "3.7.4-final"
  }
 },
 "nbformat": 4,
 "nbformat_minor": 1
}