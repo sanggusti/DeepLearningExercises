{
  "cells": [
    {
      "cell_type": "code",
      "metadata": {
        "id": "zX4Kg8DUTKWO",
        "colab_type": "code",
        "colab": {}
      },
      "source": [
        "#@title Licensed under the Apache License, Version 2.0 (the \"License\");\n",
        "# you may not use this file except in compliance with the License.\n",
        "# You may obtain a copy of the License at\n",
        "#\n",
        "# https://www.apache.org/licenses/LICENSE-2.0\n",
        "#\n",
        "# Unless required by applicable law or agreed to in writing, software\n",
        "# distributed under the License is distributed on an \"AS IS\" BASIS,\n",
        "# WITHOUT WARRANTIES OR CONDITIONS OF ANY KIND, either express or implied.\n",
        "# See the License for the specific language governing permissions and\n",
        "# limitations under the License."
      ],
      "execution_count": 0,
      "outputs": []
    },
    {
      "cell_type": "markdown",
      "metadata": {
        "colab_type": "text",
        "id": "Za8-Nr5k11fh"
      },
      "source": [
        "##### Copyright 2018 The TensorFlow Authors."
      ]
    },
    {
      "cell_type": "code",
      "execution_count": null,
      "metadata": {
        "cellView": "form",
        "colab": {},
        "colab_type": "code",
        "id": "Eq10uEbw0E4l"
      },
      "outputs": [],
      "source": [
        "#@title Licensed under the Apache License, Version 2.0 (the \"License\");\n",
        "# you may not use this file except in compliance with the License.\n",
        "# You may obtain a copy of the License at\n",
        "#\n",
        "# https://www.apache.org/licenses/LICENSE-2.0\n",
        "#\n",
        "# Unless required by applicable law or agreed to in writing, software\n",
        "# distributed under the License is distributed on an \"AS IS\" BASIS,\n",
        "# WITHOUT WARRANTIES OR CONDITIONS OF ANY KIND, either express or implied.\n",
        "# See the License for the specific language governing permissions and\n",
        "# limitations under the License."
      ]
    },
    {
      "cell_type": "markdown",
      "metadata": {
        "colab_type": "text",
        "id": "UysiGN3tGQHY"
      },
      "source": [
        "# Running TFLite models"
      ]
    },
    {
      "cell_type": "markdown",
      "metadata": {
        "colab_type": "text",
        "id": "2hOrvdmswy5O"
      },
      "source": [
        "<table class=\"tfo-notebook-buttons\" align=\"left\">\n",
        "  <td>\n",
        "    <a target=\"_blank\" href=\"https://colab.research.google.com/github/lmoroney/dlaicourse/blob/master/TensorFlow%20Deployment/Course%202%20-%20TensorFlow%20Lite/Week%201/Examples/TFLite_Week1_Linear_Regression.ipynb\">\n",
        "    <img src=\"https://www.tensorflow.org/images/colab_logo_32px.png\" />\n",
        "    Run in Google Colab</a>\n",
        "  </td>\n",
        "  <td>\n",
        "    <a target=\"_blank\" href=\"https://github.com/lmoroney/dlaicourse/blob/master/TensorFlow%20Deployment/Course%202%20-%20TensorFlow%20Lite/Week%201/Examples/TFLite_Week1_Linear_Regression.ipynb\">\n",
        "    <img src=\"https://www.tensorflow.org/images/GitHub-Mark-32px.png\" />\n",
        "    View source on GitHub</a>\n",
        "  </td>\n",
        "</table>"
      ]
    },
    {
      "cell_type": "markdown",
      "metadata": {
        "colab_type": "text",
        "id": "W-VhTkyTGcaQ"
      },
      "source": [
        "## Setup"
      ]
    },
    {
      "cell_type": "code",
      "execution_count": null,
      "metadata": {
        "colab": {},
        "colab_type": "code",
        "id": "Ll4ii2J9Fea_"
      },
      "outputs": [],
      "source": [
        "try:\n",
        "    %tensorflow_version 2.x\n",
        "except:\n",
        "    pass"
      ]
    },
    {
      "cell_type": "code",
      "execution_count": 1,
      "metadata": {
        "colab": {},
        "colab_type": "code",
        "id": "dy4BcTjBFTWx",
        "tags": []
      },
      "outputs": [
        {
          "output_type": "stream",
          "name": "stdout",
          "text": "• Using TensorFlow Version: 2.2.0\n"
        }
      ],
      "source": [
        "import pathlib\n",
        "import numpy as np\n",
        "import matplotlib.pyplot as plt\n",
        "\n",
        "import tensorflow as tf\n",
        "\n",
        "print('\\u2022 Using TensorFlow Version:', tf.__version__)"
      ]
    },
    {
      "cell_type": "markdown",
      "metadata": {
        "colab_type": "text",
        "id": "ceibQLDeGhI4"
      },
      "source": [
        "## Create a Basic Model of the Form y = mx + c"
      ]
    },
    {
      "cell_type": "code",
      "execution_count": 2,
      "metadata": {
        "colab": {},
        "colab_type": "code",
        "id": "YIBCsjQNF46Z",
        "tags": []
      },
      "outputs": [
        {
          "output_type": "stream",
          "name": "stdout",
          "text": "Epoch 1/200\n1/1 [==============================] - 0s 3ms/step - loss: 11.4659\nEpoch 2/200\n1/1 [==============================] - 0s 998us/step - loss: 9.2407\nEpoch 3/200\n1/1 [==============================] - 0s 998us/step - loss: 7.4855\nEpoch 4/200\n1/1 [==============================] - 0s 2ms/step - loss: 6.1001\nEpoch 5/200\n1/1 [==============================] - 0s 2ms/step - loss: 5.0059\nEpoch 6/200\n1/1 [==============================] - 0s 2ms/step - loss: 4.1408\nEpoch 7/200\n1/1 [==============================] - 0s 3ms/step - loss: 3.4559\nEpoch 8/200\n1/1 [==============================] - 0s 7ms/step - loss: 2.9131\nEpoch 9/200\n1/1 [==============================] - 0s 3ms/step - loss: 2.4820\nEpoch 10/200\n1/1 [==============================] - 0s 3ms/step - loss: 2.1390\nEpoch 11/200\n1/1 [==============================] - 0s 2ms/step - loss: 1.8652\nEpoch 12/200\n1/1 [==============================] - 0s 3ms/step - loss: 1.6462\nEpoch 13/200\n1/1 [==============================] - 0s 2ms/step - loss: 1.4701\nEpoch 14/200\n1/1 [==============================] - 0s 2ms/step - loss: 1.3280\nEpoch 15/200\n1/1 [==============================] - 0s 2ms/step - loss: 1.2127\nEpoch 16/200\n1/1 [==============================] - 0s 2ms/step - loss: 1.1185\nEpoch 17/200\n1/1 [==============================] - 0s 2ms/step - loss: 1.0410\nEpoch 18/200\n1/1 [==============================] - 0s 2ms/step - loss: 0.9768\nEpoch 19/200\n1/1 [==============================] - 0s 2ms/step - loss: 0.9230\nEpoch 20/200\n1/1 [==============================] - 0s 2ms/step - loss: 0.8775\nEpoch 21/200\n1/1 [==============================] - 0s 3ms/step - loss: 0.8386\nEpoch 22/200\n1/1 [==============================] - 0s 2ms/step - loss: 0.8049\nEpoch 23/200\n1/1 [==============================] - 0s 2ms/step - loss: 0.7755\nEpoch 24/200\n1/1 [==============================] - 0s 3ms/step - loss: 0.7494\nEpoch 25/200\n1/1 [==============================] - 0s 3ms/step - loss: 0.7260\nEpoch 26/200\n1/1 [==============================] - 0s 2ms/step - loss: 0.7048\nEpoch 27/200\n1/1 [==============================] - 0s 998us/step - loss: 0.6854\nEpoch 28/200\n1/1 [==============================] - 0s 2ms/step - loss: 0.6674\nEpoch 29/200\n1/1 [==============================] - 0s 998us/step - loss: 0.6506\nEpoch 30/200\n1/1 [==============================] - 0s 2ms/step - loss: 0.6348\nEpoch 31/200\n1/1 [==============================] - 0s 2ms/step - loss: 0.6199\nEpoch 32/200\n1/1 [==============================] - 0s 2ms/step - loss: 0.6057\nEpoch 33/200\n1/1 [==============================] - 0s 2ms/step - loss: 0.5921\nEpoch 34/200\n1/1 [==============================] - 0s 3ms/step - loss: 0.5790\nEpoch 35/200\n1/1 [==============================] - 0s 996us/step - loss: 0.5664\nEpoch 36/200\n1/1 [==============================] - 0s 996us/step - loss: 0.5542\nEpoch 37/200\n1/1 [==============================] - 0s 3ms/step - loss: 0.5423\nEpoch 38/200\n1/1 [==============================] - 0s 2ms/step - loss: 0.5308\nEpoch 39/200\n1/1 [==============================] - 0s 2ms/step - loss: 0.5196\nEpoch 40/200\n1/1 [==============================] - 0s 997us/step - loss: 0.5088\nEpoch 41/200\n1/1 [==============================] - 0s 2ms/step - loss: 0.4981\nEpoch 42/200\n1/1 [==============================] - 0s 998us/step - loss: 0.4878\nEpoch 43/200\n1/1 [==============================] - 0s 2ms/step - loss: 0.4776\nEpoch 44/200\n1/1 [==============================] - 0s 2ms/step - loss: 0.4677\nEpoch 45/200\n1/1 [==============================] - 0s 2ms/step - loss: 0.4581\nEpoch 46/200\n1/1 [==============================] - 0s 3ms/step - loss: 0.4486\nEpoch 47/200\n1/1 [==============================] - 0s 3ms/step - loss: 0.4394\nEpoch 48/200\n1/1 [==============================] - 0s 2ms/step - loss: 0.4303\nEpoch 49/200\n1/1 [==============================] - 0s 8ms/step - loss: 0.4214\nEpoch 50/200\n1/1 [==============================] - 0s 3ms/step - loss: 0.4128\nEpoch 51/200\n1/1 [==============================] - 0s 2ms/step - loss: 0.4043\nEpoch 52/200\n1/1 [==============================] - 0s 998us/step - loss: 0.3959\nEpoch 53/200\n1/1 [==============================] - 0s 2ms/step - loss: 0.3878\nEpoch 54/200\n1/1 [==============================] - 0s 997us/step - loss: 0.3798\nEpoch 55/200\n1/1 [==============================] - 0s 2ms/step - loss: 0.3720\nEpoch 56/200\n1/1 [==============================] - 0s 4ms/step - loss: 0.3644\nEpoch 57/200\n1/1 [==============================] - 0s 2ms/step - loss: 0.3569\nEpoch 58/200\n1/1 [==============================] - 0s 997us/step - loss: 0.3496\nEpoch 59/200\n1/1 [==============================] - 0s 2ms/step - loss: 0.3424\nEpoch 60/200\n1/1 [==============================] - 0s 2ms/step - loss: 0.3353\nEpoch 61/200\n1/1 [==============================] - 0s 3ms/step - loss: 0.3284\nEpoch 62/200\n1/1 [==============================] - 0s 2ms/step - loss: 0.3217\nEpoch 63/200\n1/1 [==============================] - 0s 2ms/step - loss: 0.3151\nEpoch 64/200\n1/1 [==============================] - 0s 2ms/step - loss: 0.3086\nEpoch 65/200\n1/1 [==============================] - 0s 2ms/step - loss: 0.3023\nEpoch 66/200\n1/1 [==============================] - 0s 997us/step - loss: 0.2961\nEpoch 67/200\n1/1 [==============================] - 0s 997us/step - loss: 0.2900\nEpoch 68/200\n1/1 [==============================] - 0s 2ms/step - loss: 0.2840\nEpoch 69/200\n1/1 [==============================] - 0s 2ms/step - loss: 0.2782\nEpoch 70/200\n1/1 [==============================] - 0s 997us/step - loss: 0.2725\nEpoch 71/200\n1/1 [==============================] - 0s 998us/step - loss: 0.2669\nEpoch 72/200\n1/1 [==============================] - 0s 996us/step - loss: 0.2614\nEpoch 73/200\n1/1 [==============================] - 0s 2ms/step - loss: 0.2560\nEpoch 74/200\n1/1 [==============================] - 0s 2ms/step - loss: 0.2508\nEpoch 75/200\n1/1 [==============================] - 0s 2ms/step - loss: 0.2456\nEpoch 76/200\n1/1 [==============================] - 0s 3ms/step - loss: 0.2406\nEpoch 77/200\n1/1 [==============================] - 0s 4ms/step - loss: 0.2356\nEpoch 78/200\n1/1 [==============================] - 0s 3ms/step - loss: 0.2308\nEpoch 79/200\n1/1 [==============================] - 0s 2ms/step - loss: 0.2261\nEpoch 80/200\n1/1 [==============================] - 0s 3ms/step - loss: 0.2214\nEpoch 81/200\n1/1 [==============================] - 0s 2ms/step - loss: 0.2169\nEpoch 82/200\n1/1 [==============================] - 0s 2ms/step - loss: 0.2124\nEpoch 83/200\n1/1 [==============================] - 0s 2ms/step - loss: 0.2080\nEpoch 84/200\n1/1 [==============================] - 0s 998us/step - loss: 0.2038\nEpoch 85/200\n1/1 [==============================] - 0s 998us/step - loss: 0.1996\nEpoch 86/200\n1/1 [==============================] - 0s 2ms/step - loss: 0.1955\nEpoch 87/200\n1/1 [==============================] - 0s 2ms/step - loss: 0.1915\nEpoch 88/200\n1/1 [==============================] - 0s 998us/step - loss: 0.1875\nEpoch 89/200\n1/1 [==============================] - 0s 995us/step - loss: 0.1837\nEpoch 90/200\n1/1 [==============================] - 0s 998us/step - loss: 0.1799\nEpoch 91/200\n1/1 [==============================] - 0s 2ms/step - loss: 0.1762\nEpoch 92/200\n1/1 [==============================] - 0s 997us/step - loss: 0.1726\nEpoch 93/200\n1/1 [==============================] - 0s 3ms/step - loss: 0.1691\nEpoch 94/200\n1/1 [==============================] - 0s 2ms/step - loss: 0.1656\nEpoch 95/200\n1/1 [==============================] - 0s 997us/step - loss: 0.1622\nEpoch 96/200\n1/1 [==============================] - 0s 2ms/step - loss: 0.1588\nEpoch 97/200\n1/1 [==============================] - 0s 3ms/step - loss: 0.1556\nEpoch 98/200\n1/1 [==============================] - 0s 3ms/step - loss: 0.1524\nEpoch 99/200\n1/1 [==============================] - 0s 2ms/step - loss: 0.1493\nEpoch 100/200\n1/1 [==============================] - 0s 3ms/step - loss: 0.1462\nEpoch 101/200\n1/1 [==============================] - 0s 997us/step - loss: 0.1432\nEpoch 102/200\n1/1 [==============================] - 0s 2ms/step - loss: 0.1402\nEpoch 103/200\n1/1 [==============================] - 0s 997us/step - loss: 0.1374\nEpoch 104/200\n1/1 [==============================] - 0s 2ms/step - loss: 0.1345\nEpoch 105/200\n1/1 [==============================] - 0s 4ms/step - loss: 0.1318\nEpoch 106/200\n1/1 [==============================] - 0s 2ms/step - loss: 0.1291\nEpoch 107/200\n1/1 [==============================] - 0s 2ms/step - loss: 0.1264\nEpoch 108/200\n1/1 [==============================] - 0s 998us/step - loss: 0.1238\nEpoch 109/200\n1/1 [==============================] - 0s 2ms/step - loss: 0.1213\nEpoch 110/200\n1/1 [==============================] - 0s 5ms/step - loss: 0.1188\nEpoch 111/200\n1/1 [==============================] - 0s 3ms/step - loss: 0.1164\nEpoch 112/200\n1/1 [==============================] - 0s 7ms/step - loss: 0.1140\nEpoch 113/200\n1/1 [==============================] - 0s 2ms/step - loss: 0.1116\nEpoch 114/200\n1/1 [==============================] - ETA: 0s - loss: 0.1091/1 [==============================] - 0s 2ms/step - loss: 0.1093\nEpoch 115/200\n1/1 [==============================] - 0s 2ms/step - loss: 0.1071\nEpoch 116/200\n1/1 [==============================] - 0s 2ms/step - loss: 0.1049\nEpoch 117/200\n1/1 [==============================] - 0s 2ms/step - loss: 0.1027\nEpoch 118/200\n1/1 [==============================] - 0s 2ms/step - loss: 0.1006\nEpoch 119/200\n1/1 [==============================] - 0s 2ms/step - loss: 0.0986\nEpoch 120/200\n1/1 [==============================] - 0s 998us/step - loss: 0.0965\nEpoch 121/200\n1/1 [==============================] - 0s 2ms/step - loss: 0.0945\nEpoch 122/200\n1/1 [==============================] - 0s 2ms/step - loss: 0.0926\nEpoch 123/200\n1/1 [==============================] - 0s 997us/step - loss: 0.0907\nEpoch 124/200\n1/1 [==============================] - 0s 997us/step - loss: 0.0888\nEpoch 125/200\n1/1 [==============================] - 0s 2ms/step - loss: 0.0870\nEpoch 126/200\n1/1 [==============================] - 0s 998us/step - loss: 0.0852\nEpoch 127/200\n1/1 [==============================] - 0s 999us/step - loss: 0.0835\nEpoch 128/200\n1/1 [==============================] - 0s 997us/step - loss: 0.0818\nEpoch 129/200\n1/1 [==============================] - 0s 2ms/step - loss: 0.0801\nEpoch 130/200\n1/1 [==============================] - 0s 995us/step - loss: 0.0784\nEpoch 131/200\n1/1 [==============================] - 0s 2ms/step - loss: 0.0768\nEpoch 132/200\n1/1 [==============================] - 0s 2ms/step - loss: 0.0752\nEpoch 133/200\n1/1 [==============================] - ETA: 0s - loss: 0.0731/1 [==============================] - 0s 2ms/step - loss: 0.0737\nEpoch 134/200\n1/1 [==============================] - 0s 2ms/step - loss: 0.0722\nEpoch 135/200\n1/1 [==============================] - 0s 995us/step - loss: 0.0707\nEpoch 136/200\n1/1 [==============================] - 0s 2ms/step - loss: 0.0693\nEpoch 137/200\n1/1 [==============================] - 0s 2ms/step - loss: 0.0678\nEpoch 138/200\n1/1 [==============================] - 0s 998us/step - loss: 0.0664\nEpoch 139/200\n1/1 [==============================] - 0s 2ms/step - loss: 0.0651\nEpoch 140/200\n1/1 [==============================] - 0s 996us/step - loss: 0.0637\nEpoch 141/200\n1/1 [==============================] - 0s 997us/step - loss: 0.0624\nEpoch 142/200\n1/1 [==============================] - 0s 2ms/step - loss: 0.0611\nEpoch 143/200\n1/1 [==============================] - 0s 2ms/step - loss: 0.0599\nEpoch 144/200\n1/1 [==============================] - 0s 3ms/step - loss: 0.0587\nEpoch 145/200\n1/1 [==============================] - 0s 997us/step - loss: 0.0575\nEpoch 146/200\n1/1 [==============================] - 0s 2ms/step - loss: 0.0563\nEpoch 147/200\n1/1 [==============================] - 0s 2ms/step - loss: 0.0551\nEpoch 148/200\n1/1 [==============================] - 0s 2ms/step - loss: 0.0540\nEpoch 149/200\n1/1 [==============================] - 0s 998us/step - loss: 0.0529\nEpoch 150/200\n1/1 [==============================] - 0s 997us/step - loss: 0.0518\nEpoch 151/200\n1/1 [==============================] - 0s 2ms/step - loss: 0.0507\nEpoch 152/200\n1/1 [==============================] - 0s 997us/step - loss: 0.0497\nEpoch 153/200\n1/1 [==============================] - 0s 2ms/step - loss: 0.0487\nEpoch 154/200\n1/1 [==============================] - 0s 2ms/step - loss: 0.0477\nEpoch 155/200\n1/1 [==============================] - 0s 3ms/step - loss: 0.0467\nEpoch 156/200\n1/1 [==============================] - 0s 2ms/step - loss: 0.0457\nEpoch 157/200\n1/1 [==============================] - 0s 997us/step - loss: 0.0448\nEpoch 158/200\n1/1 [==============================] - 0s 2ms/step - loss: 0.0439\nEpoch 159/200\n1/1 [==============================] - 0s 2ms/step - loss: 0.0430\nEpoch 160/200\n1/1 [==============================] - 0s 3ms/step - loss: 0.0421\nEpoch 161/200\n1/1 [==============================] - 0s 2ms/step - loss: 0.0412\nEpoch 162/200\n1/1 [==============================] - 0s 997us/step - loss: 0.0404\nEpoch 163/200\n1/1 [==============================] - 0s 998us/step - loss: 0.0395\nEpoch 164/200\n1/1 [==============================] - 0s 2ms/step - loss: 0.0387\nEpoch 165/200\n1/1 [==============================] - 0s 996us/step - loss: 0.0379\nEpoch 166/200\n1/1 [==============================] - 0s 998us/step - loss: 0.0372\nEpoch 167/200\n1/1 [==============================] - 0s 998us/step - loss: 0.0364\nEpoch 168/200\n1/1 [==============================] - 0s 2ms/step - loss: 0.0356\nEpoch 169/200\n1/1 [==============================] - 0s 2ms/step - loss: 0.0349\nEpoch 170/200\n1/1 [==============================] - 0s 997us/step - loss: 0.0342\nEpoch 171/200\n1/1 [==============================] - 0s 2ms/step - loss: 0.0335\nEpoch 172/200\n1/1 [==============================] - 0s 2ms/step - loss: 0.0328\nEpoch 173/200\n1/1 [==============================] - 0s 998us/step - loss: 0.0321\nEpoch 174/200\n1/1 [==============================] - 0s 2ms/step - loss: 0.0315\nEpoch 175/200\n1/1 [==============================] - 0s 2ms/step - loss: 0.0308\nEpoch 176/200\n1/1 [==============================] - 0s 2ms/step - loss: 0.0302\nEpoch 177/200\n1/1 [==============================] - 0s 997us/step - loss: 0.0296\nEpoch 178/200\n1/1 [==============================] - 0s 998us/step - loss: 0.0290\nEpoch 179/200\n1/1 [==============================] - 0s 2ms/step - loss: 0.0284\nEpoch 180/200\n1/1 [==============================] - 0s 995us/step - loss: 0.0278\nEpoch 181/200\n1/1 [==============================] - 0s 2ms/step - loss: 0.0272\nEpoch 182/200\n1/1 [==============================] - 0s 2ms/step - loss: 0.0267\nEpoch 183/200\n1/1 [==============================] - 0s 2ms/step - loss: 0.0261\nEpoch 184/200\n1/1 [==============================] - 0s 2ms/step - loss: 0.0256\nEpoch 185/200\n1/1 [==============================] - 0s 2ms/step - loss: 0.0250\nEpoch 186/200\n1/1 [==============================] - 0s 4ms/step - loss: 0.0245\nEpoch 187/200\n1/1 [==============================] - 0s 998us/step - loss: 0.0240\nEpoch 188/200\n1/1 [==============================] - 0s 2ms/step - loss: 0.0235\nEpoch 189/200\n1/1 [==============================] - 0s 2ms/step - loss: 0.0231\nEpoch 190/200\n1/1 [==============================] - 0s 997us/step - loss: 0.0226\nEpoch 191/200\n1/1 [==============================] - 0s 2ms/step - loss: 0.0221\nEpoch 192/200\n1/1 [==============================] - 0s 2ms/step - loss: 0.0217\nEpoch 193/200\n1/1 [==============================] - 0s 2ms/step - loss: 0.0212\nEpoch 194/200\n1/1 [==============================] - 0s 2ms/step - loss: 0.0208\nEpoch 195/200\n1/1 [==============================] - 0s 997us/step - loss: 0.0204\nEpoch 196/200\n1/1 [==============================] - 0s 2ms/step - loss: 0.0199\nEpoch 197/200\n1/1 [==============================] - 0s 2ms/step - loss: 0.0195\nEpoch 198/200\n1/1 [==============================] - 0s 997us/step - loss: 0.0191\nEpoch 199/200\n1/1 [==============================] - 0s 2ms/step - loss: 0.0187\nEpoch 200/200\n1/1 [==============================] - 0s 2ms/step - loss: 0.0183\n"
        },
        {
          "output_type": "execute_result",
          "data": {
            "text/plain": "<tensorflow.python.keras.callbacks.History at 0x18a0c2a5b48>"
          },
          "metadata": {},
          "execution_count": 2
        }
      ],
      "source": [
        "# Create a simple Keras model.\n",
        "x = [-1, 0, 1, 2, 3, 4]\n",
        "y = [-3, -1, 1, 3, 5, 7]\n",
        "\n",
        "model = tf.keras.models.Sequential([\n",
        "        tf.keras.layers.Dense(units=1, input_shape=[1])\n",
        "])\n",
        "\n",
        "model.compile(optimizer='sgd',\n",
        "              loss='mean_squared_error')\n",
        "\n",
        "model.fit(x, y, epochs=200)"
      ]
    },
    {
      "cell_type": "markdown",
      "metadata": {
        "colab_type": "text",
        "id": "EjsB-QICGt6L"
      },
      "source": [
        "## Generate a SavedModel"
      ]
    },
    {
      "cell_type": "code",
      "execution_count": 3,
      "metadata": {
        "colab": {},
        "colab_type": "code",
        "id": "a9xcbK7QHOfm",
        "tags": []
      },
      "outputs": [
        {
          "output_type": "stream",
          "name": "stdout",
          "text": "WARNING:tensorflow:From C:\\Users\\gusti\\AppData\\Local\\Programs\\Python\\Python37\\lib\\site-packages\\tensorflow\\python\\ops\\resource_variable_ops.py:1817: calling BaseResourceVariable.__init__ (from tensorflow.python.ops.resource_variable_ops) with constraint is deprecated and will be removed in a future version.\nInstructions for updating:\nIf using Keras pass *_constraint arguments to layers.\nINFO:tensorflow:Assets written to: saved_model/1\\assets\n"
        }
      ],
      "source": [
        "export_dir = 'saved_model/1'\n",
        "tf.saved_model.save(model, export_dir)"
      ]
    },
    {
      "cell_type": "markdown",
      "metadata": {
        "colab_type": "text",
        "id": "RRtsNwkiGxcO"
      },
      "source": [
        "## Convert the SavedModel to TFLite"
      ]
    },
    {
      "cell_type": "code",
      "execution_count": 4,
      "metadata": {
        "colab": {},
        "colab_type": "code",
        "id": "TtM8yKTVTpD3"
      },
      "outputs": [],
      "source": [
        "# Convert the model.\n",
        "converter = tf.lite.TFLiteConverter.from_saved_model(export_dir)\n",
        "tflite_model = converter.convert()"
      ]
    },
    {
      "cell_type": "code",
      "execution_count": 5,
      "metadata": {
        "colab": {},
        "colab_type": "code",
        "id": "4idYulcNHTdO"
      },
      "outputs": [
        {
          "output_type": "execute_result",
          "data": {
            "text/plain": "764"
          },
          "metadata": {},
          "execution_count": 5
        }
      ],
      "source": [
        "tflite_model_file = pathlib.Path('model.tflite')\n",
        "tflite_model_file.write_bytes(tflite_model)"
      ]
    },
    {
      "cell_type": "markdown",
      "metadata": {
        "colab_type": "text",
        "id": "HgGvp2yBG25Q"
      },
      "source": [
        "## Initialize the TFLite Interpreter To Try It Out"
      ]
    },
    {
      "cell_type": "code",
      "execution_count": 6,
      "metadata": {
        "colab": {},
        "colab_type": "code",
        "id": "DOt94wIWF8m7"
      },
      "outputs": [],
      "source": [
        "# Load TFLite model and allocate tensors.\n",
        "interpreter = tf.lite.Interpreter(model_content=tflite_model)\n",
        "interpreter.allocate_tensors()\n",
        "\n",
        "# Get input and output tensors.\n",
        "input_details = interpreter.get_input_details()\n",
        "output_details = interpreter.get_output_details()"
      ]
    },
    {
      "cell_type": "code",
      "execution_count": 7,
      "metadata": {
        "colab": {},
        "colab_type": "code",
        "id": "JGYkEK08F8qK"
      },
      "outputs": [],
      "source": [
        "# Test the TensorFlow Lite model on random input data.\n",
        "input_shape = input_details[0]['shape']\n",
        "inputs, outputs = [], []\n",
        "for _ in range(100):\n",
        "    input_data = np.array(np.random.random_sample(input_shape), dtype=np.float32)\n",
        "    interpreter.set_tensor(input_details[0]['index'], input_data)\n",
        "    \n",
        "    interpreter.invoke()\n",
        "    tflite_results = interpreter.get_tensor(output_details[0]['index'])\n",
        "    \n",
        "    # Test the TensorFlow model on random input data.\n",
        "    tf_results = model(tf.constant(input_data))\n",
        "    output_data = np.array(tf_results)\n",
        "    \n",
        "    inputs.append(input_data[0][0])\n",
        "    outputs.append(output_data[0][0])"
      ]
    },
    {
      "cell_type": "markdown",
      "metadata": {
        "colab_type": "text",
        "id": "t1gQGH1KWAgW"
      },
      "source": [
        "## Visualize the Model"
      ]
    },
    {
      "cell_type": "code",
      "execution_count": 8,
      "metadata": {
        "colab": {},
        "colab_type": "code",
        "id": "ccvQ1mEJVrqo"
      },
      "outputs": [
        {
          "output_type": "display_data",
          "data": {
            "text/plain": "<Figure size 432x288 with 1 Axes>",
            "image/svg+xml": "<?xml version=\"1.0\" encoding=\"utf-8\" standalone=\"no\"?>\r\n<!DOCTYPE svg PUBLIC \"-//W3C//DTD SVG 1.1//EN\"\r\n  \"http://www.w3.org/Graphics/SVG/1.1/DTD/svg11.dtd\">\r\n<!-- Created with matplotlib (https://matplotlib.org/) -->\r\n<svg height=\"248.518125pt\" version=\"1.1\" viewBox=\"0 0 386.845312 248.518125\" width=\"386.845312pt\" xmlns=\"http://www.w3.org/2000/svg\" xmlns:xlink=\"http://www.w3.org/1999/xlink\">\r\n <defs>\r\n  <style type=\"text/css\">\r\n*{stroke-linecap:butt;stroke-linejoin:round;}\r\n  </style>\r\n </defs>\r\n <g id=\"figure_1\">\r\n  <g id=\"patch_1\">\r\n   <path d=\"M 0 248.518125 \r\nL 386.845312 248.518125 \r\nL 386.845312 0 \r\nL 0 0 \r\nz\r\n\" style=\"fill:none;\"/>\r\n  </g>\r\n  <g id=\"axes_1\">\r\n   <g id=\"patch_2\">\r\n    <path d=\"M 44.845313 224.64 \r\nL 379.645313 224.64 \r\nL 379.645313 7.2 \r\nL 44.845313 7.2 \r\nz\r\n\" style=\"fill:#ffffff;\"/>\r\n   </g>\r\n   <g id=\"matplotlib.axis_1\">\r\n    <g id=\"xtick_1\">\r\n     <g id=\"line2d_1\">\r\n      <defs>\r\n       <path d=\"M 0 0 \r\nL 0 3.5 \r\n\" id=\"me3504f4b9f\" style=\"stroke:#000000;stroke-width:0.8;\"/>\r\n      </defs>\r\n      <g>\r\n       <use style=\"stroke:#000000;stroke-width:0.8;\" x=\"57.000655\" xlink:href=\"#me3504f4b9f\" y=\"224.64\"/>\r\n      </g>\r\n     </g>\r\n     <g id=\"text_1\">\r\n      <!-- 0.0 -->\r\n      <defs>\r\n       <path d=\"M 31.78125 66.40625 \r\nQ 24.171875 66.40625 20.328125 58.90625 \r\nQ 16.5 51.421875 16.5 36.375 \r\nQ 16.5 21.390625 20.328125 13.890625 \r\nQ 24.171875 6.390625 31.78125 6.390625 \r\nQ 39.453125 6.390625 43.28125 13.890625 \r\nQ 47.125 21.390625 47.125 36.375 \r\nQ 47.125 51.421875 43.28125 58.90625 \r\nQ 39.453125 66.40625 31.78125 66.40625 \r\nz\r\nM 31.78125 74.21875 \r\nQ 44.046875 74.21875 50.515625 64.515625 \r\nQ 56.984375 54.828125 56.984375 36.375 \r\nQ 56.984375 17.96875 50.515625 8.265625 \r\nQ 44.046875 -1.421875 31.78125 -1.421875 \r\nQ 19.53125 -1.421875 13.0625 8.265625 \r\nQ 6.59375 17.96875 6.59375 36.375 \r\nQ 6.59375 54.828125 13.0625 64.515625 \r\nQ 19.53125 74.21875 31.78125 74.21875 \r\nz\r\n\" id=\"DejaVuSans-48\"/>\r\n       <path d=\"M 10.6875 12.40625 \r\nL 21 12.40625 \r\nL 21 0 \r\nL 10.6875 0 \r\nz\r\n\" id=\"DejaVuSans-46\"/>\r\n      </defs>\r\n      <g transform=\"translate(49.049092 239.238437)scale(0.1 -0.1)\">\r\n       <use xlink:href=\"#DejaVuSans-48\"/>\r\n       <use x=\"63.623047\" xlink:href=\"#DejaVuSans-46\"/>\r\n       <use x=\"95.410156\" xlink:href=\"#DejaVuSans-48\"/>\r\n      </g>\r\n     </g>\r\n    </g>\r\n    <g id=\"xtick_2\">\r\n     <g id=\"line2d_2\">\r\n      <g>\r\n       <use style=\"stroke:#000000;stroke-width:0.8;\" x=\"118.924955\" xlink:href=\"#me3504f4b9f\" y=\"224.64\"/>\r\n      </g>\r\n     </g>\r\n     <g id=\"text_2\">\r\n      <!-- 0.2 -->\r\n      <defs>\r\n       <path d=\"M 19.1875 8.296875 \r\nL 53.609375 8.296875 \r\nL 53.609375 0 \r\nL 7.328125 0 \r\nL 7.328125 8.296875 \r\nQ 12.9375 14.109375 22.625 23.890625 \r\nQ 32.328125 33.6875 34.8125 36.53125 \r\nQ 39.546875 41.84375 41.421875 45.53125 \r\nQ 43.3125 49.21875 43.3125 52.78125 \r\nQ 43.3125 58.59375 39.234375 62.25 \r\nQ 35.15625 65.921875 28.609375 65.921875 \r\nQ 23.96875 65.921875 18.8125 64.3125 \r\nQ 13.671875 62.703125 7.8125 59.421875 \r\nL 7.8125 69.390625 \r\nQ 13.765625 71.78125 18.9375 73 \r\nQ 24.125 74.21875 28.421875 74.21875 \r\nQ 39.75 74.21875 46.484375 68.546875 \r\nQ 53.21875 62.890625 53.21875 53.421875 \r\nQ 53.21875 48.921875 51.53125 44.890625 \r\nQ 49.859375 40.875 45.40625 35.40625 \r\nQ 44.1875 33.984375 37.640625 27.21875 \r\nQ 31.109375 20.453125 19.1875 8.296875 \r\nz\r\n\" id=\"DejaVuSans-50\"/>\r\n      </defs>\r\n      <g transform=\"translate(110.973392 239.238437)scale(0.1 -0.1)\">\r\n       <use xlink:href=\"#DejaVuSans-48\"/>\r\n       <use x=\"63.623047\" xlink:href=\"#DejaVuSans-46\"/>\r\n       <use x=\"95.410156\" xlink:href=\"#DejaVuSans-50\"/>\r\n      </g>\r\n     </g>\r\n    </g>\r\n    <g id=\"xtick_3\">\r\n     <g id=\"line2d_3\">\r\n      <g>\r\n       <use style=\"stroke:#000000;stroke-width:0.8;\" x=\"180.849254\" xlink:href=\"#me3504f4b9f\" y=\"224.64\"/>\r\n      </g>\r\n     </g>\r\n     <g id=\"text_3\">\r\n      <!-- 0.4 -->\r\n      <defs>\r\n       <path d=\"M 37.796875 64.3125 \r\nL 12.890625 25.390625 \r\nL 37.796875 25.390625 \r\nz\r\nM 35.203125 72.90625 \r\nL 47.609375 72.90625 \r\nL 47.609375 25.390625 \r\nL 58.015625 25.390625 \r\nL 58.015625 17.1875 \r\nL 47.609375 17.1875 \r\nL 47.609375 0 \r\nL 37.796875 0 \r\nL 37.796875 17.1875 \r\nL 4.890625 17.1875 \r\nL 4.890625 26.703125 \r\nz\r\n\" id=\"DejaVuSans-52\"/>\r\n      </defs>\r\n      <g transform=\"translate(172.897692 239.238437)scale(0.1 -0.1)\">\r\n       <use xlink:href=\"#DejaVuSans-48\"/>\r\n       <use x=\"63.623047\" xlink:href=\"#DejaVuSans-46\"/>\r\n       <use x=\"95.410156\" xlink:href=\"#DejaVuSans-52\"/>\r\n      </g>\r\n     </g>\r\n    </g>\r\n    <g id=\"xtick_4\">\r\n     <g id=\"line2d_4\">\r\n      <g>\r\n       <use style=\"stroke:#000000;stroke-width:0.8;\" x=\"242.773554\" xlink:href=\"#me3504f4b9f\" y=\"224.64\"/>\r\n      </g>\r\n     </g>\r\n     <g id=\"text_4\">\r\n      <!-- 0.6 -->\r\n      <defs>\r\n       <path d=\"M 33.015625 40.375 \r\nQ 26.375 40.375 22.484375 35.828125 \r\nQ 18.609375 31.296875 18.609375 23.390625 \r\nQ 18.609375 15.53125 22.484375 10.953125 \r\nQ 26.375 6.390625 33.015625 6.390625 \r\nQ 39.65625 6.390625 43.53125 10.953125 \r\nQ 47.40625 15.53125 47.40625 23.390625 \r\nQ 47.40625 31.296875 43.53125 35.828125 \r\nQ 39.65625 40.375 33.015625 40.375 \r\nz\r\nM 52.59375 71.296875 \r\nL 52.59375 62.3125 \r\nQ 48.875 64.0625 45.09375 64.984375 \r\nQ 41.3125 65.921875 37.59375 65.921875 \r\nQ 27.828125 65.921875 22.671875 59.328125 \r\nQ 17.53125 52.734375 16.796875 39.40625 \r\nQ 19.671875 43.65625 24.015625 45.921875 \r\nQ 28.375 48.1875 33.59375 48.1875 \r\nQ 44.578125 48.1875 50.953125 41.515625 \r\nQ 57.328125 34.859375 57.328125 23.390625 \r\nQ 57.328125 12.15625 50.6875 5.359375 \r\nQ 44.046875 -1.421875 33.015625 -1.421875 \r\nQ 20.359375 -1.421875 13.671875 8.265625 \r\nQ 6.984375 17.96875 6.984375 36.375 \r\nQ 6.984375 53.65625 15.1875 63.9375 \r\nQ 23.390625 74.21875 37.203125 74.21875 \r\nQ 40.921875 74.21875 44.703125 73.484375 \r\nQ 48.484375 72.75 52.59375 71.296875 \r\nz\r\n\" id=\"DejaVuSans-54\"/>\r\n      </defs>\r\n      <g transform=\"translate(234.821992 239.238437)scale(0.1 -0.1)\">\r\n       <use xlink:href=\"#DejaVuSans-48\"/>\r\n       <use x=\"63.623047\" xlink:href=\"#DejaVuSans-46\"/>\r\n       <use x=\"95.410156\" xlink:href=\"#DejaVuSans-54\"/>\r\n      </g>\r\n     </g>\r\n    </g>\r\n    <g id=\"xtick_5\">\r\n     <g id=\"line2d_5\">\r\n      <g>\r\n       <use style=\"stroke:#000000;stroke-width:0.8;\" x=\"304.697854\" xlink:href=\"#me3504f4b9f\" y=\"224.64\"/>\r\n      </g>\r\n     </g>\r\n     <g id=\"text_5\">\r\n      <!-- 0.8 -->\r\n      <defs>\r\n       <path d=\"M 31.78125 34.625 \r\nQ 24.75 34.625 20.71875 30.859375 \r\nQ 16.703125 27.09375 16.703125 20.515625 \r\nQ 16.703125 13.921875 20.71875 10.15625 \r\nQ 24.75 6.390625 31.78125 6.390625 \r\nQ 38.8125 6.390625 42.859375 10.171875 \r\nQ 46.921875 13.96875 46.921875 20.515625 \r\nQ 46.921875 27.09375 42.890625 30.859375 \r\nQ 38.875 34.625 31.78125 34.625 \r\nz\r\nM 21.921875 38.8125 \r\nQ 15.578125 40.375 12.03125 44.71875 \r\nQ 8.5 49.078125 8.5 55.328125 \r\nQ 8.5 64.0625 14.71875 69.140625 \r\nQ 20.953125 74.21875 31.78125 74.21875 \r\nQ 42.671875 74.21875 48.875 69.140625 \r\nQ 55.078125 64.0625 55.078125 55.328125 \r\nQ 55.078125 49.078125 51.53125 44.71875 \r\nQ 48 40.375 41.703125 38.8125 \r\nQ 48.828125 37.15625 52.796875 32.3125 \r\nQ 56.78125 27.484375 56.78125 20.515625 \r\nQ 56.78125 9.90625 50.3125 4.234375 \r\nQ 43.84375 -1.421875 31.78125 -1.421875 \r\nQ 19.734375 -1.421875 13.25 4.234375 \r\nQ 6.78125 9.90625 6.78125 20.515625 \r\nQ 6.78125 27.484375 10.78125 32.3125 \r\nQ 14.796875 37.15625 21.921875 38.8125 \r\nz\r\nM 18.3125 54.390625 \r\nQ 18.3125 48.734375 21.84375 45.5625 \r\nQ 25.390625 42.390625 31.78125 42.390625 \r\nQ 38.140625 42.390625 41.71875 45.5625 \r\nQ 45.3125 48.734375 45.3125 54.390625 \r\nQ 45.3125 60.0625 41.71875 63.234375 \r\nQ 38.140625 66.40625 31.78125 66.40625 \r\nQ 25.390625 66.40625 21.84375 63.234375 \r\nQ 18.3125 60.0625 18.3125 54.390625 \r\nz\r\n\" id=\"DejaVuSans-56\"/>\r\n      </defs>\r\n      <g transform=\"translate(296.746292 239.238437)scale(0.1 -0.1)\">\r\n       <use xlink:href=\"#DejaVuSans-48\"/>\r\n       <use x=\"63.623047\" xlink:href=\"#DejaVuSans-46\"/>\r\n       <use x=\"95.410156\" xlink:href=\"#DejaVuSans-56\"/>\r\n      </g>\r\n     </g>\r\n    </g>\r\n    <g id=\"xtick_6\">\r\n     <g id=\"line2d_6\">\r\n      <g>\r\n       <use style=\"stroke:#000000;stroke-width:0.8;\" x=\"366.622154\" xlink:href=\"#me3504f4b9f\" y=\"224.64\"/>\r\n      </g>\r\n     </g>\r\n     <g id=\"text_6\">\r\n      <!-- 1.0 -->\r\n      <defs>\r\n       <path d=\"M 12.40625 8.296875 \r\nL 28.515625 8.296875 \r\nL 28.515625 63.921875 \r\nL 10.984375 60.40625 \r\nL 10.984375 69.390625 \r\nL 28.421875 72.90625 \r\nL 38.28125 72.90625 \r\nL 38.28125 8.296875 \r\nL 54.390625 8.296875 \r\nL 54.390625 0 \r\nL 12.40625 0 \r\nz\r\n\" id=\"DejaVuSans-49\"/>\r\n      </defs>\r\n      <g transform=\"translate(358.670592 239.238437)scale(0.1 -0.1)\">\r\n       <use xlink:href=\"#DejaVuSans-49\"/>\r\n       <use x=\"63.623047\" xlink:href=\"#DejaVuSans-46\"/>\r\n       <use x=\"95.410156\" xlink:href=\"#DejaVuSans-48\"/>\r\n      </g>\r\n     </g>\r\n    </g>\r\n   </g>\r\n   <g id=\"matplotlib.axis_2\">\r\n    <g id=\"ytick_1\">\r\n     <g id=\"line2d_7\">\r\n      <defs>\r\n       <path d=\"M 0 0 \r\nL -3.5 0 \r\n\" id=\"mb1df75a088\" style=\"stroke:#000000;stroke-width:0.8;\"/>\r\n      </defs>\r\n      <g>\r\n       <use style=\"stroke:#000000;stroke-width:0.8;\" x=\"44.845313\" xlink:href=\"#mb1df75a088\" y=\"209.24916\"/>\r\n      </g>\r\n     </g>\r\n     <g id=\"text_7\">\r\n      <!-- −0.75 -->\r\n      <defs>\r\n       <path d=\"M 10.59375 35.5 \r\nL 73.1875 35.5 \r\nL 73.1875 27.203125 \r\nL 10.59375 27.203125 \r\nz\r\n\" id=\"DejaVuSans-8722\"/>\r\n       <path d=\"M 8.203125 72.90625 \r\nL 55.078125 72.90625 \r\nL 55.078125 68.703125 \r\nL 28.609375 0 \r\nL 18.3125 0 \r\nL 43.21875 64.59375 \r\nL 8.203125 64.59375 \r\nz\r\n\" id=\"DejaVuSans-55\"/>\r\n       <path d=\"M 10.796875 72.90625 \r\nL 49.515625 72.90625 \r\nL 49.515625 64.59375 \r\nL 19.828125 64.59375 \r\nL 19.828125 46.734375 \r\nQ 21.96875 47.46875 24.109375 47.828125 \r\nQ 26.265625 48.1875 28.421875 48.1875 \r\nQ 40.625 48.1875 47.75 41.5 \r\nQ 54.890625 34.8125 54.890625 23.390625 \r\nQ 54.890625 11.625 47.5625 5.09375 \r\nQ 40.234375 -1.421875 26.90625 -1.421875 \r\nQ 22.3125 -1.421875 17.546875 -0.640625 \r\nQ 12.796875 0.140625 7.71875 1.703125 \r\nL 7.71875 11.625 \r\nQ 12.109375 9.234375 16.796875 8.0625 \r\nQ 21.484375 6.890625 26.703125 6.890625 \r\nQ 35.15625 6.890625 40.078125 11.328125 \r\nQ 45.015625 15.765625 45.015625 23.390625 \r\nQ 45.015625 31 40.078125 35.4375 \r\nQ 35.15625 39.890625 26.703125 39.890625 \r\nQ 22.75 39.890625 18.8125 39.015625 \r\nQ 14.890625 38.140625 10.796875 36.28125 \r\nz\r\n\" id=\"DejaVuSans-53\"/>\r\n      </defs>\r\n      <g transform=\"translate(7.2 213.048379)scale(0.1 -0.1)\">\r\n       <use xlink:href=\"#DejaVuSans-8722\"/>\r\n       <use x=\"83.789062\" xlink:href=\"#DejaVuSans-48\"/>\r\n       <use x=\"147.412109\" xlink:href=\"#DejaVuSans-46\"/>\r\n       <use x=\"179.199219\" xlink:href=\"#DejaVuSans-55\"/>\r\n       <use x=\"242.822266\" xlink:href=\"#DejaVuSans-53\"/>\r\n      </g>\r\n     </g>\r\n    </g>\r\n    <g id=\"ytick_2\">\r\n     <g id=\"line2d_8\">\r\n      <g>\r\n       <use style=\"stroke:#000000;stroke-width:0.8;\" x=\"44.845313\" xlink:href=\"#mb1df75a088\" y=\"183.372144\"/>\r\n      </g>\r\n     </g>\r\n     <g id=\"text_8\">\r\n      <!-- −0.50 -->\r\n      <g transform=\"translate(7.2 187.171363)scale(0.1 -0.1)\">\r\n       <use xlink:href=\"#DejaVuSans-8722\"/>\r\n       <use x=\"83.789062\" xlink:href=\"#DejaVuSans-48\"/>\r\n       <use x=\"147.412109\" xlink:href=\"#DejaVuSans-46\"/>\r\n       <use x=\"179.199219\" xlink:href=\"#DejaVuSans-53\"/>\r\n       <use x=\"242.822266\" xlink:href=\"#DejaVuSans-48\"/>\r\n      </g>\r\n     </g>\r\n    </g>\r\n    <g id=\"ytick_3\">\r\n     <g id=\"line2d_9\">\r\n      <g>\r\n       <use style=\"stroke:#000000;stroke-width:0.8;\" x=\"44.845313\" xlink:href=\"#mb1df75a088\" y=\"157.495128\"/>\r\n      </g>\r\n     </g>\r\n     <g id=\"text_9\">\r\n      <!-- −0.25 -->\r\n      <g transform=\"translate(7.2 161.294347)scale(0.1 -0.1)\">\r\n       <use xlink:href=\"#DejaVuSans-8722\"/>\r\n       <use x=\"83.789062\" xlink:href=\"#DejaVuSans-48\"/>\r\n       <use x=\"147.412109\" xlink:href=\"#DejaVuSans-46\"/>\r\n       <use x=\"179.199219\" xlink:href=\"#DejaVuSans-50\"/>\r\n       <use x=\"242.822266\" xlink:href=\"#DejaVuSans-53\"/>\r\n      </g>\r\n     </g>\r\n    </g>\r\n    <g id=\"ytick_4\">\r\n     <g id=\"line2d_10\">\r\n      <g>\r\n       <use style=\"stroke:#000000;stroke-width:0.8;\" x=\"44.845313\" xlink:href=\"#mb1df75a088\" y=\"131.618113\"/>\r\n      </g>\r\n     </g>\r\n     <g id=\"text_10\">\r\n      <!-- 0.00 -->\r\n      <g transform=\"translate(15.579688 135.417331)scale(0.1 -0.1)\">\r\n       <use xlink:href=\"#DejaVuSans-48\"/>\r\n       <use x=\"63.623047\" xlink:href=\"#DejaVuSans-46\"/>\r\n       <use x=\"95.410156\" xlink:href=\"#DejaVuSans-48\"/>\r\n       <use x=\"159.033203\" xlink:href=\"#DejaVuSans-48\"/>\r\n      </g>\r\n     </g>\r\n    </g>\r\n    <g id=\"ytick_5\">\r\n     <g id=\"line2d_11\">\r\n      <g>\r\n       <use style=\"stroke:#000000;stroke-width:0.8;\" x=\"44.845313\" xlink:href=\"#mb1df75a088\" y=\"105.741097\"/>\r\n      </g>\r\n     </g>\r\n     <g id=\"text_11\">\r\n      <!-- 0.25 -->\r\n      <g transform=\"translate(15.579688 109.540316)scale(0.1 -0.1)\">\r\n       <use xlink:href=\"#DejaVuSans-48\"/>\r\n       <use x=\"63.623047\" xlink:href=\"#DejaVuSans-46\"/>\r\n       <use x=\"95.410156\" xlink:href=\"#DejaVuSans-50\"/>\r\n       <use x=\"159.033203\" xlink:href=\"#DejaVuSans-53\"/>\r\n      </g>\r\n     </g>\r\n    </g>\r\n    <g id=\"ytick_6\">\r\n     <g id=\"line2d_12\">\r\n      <g>\r\n       <use style=\"stroke:#000000;stroke-width:0.8;\" x=\"44.845313\" xlink:href=\"#mb1df75a088\" y=\"79.864081\"/>\r\n      </g>\r\n     </g>\r\n     <g id=\"text_12\">\r\n      <!-- 0.50 -->\r\n      <g transform=\"translate(15.579688 83.6633)scale(0.1 -0.1)\">\r\n       <use xlink:href=\"#DejaVuSans-48\"/>\r\n       <use x=\"63.623047\" xlink:href=\"#DejaVuSans-46\"/>\r\n       <use x=\"95.410156\" xlink:href=\"#DejaVuSans-53\"/>\r\n       <use x=\"159.033203\" xlink:href=\"#DejaVuSans-48\"/>\r\n      </g>\r\n     </g>\r\n    </g>\r\n    <g id=\"ytick_7\">\r\n     <g id=\"line2d_13\">\r\n      <g>\r\n       <use style=\"stroke:#000000;stroke-width:0.8;\" x=\"44.845313\" xlink:href=\"#mb1df75a088\" y=\"53.987065\"/>\r\n      </g>\r\n     </g>\r\n     <g id=\"text_13\">\r\n      <!-- 0.75 -->\r\n      <g transform=\"translate(15.579688 57.786284)scale(0.1 -0.1)\">\r\n       <use xlink:href=\"#DejaVuSans-48\"/>\r\n       <use x=\"63.623047\" xlink:href=\"#DejaVuSans-46\"/>\r\n       <use x=\"95.410156\" xlink:href=\"#DejaVuSans-55\"/>\r\n       <use x=\"159.033203\" xlink:href=\"#DejaVuSans-53\"/>\r\n      </g>\r\n     </g>\r\n    </g>\r\n    <g id=\"ytick_8\">\r\n     <g id=\"line2d_14\">\r\n      <g>\r\n       <use style=\"stroke:#000000;stroke-width:0.8;\" x=\"44.845313\" xlink:href=\"#mb1df75a088\" y=\"28.110049\"/>\r\n      </g>\r\n     </g>\r\n     <g id=\"text_14\">\r\n      <!-- 1.00 -->\r\n      <g transform=\"translate(15.579688 31.909268)scale(0.1 -0.1)\">\r\n       <use xlink:href=\"#DejaVuSans-49\"/>\r\n       <use x=\"63.623047\" xlink:href=\"#DejaVuSans-46\"/>\r\n       <use x=\"95.410156\" xlink:href=\"#DejaVuSans-48\"/>\r\n       <use x=\"159.033203\" xlink:href=\"#DejaVuSans-48\"/>\r\n      </g>\r\n     </g>\r\n    </g>\r\n   </g>\r\n   <g id=\"line2d_15\">\r\n    <path clip-path=\"url(#pdf2f02c671)\" d=\"M 174.301059 140.56336 \r\nL 283.996909 69.320041 \r\nL 132.195449 167.90937 \r\nL 269.738392 78.580405 \r\nL 137.193768 164.663153 \r\nL 335.154038 36.095411 \r\nL 222.615149 109.18518 \r\nL 194.988693 127.127523 \r\nL 288.831331 66.180265 \r\nL 299.471879 59.269629 \r\nL 166.105321 145.886186 \r\nL 327.385069 41.141063 \r\nL 260.091713 84.845557 \r\nL 341.78733 31.78733 \r\nL 258.517973 85.867644 \r\nL 355.234829 23.053686 \r\nL 327.019662 41.378382 \r\nL 338.08423 34.192361 \r\nL 131.003342 168.6836 \r\nL 336.699542 35.091661 \r\nL 117.133462 177.691564 \r\nL 77.612716 203.358802 \r\nL 183.626254 134.506997 \r\nL 106.1639 184.815883 \r\nL 178.434066 137.879132 \r\nL 346.9807 28.414431 \r\nL 195.359867 126.88646 \r\nL 291.933707 64.165385 \r\nL 220.099085 110.819263 \r\nL 215.310856 113.929042 \r\nL 60.063494 214.756364 \r\nL 177.379951 138.563737 \r\nL 103.692044 186.421259 \r\nL 196.968108 125.841966 \r\nL 272.693166 76.661388 \r\nL 93.477887 193.054969 \r\nL 131.284802 168.500802 \r\nL 64.106712 212.130444 \r\nL 164.928776 146.650304 \r\nL 150.652783 155.922026 \r\nL 273.915359 75.867624 \r\nL 263.203242 82.824742 \r\nL 152.475737 154.738087 \r\nL 65.629711 211.141315 \r\nL 345.052091 29.666987 \r\nL 138.17483 164.025986 \r\nL 244.942619 94.68433 \r\nL 80.748945 201.32194 \r\nL 317.978414 47.250324 \r\nL 283.4323 69.686723 \r\nL 275.081689 75.110138 \r\nL 116.830659 177.888225 \r\nL 99.275639 189.28955 \r\nL 106.13786 184.832794 \r\nL 175.770049 139.609311 \r\nL 135.072804 166.040637 \r\nL 87.501073 196.936684 \r\nL 132.126248 167.954315 \r\nL 126.570623 171.562484 \r\nL 359.037826 20.583789 \r\nL 322.798939 44.11958 \r\nL 260.801986 84.384259 \r\nL 292.52847 63.779109 \r\nL 289.901086 65.485499 \r\nL 195.027254 127.102475 \r\nL 116.434991 178.145196 \r\nL 279.565431 72.198117 \r\nL 328.218159 40.599993 \r\nL 356.67215 22.120207 \r\nL 325.259436 42.521577 \r\nL 286.478703 67.708206 \r\nL 156.101595 152.383227 \r\nL 281.759402 70.773208 \r\nL 143.508401 160.562036 \r\nL 81.554316 200.798879 \r\nL 322.100477 44.573203 \r\nL 60.724625 214.326981 \r\nL 283.184193 69.84786 \r\nL 186.206477 132.83124 \r\nL 280.339705 71.695249 \r\nL 227.127939 106.254293 \r\nL 75.459533 204.757214 \r\nL 315.301607 48.988807 \r\nL 250.845966 90.85033 \r\nL 345.574807 29.327513 \r\nL 181.456772 135.915996 \r\nL 172.431617 141.777492 \r\nL 346.966803 28.423463 \r\nL 313.676323 50.04437 \r\nL 142.497258 161.218736 \r\nL 364.427131 17.083636 \r\nL 163.062554 147.862346 \r\nL 246.423679 93.722433 \r\nL 277.500422 73.539256 \r\nL 228.965824 105.060656 \r\nL 321.798555 44.769284 \r\nL 153.825518 153.861454 \r\nL 216.871898 112.915198 \r\nL 186.424429 132.689691 \r\nL 250.716856 90.934174 \r\n\" style=\"fill:none;stroke:#ff0000;stroke-linecap:square;stroke-width:1.5;\"/>\r\n   </g>\r\n   <g id=\"patch_3\">\r\n    <path d=\"M 44.845313 224.64 \r\nL 44.845313 7.2 \r\n\" style=\"fill:none;stroke:#000000;stroke-linecap:square;stroke-linejoin:miter;stroke-width:0.8;\"/>\r\n   </g>\r\n   <g id=\"patch_4\">\r\n    <path d=\"M 379.645313 224.64 \r\nL 379.645313 7.2 \r\n\" style=\"fill:none;stroke:#000000;stroke-linecap:square;stroke-linejoin:miter;stroke-width:0.8;\"/>\r\n   </g>\r\n   <g id=\"patch_5\">\r\n    <path d=\"M 44.845313 224.64 \r\nL 379.645313 224.64 \r\n\" style=\"fill:none;stroke:#000000;stroke-linecap:square;stroke-linejoin:miter;stroke-width:0.8;\"/>\r\n   </g>\r\n   <g id=\"patch_6\">\r\n    <path d=\"M 44.845313 7.2 \r\nL 379.645313 7.2 \r\n\" style=\"fill:none;stroke:#000000;stroke-linecap:square;stroke-linejoin:miter;stroke-width:0.8;\"/>\r\n   </g>\r\n  </g>\r\n </g>\r\n <defs>\r\n  <clipPath id=\"pdf2f02c671\">\r\n   <rect height=\"217.44\" width=\"334.8\" x=\"44.845313\" y=\"7.2\"/>\r\n  </clipPath>\r\n </defs>\r\n</svg>\r\n",
            "image/png": "[encoded data removed]"
          },
          "metadata": {
            "needs_background": "light"
          }
        }
      ],
      "source": [
        "%matplotlib inline\n",
        "\n",
        "plt.plot(inputs, outputs, 'r')\n",
        "plt.show()"
      ]
    },
    {
      "cell_type": "markdown",
      "metadata": {
        "colab_type": "text",
        "id": "WbugMH6yKvtd"
      },
      "source": [
        "## Download the TFLite Model File\n",
        "\n",
        "If you are running this notebook in a Colab, you can run the cell below to download the tflite model to your local disk. \n",
        "\n",
        "**Note**: If the file does not download when you run the cell, try running the cell a second time."
      ]
    },
    {
      "cell_type": "code",
      "execution_count": null,
      "metadata": {
        "colab": {},
        "colab_type": "code",
        "id": "FOAIMETeJmkc"
      },
      "outputs": [],
      "source": [
        "try:\n",
        "    from google.colab import files\n",
        "    files.download(tflite_model_file)\n",
        "except:\n",
        "    pass"
      ]
    }
  ],
  "metadata": {
    "accelerator": "GPU",
    "colab": {
      "collapsed_sections": [],
      "name": "TFLite_Week1_Linear_Regression.ipynb",
      "private_outputs": true,
      "provenance": [],
      "toc_visible": true
    },
    "kernelspec": {
      "display_name": "Python 3",
      "language": "python",
      "name": "python3"
    },
    "language_info": {
      "codemirror_mode": {
        "name": "ipython",
        "version": 3
      },
      "file_extension": ".py",
      "mimetype": "text/x-python",
      "name": "python",
      "nbconvert_exporter": "python",
      "pygments_lexer": "ipython3",
      "version": "3.7.4-final"
    }
  },
  "nbformat": 4,
  "nbformat_minor": 1
}