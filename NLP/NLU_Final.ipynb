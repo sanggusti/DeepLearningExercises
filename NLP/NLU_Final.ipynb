{
  "nbformat": 4,
  "nbformat_minor": 0,
  "metadata": {
    "kernelspec": {
      "display_name": "Python 3",
      "language": "python",
      "name": "python3"
    },
    "language_info": {
      "codemirror_mode": {
        "name": "ipython",
        "version": 3
      },
      "file_extension": ".py",
      "mimetype": "text/x-python",
      "name": "python",
      "nbconvert_exporter": "python",
      "pygments_lexer": "ipython3",
      "version": "3.8.2"
    },
    "toc": {
      "base_numbering": 1,
      "nav_menu": {},
      "number_sections": true,
      "sideBar": true,
      "skip_h1_title": false,
      "title_cell": "Table of Contents",
      "title_sidebar": "Contents",
      "toc_cell": false,
      "toc_position": {},
      "toc_section_display": true,
      "toc_window_display": false
    },
    "colab": {
      "name": "NLU - Final.ipynb",
      "provenance": [],
      "toc_visible": true
    }
  },
  "cells": [
    {
      "cell_type": "markdown",
      "metadata": {
        "id": "hOHp9vgjox-i",
        "colab_type": "text"
      },
      "source": [
        "# Natural Language Understanding "
      ]
    },
    {
      "cell_type": "markdown",
      "metadata": {
        "id": "NcI_-KdBox-i",
        "colab_type": "text"
      },
      "source": [
        "## Data Cleaning"
      ]
    },
    {
      "cell_type": "markdown",
      "metadata": {
        "id": "mGi9pEXXox-j",
        "colab_type": "text"
      },
      "source": [
        "*Generic Data cleaning steps to take:*\n",
        "\n",
        "**1. Converting text to lower case** \n",
        "* if your data is case insensitive, you'll need to consider your usecase as well\n",
        "* some exceptions, if there're acronyms, which may lose their meaning if converted to word, e.g. in german language, MIT (university) vs mit (german for with)\n",
        "\n",
        "**2. Removing punctuations**\n",
        "* exceptions, twitter data, where punctuations may be good in showing sentiment\n",
        "\n",
        "**3. Removing any numerical values**\n",
        "\n",
        "**4. Tokenize text**\n",
        "* different ways to tokenize the text\n",
        "\n",
        "**5. Remove stop words**\n",
        "* stop words can be altered to be usecase specific, \n",
        "* e.g. adding restaurant name to list of stopwords for restaurant review, as the people will usually give the restaurant name in the review\n",
        "* e.g. twitter you may want to add words like 'RT' 'Retweet' etc for tweets\n",
        "\n",
        "\n",
        "**6. Stemming / lemmatization** \n",
        "* different variation of words due to suffix, but the meaning of the word is the same, use of the word is identical, to prevent duplication of words being stored and improve efficiency\n",
        "* lemmatization result is a proper word, unlike stemming\n",
        "\n",
        "\n",
        "**7. Parts of speech tagging**\n",
        "* good for identifying, summarising, to get e.g. retrieval of nouns from large pieces of texts (NNP)\n",
        "\n",
        "**8. Create bi-grams or tri-grams**\n",
        "\n",
        "**9. Deal with typos and spelling mistakes**"
      ]
    },
    {
      "cell_type": "markdown",
      "metadata": {
        "id": "pWmyEix3ox-k",
        "colab_type": "text"
      },
      "source": [
        "Natural Language Toolkit (nltk) : https://www.nltk.org/index.html"
      ]
    },
    {
      "cell_type": "code",
      "metadata": {
        "id": "8lYCGsdWox-k",
        "colab_type": "code",
        "colab": {}
      },
      "source": [
        "#!pip install nltk\n",
        "#nltk.download()"
      ],
      "execution_count": 0,
      "outputs": []
    },
    {
      "cell_type": "code",
      "metadata": {
        "id": "au11DZdUox-o",
        "colab_type": "code",
        "colab": {}
      },
      "source": [
        "import nltk\n",
        "from nltk.book import *\n"
      ],
      "execution_count": 0,
      "outputs": []
    },
    {
      "cell_type": "code",
      "metadata": {
        "id": "h0X4GbVWox-q",
        "colab_type": "code",
        "colab": {},
        "outputId": "efed563d-17a1-40f9-fcb5-f77e9cc7b7d9"
      },
      "source": [
        "texts()"
      ],
      "execution_count": 0,
      "outputs": [
        {
          "output_type": "stream",
          "text": [
            "text1: Moby Dick by Herman Melville 1851\n",
            "text2: Sense and Sensibility by Jane Austen 1811\n",
            "text3: The Book of Genesis\n",
            "text4: Inaugural Address Corpus\n",
            "text5: Chat Corpus\n",
            "text6: Monty Python and the Holy Grail\n",
            "text7: Wall Street Journal\n",
            "text8: Personals Corpus\n",
            "text9: The Man Who Was Thursday by G . K . Chesterton 1908\n"
          ],
          "name": "stdout"
        }
      ]
    },
    {
      "cell_type": "code",
      "metadata": {
        "id": "1nyi6DTWox-t",
        "colab_type": "code",
        "colab": {},
        "outputId": "995056bc-8a6f-46df-abef-c427a92e4ca2"
      },
      "source": [
        "sents()"
      ],
      "execution_count": 0,
      "outputs": [
        {
          "output_type": "stream",
          "text": [
            "sent1: Call me Ishmael .\n",
            "sent2: The family of Dashwood had long been settled in Sussex .\n",
            "sent3: In the beginning God created the heaven and the earth .\n",
            "sent4: Fellow - Citizens of the Senate and of the House of Representatives :\n",
            "sent5: I have a problem with people PMing me to lol JOIN\n",
            "sent6: SCENE 1 : [ wind ] [ clop clop clop ] KING ARTHUR : Whoa there !\n",
            "sent7: Pierre Vinken , 61 years old , will join the board as a nonexecutive director Nov. 29 .\n",
            "sent8: 25 SEXY MALE , seeks attrac older single lady , for discreet encounters .\n",
            "sent9: THE suburb of Saffron Park lay on the sunset side of London , as red and ragged as a cloud of sunset .\n"
          ],
          "name": "stdout"
        }
      ]
    },
    {
      "cell_type": "code",
      "metadata": {
        "id": "XufJ02lfox-v",
        "colab_type": "code",
        "colab": {},
        "outputId": "3bd6c577-be06-413f-98f0-55931eb6553d"
      },
      "source": [
        "text1"
      ],
      "execution_count": 0,
      "outputs": [
        {
          "output_type": "execute_result",
          "data": {
            "text/plain": [
              "<Text: Moby Dick by Herman Melville 1851>"
            ]
          },
          "metadata": {
            "tags": []
          },
          "execution_count": 77
        }
      ]
    },
    {
      "cell_type": "code",
      "metadata": {
        "id": "gbJl-L-uox-y",
        "colab_type": "code",
        "colab": {},
        "outputId": "5d59faf6-1291-4f5d-9167-2adc48b4d690"
      },
      "source": [
        "text1.similar(\"monstrous\")"
      ],
      "execution_count": 0,
      "outputs": [
        {
          "output_type": "stream",
          "text": [
            "true contemptible christian abundant few part mean careful puzzled\n",
            "mystifying passing curious loving wise doleful gamesome singular\n",
            "delightfully perilous fearless\n"
          ],
          "name": "stdout"
        }
      ]
    },
    {
      "cell_type": "code",
      "metadata": {
        "id": "yuCVEm7pox-0",
        "colab_type": "code",
        "colab": {}
      },
      "source": [
        ""
      ],
      "execution_count": 0,
      "outputs": []
    },
    {
      "cell_type": "code",
      "metadata": {
        "ExecuteTime": {
          "end_time": "2020-06-06T19:11:54.602174Z",
          "start_time": "2020-06-06T19:07:02.820069Z"
        },
        "id": "2Z0tVGV1ox-2",
        "colab_type": "code",
        "colab": {}
      },
      "source": [
        "from nltk.tokenize import sent_tokenize, word_tokenize,wordpunct_tokenize, TweetTokenizer,RegexpTokenizer\n",
        "from nltk.probability import FreqDist\n",
        "from nltk.corpus import stopwords\n",
        "from nltk.stem.wordnet import WordNetLemmatizer\n",
        "from nltk.stem.porter import PorterStemmer\n",
        "import matplotlib.pyplot as plt\n",
        "import pandas as pd\n",
        "from sklearn.feature_extraction.text import CountVectorizer\n",
        "from sklearn.model_selection import train_test_split\n",
        "from sklearn.naive_bayes import MultinomialNB\n",
        "from sklearn import metrics #accuracy calculation\n",
        "from sklearn.feature_extraction.text import TfidfVectorizer\n",
        "from sklearn.model_selection import train_test_split"
      ],
      "execution_count": 0,
      "outputs": []
    },
    {
      "cell_type": "markdown",
      "metadata": {
        "id": "-un93nPcox-4",
        "colab_type": "text"
      },
      "source": [
        "## Tokenisation"
      ]
    },
    {
      "cell_type": "markdown",
      "metadata": {
        "id": "6DUO0OqSox-4",
        "colab_type": "text"
      },
      "source": [
        "Taking a text or set of text and breaking it up into smaller tokens, this could be a sentence,  bigram (n-grams), word, character etc. A token is a single entity.\n",
        "\n",
        "There are different methods to tokenise text:\n",
        "\n",
        "https://www.nltk.org/api/nltk.tokenize.html"
      ]
    },
    {
      "cell_type": "markdown",
      "metadata": {
        "id": "xm8EOuUAox-4",
        "colab_type": "text"
      },
      "source": [
        "### Sentence Tokeniser"
      ]
    },
    {
      "cell_type": "code",
      "metadata": {
        "ExecuteTime": {
          "end_time": "2020-06-06T18:48:18.103352Z",
          "start_time": "2020-06-06T18:48:18.098808Z"
        },
        "id": "PxLF2Oo1ox-5",
        "colab_type": "code",
        "colab": {},
        "outputId": "30c812f6-ddb9-4d28-c32e-35ff82de75a7"
      },
      "source": [
        "text=\"\"\"'Welcome Mr. Smith' she said. 'I had not heard that folk of the Shire were so sweet-tongued. \n",
        "But I see that you are an Elf-friend; the light in your eyes and the ring in your voice tells it. \n",
        "This is a merry meeting! Sit now, and wait for the Master of the house! He will not be long. \n",
        "He is tending your tired beasts.'\"\"\"\n",
        "\n",
        "#excerpt taken from Lord of the Rings\n",
        "tokenized_text = sent_tokenize(text)\n",
        "for i in tokenized_text:\n",
        "    print(i)"
      ],
      "execution_count": 0,
      "outputs": [
        {
          "output_type": "stream",
          "text": [
            "'Welcome Mr. Smith' she said.\n",
            "'I had not heard that folk of the Shire were so sweet-tongued.\n",
            "But I see that you are an Elf-friend; the light in your eyes and the ring in your voice tells it.\n",
            "This is a merry meeting!\n",
            "Sit now, and wait for the Master of the house!\n",
            "He will not be long.\n",
            "He is tending your tired beasts.'\n"
          ],
          "name": "stdout"
        }
      ]
    },
    {
      "cell_type": "markdown",
      "metadata": {
        "id": "kUxI7qKPox-8",
        "colab_type": "text"
      },
      "source": [
        "### *Word Tokeniser"
      ]
    },
    {
      "cell_type": "code",
      "metadata": {
        "ExecuteTime": {
          "end_time": "2020-06-06T18:48:20.843526Z",
          "start_time": "2020-06-06T18:48:20.836979Z"
        },
        "id": "nyR5ryy_ox-8",
        "colab_type": "code",
        "colab": {},
        "outputId": "8836452f-3f4f-4500-b66e-4280c4bbb654"
      },
      "source": [
        "tokenized_word = word_tokenize(text)\n",
        "for i in tokenized_word:\n",
        "    print(i)"
      ],
      "execution_count": 0,
      "outputs": [
        {
          "output_type": "stream",
          "text": [
            "'Welcome\n",
            "Mr.\n",
            "Smith\n",
            "'\n",
            "she\n",
            "said\n",
            ".\n",
            "'\n",
            "I\n",
            "had\n",
            "not\n",
            "heard\n",
            "that\n",
            "folk\n",
            "of\n",
            "the\n",
            "Shire\n",
            "were\n",
            "so\n",
            "sweet-tongued\n",
            ".\n",
            "But\n",
            "I\n",
            "see\n",
            "that\n",
            "you\n",
            "are\n",
            "an\n",
            "Elf-friend\n",
            ";\n",
            "the\n",
            "light\n",
            "in\n",
            "your\n",
            "eyes\n",
            "and\n",
            "the\n",
            "ring\n",
            "in\n",
            "your\n",
            "voice\n",
            "tells\n",
            "it\n",
            ".\n",
            "This\n",
            "is\n",
            "a\n",
            "merry\n",
            "meeting\n",
            "!\n",
            "Sit\n",
            "now\n",
            ",\n",
            "and\n",
            "wait\n",
            "for\n",
            "the\n",
            "Master\n",
            "of\n",
            "the\n",
            "house\n",
            "!\n",
            "He\n",
            "will\n",
            "not\n",
            "be\n",
            "long\n",
            ".\n",
            "He\n",
            "is\n",
            "tending\n",
            "your\n",
            "tired\n",
            "beasts\n",
            ".\n",
            "'\n"
          ],
          "name": "stdout"
        }
      ]
    },
    {
      "cell_type": "markdown",
      "metadata": {
        "id": "ISBtpvA0ox-_",
        "colab_type": "text"
      },
      "source": [
        "### *Tweet Tokeniser"
      ]
    },
    {
      "cell_type": "code",
      "metadata": {
        "id": "Jbqm7ADmox_A",
        "colab_type": "code",
        "colab": {},
        "outputId": "f1493b2b-f0dc-4d9a-979d-6efe9e6aeee1"
      },
      "source": [
        "tokeniser = TweetTokenizer()\n",
        "tweet = \"This is a cooool #hashtag1 @someone #dummysmiley: :) :-) :-P <3 and some arrows < > -> <--\"\n",
        "tokenized_tweet = tokeniser.tokenize(tweet)\n",
        "for i in tokenized_tweet:\n",
        "    print(i)"
      ],
      "execution_count": 0,
      "outputs": [
        {
          "output_type": "stream",
          "text": [
            "This\n",
            "is\n",
            "a\n",
            "cooool\n",
            "#hashtag1\n",
            "@someone\n",
            "#dummysmiley\n",
            ":\n",
            ":)\n",
            ":-)\n",
            ":-P\n",
            "<3\n",
            "and\n",
            "some\n",
            "arrows\n",
            "<\n",
            ">\n",
            "->\n",
            "<--\n"
          ],
          "name": "stdout"
        }
      ]
    },
    {
      "cell_type": "code",
      "metadata": {
        "id": "A0B0qzjuox_C",
        "colab_type": "code",
        "colab": {},
        "outputId": "980677eb-d517-4968-9354-4d81ada4711b"
      },
      "source": [
        "tokenized_tweet_v2 = word_tokenize(tweet)\n",
        "for i in tokenized_tweet_v2:\n",
        "    print(i)"
      ],
      "execution_count": 0,
      "outputs": [
        {
          "output_type": "stream",
          "text": [
            "This\n",
            "is\n",
            "a\n",
            "cooool\n",
            "#\n",
            "hashtag1\n",
            "@\n",
            "someone\n",
            "#\n",
            "dummysmiley\n",
            ":\n",
            ":\n",
            ")\n",
            ":\n",
            "-\n",
            ")\n",
            ":\n",
            "-P\n",
            "<\n",
            "3\n",
            "and\n",
            "some\n",
            "arrows\n",
            "<\n",
            ">\n",
            "-\n",
            ">\n",
            "<\n",
            "--\n"
          ],
          "name": "stdout"
        }
      ]
    },
    {
      "cell_type": "markdown",
      "metadata": {
        "id": "6UVMSY26ox_D",
        "colab_type": "text"
      },
      "source": [
        "# Basic Exploratory Data Analysis (EDA)"
      ]
    },
    {
      "cell_type": "markdown",
      "metadata": {
        "id": "a0K54v8Lox_E",
        "colab_type": "text"
      },
      "source": [
        "### Frequency Distribution\n",
        "From nltk, this runs on an array of tokens (created by the tokeniser above)\n",
        "The purpose is to find the frequency of the tokens across the document"
      ]
    },
    {
      "cell_type": "code",
      "metadata": {
        "scrolled": true,
        "id": "l1MSqtJGox_E",
        "colab_type": "code",
        "colab": {},
        "outputId": "24edd552-96b0-471b-d9cb-7584914ce116"
      },
      "source": [
        "len(tokenized_word)"
      ],
      "execution_count": 0,
      "outputs": [
        {
          "output_type": "execute_result",
          "data": {
            "text/plain": [
              "76"
            ]
          },
          "metadata": {
            "tags": []
          },
          "execution_count": 84
        }
      ]
    },
    {
      "cell_type": "code",
      "metadata": {
        "id": "vI_n-No9ox_G",
        "colab_type": "code",
        "colab": {},
        "outputId": "d220d995-36a7-44d9-e63f-6da4a44b207f"
      },
      "source": [
        "len(set(tokenized_word))"
      ],
      "execution_count": 0,
      "outputs": [
        {
          "output_type": "execute_result",
          "data": {
            "text/plain": [
              "55"
            ]
          },
          "metadata": {
            "tags": []
          },
          "execution_count": 85
        }
      ]
    },
    {
      "cell_type": "code",
      "metadata": {
        "id": "ufsv74hNox_I",
        "colab_type": "code",
        "colab": {},
        "outputId": "1d385cd6-b7a1-4327-ac21-b3779541ba8f"
      },
      "source": [
        "freqdist = FreqDist(tokenized_word)\n",
        "print(freqdist)"
      ],
      "execution_count": 0,
      "outputs": [
        {
          "output_type": "stream",
          "text": [
            "<FreqDist with 55 samples and 76 outcomes>\n"
          ],
          "name": "stdout"
        }
      ]
    },
    {
      "cell_type": "code",
      "metadata": {
        "id": "4o6LO8emox_K",
        "colab_type": "code",
        "colab": {},
        "outputId": "77306a8a-367a-4b07-eaf9-58e5dab4c690"
      },
      "source": [
        "freqdist.keys()"
      ],
      "execution_count": 0,
      "outputs": [
        {
          "output_type": "execute_result",
          "data": {
            "text/plain": [
              "dict_keys([\"'Welcome\", 'Mr.', 'Smith', \"'\", 'she', 'said', '.', 'I', 'had', 'not', 'heard', 'that', 'folk', 'of', 'the', 'Shire', 'were', 'so', 'sweet-tongued', 'But', 'see', 'you', 'are', 'an', 'Elf-friend', ';', 'light', 'in', 'your', 'eyes', 'and', 'ring', 'voice', 'tells', 'it', 'This', 'is', 'a', 'merry', 'meeting', '!', 'Sit', 'now', ',', 'wait', 'for', 'Master', 'house', 'He', 'will', 'be', 'long', 'tending', 'tired', 'beasts'])"
            ]
          },
          "metadata": {
            "tags": []
          },
          "execution_count": 87
        }
      ]
    },
    {
      "cell_type": "code",
      "metadata": {
        "id": "gnr25hpDox_N",
        "colab_type": "code",
        "colab": {},
        "outputId": "be8bd817-b4f0-4054-82ee-36ae9b788c03"
      },
      "source": [
        "freqdist.values()"
      ],
      "execution_count": 0,
      "outputs": [
        {
          "output_type": "execute_result",
          "data": {
            "text/plain": [
              "dict_values([1, 1, 1, 3, 1, 1, 5, 2, 1, 2, 1, 2, 1, 2, 5, 1, 1, 1, 1, 1, 1, 1, 1, 1, 1, 1, 1, 2, 3, 1, 2, 1, 1, 1, 1, 1, 2, 1, 1, 1, 2, 1, 1, 1, 1, 1, 1, 1, 2, 1, 1, 1, 1, 1, 1])"
            ]
          },
          "metadata": {
            "tags": []
          },
          "execution_count": 88
        }
      ]
    },
    {
      "cell_type": "code",
      "metadata": {
        "id": "9644hV5wox_O",
        "colab_type": "code",
        "colab": {},
        "outputId": "9cc48e1b-f177-440f-8339-abe42308c845"
      },
      "source": [
        "freqdist['merry']"
      ],
      "execution_count": 0,
      "outputs": [
        {
          "output_type": "execute_result",
          "data": {
            "text/plain": [
              "1"
            ]
          },
          "metadata": {
            "tags": []
          },
          "execution_count": 89
        }
      ]
    },
    {
      "cell_type": "code",
      "metadata": {
        "id": "0r3r82MQox_Q",
        "colab_type": "code",
        "colab": {},
        "outputId": "6532eab5-49a9-44a5-ec79-467d5896be2d"
      },
      "source": [
        "freqdist.most_common(10)"
      ],
      "execution_count": 0,
      "outputs": [
        {
          "output_type": "execute_result",
          "data": {
            "text/plain": [
              "[('.', 5),\n",
              " ('the', 5),\n",
              " (\"'\", 3),\n",
              " ('your', 3),\n",
              " ('I', 2),\n",
              " ('not', 2),\n",
              " ('that', 2),\n",
              " ('of', 2),\n",
              " ('in', 2),\n",
              " ('and', 2)]"
            ]
          },
          "metadata": {
            "tags": []
          },
          "execution_count": 90
        }
      ]
    },
    {
      "cell_type": "code",
      "metadata": {
        "id": "9lkqVtVmox_S",
        "colab_type": "code",
        "colab": {},
        "outputId": "4152bfbd-746e-462d-9676-8c544d4ad7cd"
      },
      "source": [
        "# Frequency Distribution Plot\n",
        "freqdist.plot(30,cumulative=False)\n",
        "plt.show()"
      ],
      "execution_count": 0,
      "outputs": [
        {
          "output_type": "display_data",
          "data": {
            "image/png": "[encoded data removed]",
            "text/plain": [
              "<Figure size 720x576 with 1 Axes>"
            ]
          },
          "metadata": {
            "tags": [],
            "needs_background": "light"
          }
        }
      ]
    },
    {
      "cell_type": "markdown",
      "metadata": {
        "id": "YR5k4AhQox_T",
        "colab_type": "text"
      },
      "source": [
        "## Stopwords"
      ]
    },
    {
      "cell_type": "code",
      "metadata": {
        "scrolled": true,
        "id": "Rw5OLX3oox_U",
        "colab_type": "code",
        "colab": {},
        "outputId": "75e958b8-d58e-4cac-d4d6-0a306700f89f"
      },
      "source": [
        "stop_words = stopwords.words(\"english\")\n",
        "#/Users/laishumin/nltk_data/corpora/stopwords/english\n",
        "\n",
        "print(stop_words)\n",
        "stop_words.append('Retweet')\n",
        "\n",
        "print(stop_words)"
      ],
      "execution_count": 0,
      "outputs": [
        {
          "output_type": "stream",
          "text": [
            "['i', 'me', 'my', 'myself', 'we', 'our', 'ours', 'ourselves', 'you', \"you're\", \"you've\", \"you'll\", \"you'd\", 'your', 'yours', 'yourself', 'yourselves', 'he', 'him', 'his', 'himself', 'she', \"she's\", 'her', 'hers', 'herself', 'it', \"it's\", 'its', 'itself', 'they', 'them', 'their', 'theirs', 'themselves', 'what', 'which', 'who', 'whom', 'this', 'that', \"that'll\", 'these', 'those', 'am', 'is', 'are', 'was', 'were', 'be', 'been', 'being', 'have', 'has', 'had', 'having', 'do', 'does', 'did', 'doing', 'a', 'an', 'the', 'and', 'but', 'if', 'or', 'because', 'as', 'until', 'while', 'of', 'at', 'by', 'for', 'with', 'about', 'against', 'between', 'into', 'through', 'during', 'before', 'after', 'above', 'below', 'to', 'from', 'up', 'down', 'in', 'out', 'on', 'off', 'over', 'under', 'again', 'further', 'then', 'once', 'here', 'there', 'when', 'where', 'why', 'how', 'all', 'any', 'both', 'each', 'few', 'more', 'most', 'other', 'some', 'such', 'no', 'nor', 'not', 'only', 'own', 'same', 'so', 'than', 'too', 'very', 's', 't', 'can', 'will', 'just', 'don', \"don't\", 'should', \"should've\", 'now', 'd', 'll', 'm', 'o', 're', 've', 'y', 'ain', 'aren', \"aren't\", 'couldn', \"couldn't\", 'didn', \"didn't\", 'doesn', \"doesn't\", 'hadn', \"hadn't\", 'hasn', \"hasn't\", 'haven', \"haven't\", 'isn', \"isn't\", 'ma', 'mightn', \"mightn't\", 'mustn', \"mustn't\", 'needn', \"needn't\", 'shan', \"shan't\", 'shouldn', \"shouldn't\", 'wasn', \"wasn't\", 'weren', \"weren't\", 'won', \"won't\", 'wouldn', \"wouldn't\"]\n",
            "['i', 'me', 'my', 'myself', 'we', 'our', 'ours', 'ourselves', 'you', \"you're\", \"you've\", \"you'll\", \"you'd\", 'your', 'yours', 'yourself', 'yourselves', 'he', 'him', 'his', 'himself', 'she', \"she's\", 'her', 'hers', 'herself', 'it', \"it's\", 'its', 'itself', 'they', 'them', 'their', 'theirs', 'themselves', 'what', 'which', 'who', 'whom', 'this', 'that', \"that'll\", 'these', 'those', 'am', 'is', 'are', 'was', 'were', 'be', 'been', 'being', 'have', 'has', 'had', 'having', 'do', 'does', 'did', 'doing', 'a', 'an', 'the', 'and', 'but', 'if', 'or', 'because', 'as', 'until', 'while', 'of', 'at', 'by', 'for', 'with', 'about', 'against', 'between', 'into', 'through', 'during', 'before', 'after', 'above', 'below', 'to', 'from', 'up', 'down', 'in', 'out', 'on', 'off', 'over', 'under', 'again', 'further', 'then', 'once', 'here', 'there', 'when', 'where', 'why', 'how', 'all', 'any', 'both', 'each', 'few', 'more', 'most', 'other', 'some', 'such', 'no', 'nor', 'not', 'only', 'own', 'same', 'so', 'than', 'too', 'very', 's', 't', 'can', 'will', 'just', 'don', \"don't\", 'should', \"should've\", 'now', 'd', 'll', 'm', 'o', 're', 've', 'y', 'ain', 'aren', \"aren't\", 'couldn', \"couldn't\", 'didn', \"didn't\", 'doesn', \"doesn't\", 'hadn', \"hadn't\", 'hasn', \"hasn't\", 'haven', \"haven't\", 'isn', \"isn't\", 'ma', 'mightn', \"mightn't\", 'mustn', \"mustn't\", 'needn', \"needn't\", 'shan', \"shan't\", 'shouldn', \"shouldn't\", 'wasn', \"wasn't\", 'weren', \"weren't\", 'won', \"won't\", 'wouldn', \"wouldn't\", 'Retweet']\n"
          ],
          "name": "stdout"
        }
      ]
    },
    {
      "cell_type": "code",
      "metadata": {
        "id": "IgjWatgQox_V",
        "colab_type": "code",
        "colab": {},
        "outputId": "6dda4505-0a3d-4cad-ebad-d1be5f578749"
      },
      "source": [
        "filtered_sent=[]\n",
        "\n",
        "for w in tokenized_word:\n",
        "    if w not in stop_words:\n",
        "        filtered_sent.append(w)\n",
        "        \n",
        "print(\"Tokenized Sentence:\",tokenized_word)\n",
        "print('\\n')\n",
        "print(\"Filterd Sentence:\",filtered_sent)"
      ],
      "execution_count": 0,
      "outputs": [
        {
          "output_type": "stream",
          "text": [
            "Tokenized Sentence: [\"'Welcome\", 'Mr.', 'Smith', \"'\", 'she', 'said', '.', \"'\", 'I', 'had', 'not', 'heard', 'that', 'folk', 'of', 'the', 'Shire', 'were', 'so', 'sweet-tongued', '.', 'But', 'I', 'see', 'that', 'you', 'are', 'an', 'Elf-friend', ';', 'the', 'light', 'in', 'your', 'eyes', 'and', 'the', 'ring', 'in', 'your', 'voice', 'tells', 'it', '.', 'This', 'is', 'a', 'merry', 'meeting', '!', 'Sit', 'now', ',', 'and', 'wait', 'for', 'the', 'Master', 'of', 'the', 'house', '!', 'He', 'will', 'not', 'be', 'long', '.', 'He', 'is', 'tending', 'your', 'tired', 'beasts', '.', \"'\"]\n",
            "\n",
            "\n",
            "Filterd Sentence: [\"'Welcome\", 'Mr.', 'Smith', \"'\", 'said', '.', \"'\", 'I', 'heard', 'folk', 'Shire', 'sweet-tongued', '.', 'But', 'I', 'see', 'Elf-friend', ';', 'light', 'eyes', 'ring', 'voice', 'tells', '.', 'This', 'merry', 'meeting', '!', 'Sit', ',', 'wait', 'Master', 'house', '!', 'He', 'long', '.', 'He', 'tending', 'tired', 'beasts', '.', \"'\"]\n"
          ],
          "name": "stdout"
        }
      ]
    },
    {
      "cell_type": "markdown",
      "metadata": {
        "id": "q6OiBWgmox_X",
        "colab_type": "text"
      },
      "source": [
        "## Stemming & Lemmatization"
      ]
    },
    {
      "cell_type": "code",
      "metadata": {
        "id": "bbowZqWrox_X",
        "colab_type": "code",
        "colab": {}
      },
      "source": [
        "#Porter Stemmer (simple + speed), fast recall and fetching queries; 5 main rules, step by step, no lookup table, but follows algorithmic rules\n",
        "#snowball stemmers \n",
        "#lancaster stemmer; iterative algorithms, and over stemming may occur;\n",
        "#faster than lemmatization\n",
        "\n",
        "#lemma, detailed dictionaries to link form back to lemma; \n",
        "# needs lookup + pos\n",
        "#language impt, use this, as corpus used to map root forms\n",
        "\n",
        "#applications --> sentiment analysis (text preparation),information retrieval, to map documents to topics"
      ],
      "execution_count": 0,
      "outputs": []
    },
    {
      "cell_type": "code",
      "metadata": {
        "ExecuteTime": {
          "end_time": "2020-06-06T19:17:34.285973Z",
          "start_time": "2020-06-06T19:17:32.692035Z"
        },
        "id": "n2EET2vMox_Z",
        "colab_type": "code",
        "colab": {},
        "outputId": "cd7c7861-4d57-4688-f3ce-e2637b0a4972"
      },
      "source": [
        "#Lexicon Normalization\n",
        "#performing stemming and Lemmatization\n",
        "\n",
        "lem = WordNetLemmatizer()\n",
        "#wordnet database to lookup words, lemma needs to have part of speech provided\n",
        "\n",
        "stem = PorterStemmer()\n",
        "\n",
        "word = \"flying\"\n",
        "print(\"Lemmatized Word:\",lem.lemmatize(word,\"v\"))\n",
        "print(\"Stemmed Word:\",stem.stem(word))"
      ],
      "execution_count": 0,
      "outputs": [
        {
          "output_type": "stream",
          "text": [
            "Lemmatized Word: fly\n",
            "Stemmed Word: fli\n"
          ],
          "name": "stdout"
        }
      ]
    },
    {
      "cell_type": "code",
      "metadata": {
        "ExecuteTime": {
          "end_time": "2020-06-06T19:20:33.164977Z",
          "start_time": "2020-06-06T19:20:33.161159Z"
        },
        "id": "CMKW0cd8ox_b",
        "colab_type": "code",
        "colab": {},
        "outputId": "57ecc12d-8485-4e96-a994-ad4f56113929"
      },
      "source": [
        "print(\"Lemmatized Word:\",lem.lemmatize('better',\"a\"))\n",
        "# default pos = noun\n",
        "# better than stemming? group more words together, better job than stemming\n"
      ],
      "execution_count": 0,
      "outputs": [
        {
          "output_type": "stream",
          "text": [
            "Lemmatized Word: good\n"
          ],
          "name": "stdout"
        }
      ]
    },
    {
      "cell_type": "code",
      "metadata": {
        "id": "xlyuLiyoox_d",
        "colab_type": "code",
        "colab": {}
      },
      "source": [
        ""
      ],
      "execution_count": 0,
      "outputs": []
    },
    {
      "cell_type": "code",
      "metadata": {
        "id": "ofPcGJ4Wox_f",
        "colab_type": "code",
        "colab": {},
        "outputId": "1f52d1c2-e747-41a0-fd24-102007e8d177"
      },
      "source": [
        "words = ['application', 'applying', 'applies', 'applied', 'apply', 'apples', 'apple']\n",
        "\n",
        "for i in words:\n",
        "    print(i, '\\n','Stemming:', stem.stem(i), 'Lemmatizing:', lem.lemmatize(i, 'v'))"
      ],
      "execution_count": 0,
      "outputs": [
        {
          "output_type": "stream",
          "text": [
            "application \n",
            " Stemming: applic Lemmatizing: application\n",
            "applying \n",
            " Stemming: appli Lemmatizing: apply\n",
            "applies \n",
            " Stemming: appli Lemmatizing: apply\n",
            "applied \n",
            " Stemming: appli Lemmatizing: apply\n",
            "apply \n",
            " Stemming: appli Lemmatizing: apply\n",
            "apples \n",
            " Stemming: appl Lemmatizing: apples\n",
            "apple \n",
            " Stemming: appl Lemmatizing: apple\n"
          ],
          "name": "stdout"
        }
      ]
    },
    {
      "cell_type": "code",
      "metadata": {
        "id": "lFVXv3dwox_g",
        "colab_type": "code",
        "colab": {}
      },
      "source": [
        ""
      ],
      "execution_count": 0,
      "outputs": []
    },
    {
      "cell_type": "code",
      "metadata": {
        "ExecuteTime": {
          "end_time": "2020-06-06T19:17:35.774646Z",
          "start_time": "2020-06-06T19:17:35.770956Z"
        },
        "id": "G4fkLxrKox_i",
        "colab_type": "code",
        "colab": {}
      },
      "source": [
        "word_list = ['python', 'pythoned', 'pythoner', 'pythonly', 'pythoning']"
      ],
      "execution_count": 0,
      "outputs": []
    },
    {
      "cell_type": "code",
      "metadata": {
        "ExecuteTime": {
          "end_time": "2020-06-06T19:18:02.953544Z",
          "start_time": "2020-06-06T19:18:02.949711Z"
        },
        "id": "nrR2gfK7ox_k",
        "colab_type": "code",
        "colab": {},
        "outputId": "73bbc358-48f3-48bd-dee6-3230353ebf23"
      },
      "source": [
        "for i in word_list:\n",
        "    print(stem.stem(i), lem.lemmatize(i))\n"
      ],
      "execution_count": 0,
      "outputs": [
        {
          "output_type": "stream",
          "text": [
            "python python\n",
            "python pythoned\n",
            "python pythoner\n",
            "pythonli pythonly\n",
            "python pythoning\n"
          ],
          "name": "stdout"
        }
      ]
    },
    {
      "cell_type": "code",
      "metadata": {
        "id": "tfFzTV55ox_m",
        "colab_type": "code",
        "colab": {}
      },
      "source": [
        ""
      ],
      "execution_count": 0,
      "outputs": []
    },
    {
      "cell_type": "markdown",
      "metadata": {
        "id": "msmuTyNyox_n",
        "colab_type": "text"
      },
      "source": [
        "## Part of Speech Tagging"
      ]
    },
    {
      "cell_type": "code",
      "metadata": {
        "ExecuteTime": {
          "end_time": "2020-06-06T18:49:32.049045Z",
          "start_time": "2020-06-06T18:49:32.043428Z"
        },
        "id": "fy5dh47mox_o",
        "colab_type": "code",
        "colab": {},
        "outputId": "0cfe595d-a504-4078-937c-e663ef038e3f"
      },
      "source": [
        "sent = \"Albert Einstein was born in Ulm, Germany in 1879.\"\n",
        "tokens = nltk.word_tokenize(sent)\n",
        "print(tokens)"
      ],
      "execution_count": 0,
      "outputs": [
        {
          "output_type": "stream",
          "text": [
            "['Albert', 'Einstein', 'was', 'born', 'in', 'Ulm', ',', 'Germany', 'in', '1879', '.']\n"
          ],
          "name": "stdout"
        }
      ]
    },
    {
      "cell_type": "code",
      "metadata": {
        "ExecuteTime": {
          "end_time": "2020-06-06T18:49:32.217054Z",
          "start_time": "2020-06-06T18:49:32.056105Z"
        },
        "id": "-2Lr_FV1ox_p",
        "colab_type": "code",
        "colab": {},
        "outputId": "2137e917-4662-4c0d-d1f2-8ec0f135837c"
      },
      "source": [
        "nltk.pos_tag(tokens)"
      ],
      "execution_count": 0,
      "outputs": [
        {
          "output_type": "execute_result",
          "data": {
            "text/plain": [
              "[('Albert', 'NNP'),\n",
              " ('Einstein', 'NNP'),\n",
              " ('was', 'VBD'),\n",
              " ('born', 'VBN'),\n",
              " ('in', 'IN'),\n",
              " ('Ulm', 'NNP'),\n",
              " (',', ','),\n",
              " ('Germany', 'NNP'),\n",
              " ('in', 'IN'),\n",
              " ('1879', 'CD'),\n",
              " ('.', '.')]"
            ]
          },
          "metadata": {
            "tags": []
          },
          "execution_count": 101
        }
      ]
    },
    {
      "cell_type": "code",
      "metadata": {
        "ExecuteTime": {
          "end_time": "2020-06-06T18:50:45.975053Z",
          "start_time": "2020-06-06T18:50:37.398806Z"
        },
        "id": "LmnBm1hkox_s",
        "colab_type": "code",
        "colab": {}
      },
      "source": [
        "#!pip install wikipedia"
      ],
      "execution_count": 0,
      "outputs": []
    },
    {
      "cell_type": "code",
      "metadata": {
        "ExecuteTime": {
          "end_time": "2020-06-06T18:50:48.876323Z",
          "start_time": "2020-06-06T18:50:45.978291Z"
        },
        "id": "5FPSudrIox_u",
        "colab_type": "code",
        "colab": {}
      },
      "source": [
        "import wikipedia as wiki"
      ],
      "execution_count": 0,
      "outputs": []
    },
    {
      "cell_type": "code",
      "metadata": {
        "ExecuteTime": {
          "end_time": "2020-06-06T18:51:10.091021Z",
          "start_time": "2020-06-06T18:51:07.968406Z"
        },
        "id": "EAMdl18Qox_w",
        "colab_type": "code",
        "colab": {}
      },
      "source": [
        "shopee = wiki.summary('Shopee')"
      ],
      "execution_count": 0,
      "outputs": []
    },
    {
      "cell_type": "code",
      "metadata": {
        "ExecuteTime": {
          "end_time": "2020-06-06T18:51:21.949287Z",
          "start_time": "2020-06-06T18:51:21.934676Z"
        },
        "id": "x4y-yniwox_x",
        "colab_type": "code",
        "colab": {}
      },
      "source": [
        "shopee_tok = word_tokenize(shopee)"
      ],
      "execution_count": 0,
      "outputs": []
    },
    {
      "cell_type": "code",
      "metadata": {
        "ExecuteTime": {
          "end_time": "2020-06-06T18:51:49.320382Z",
          "start_time": "2020-06-06T18:51:49.254706Z"
        },
        "id": "Tn-kQ2IFox_z",
        "colab_type": "code",
        "colab": {},
        "outputId": "4a5e3b81-ed04-4949-d146-7105204cd6f9"
      },
      "source": [
        "nltk.pos_tag(shopee_tok)\n"
      ],
      "execution_count": 0,
      "outputs": [
        {
          "output_type": "execute_result",
          "data": {
            "text/plain": [
              "[('Shopee', 'NNP'),\n",
              " ('is', 'VBZ'),\n",
              " ('a', 'DT'),\n",
              " ('Singaporean', 'JJ'),\n",
              " ('e-commerce', 'NN'),\n",
              " ('platform', 'NN'),\n",
              " ('headquartered', 'VBN'),\n",
              " ('under', 'IN'),\n",
              " ('the', 'DT'),\n",
              " ('Sea', 'NNP'),\n",
              " ('Group', 'NNP'),\n",
              " ('(', '('),\n",
              " ('previously', 'RB'),\n",
              " ('known', 'VBN'),\n",
              " ('as', 'IN'),\n",
              " ('Garena', 'NNP'),\n",
              " (')', ')'),\n",
              " (',', ','),\n",
              " ('which', 'WDT'),\n",
              " ('was', 'VBD'),\n",
              " ('founded', 'VBN'),\n",
              " ('in', 'IN'),\n",
              " ('2015', 'CD'),\n",
              " ('by', 'IN'),\n",
              " ('Forrest', 'NNP'),\n",
              " ('Li', 'NNP'),\n",
              " ('.', '.'),\n",
              " ('Shopee', 'NNP'),\n",
              " ('first', 'RB'),\n",
              " ('launched', 'VBD'),\n",
              " ('in', 'IN'),\n",
              " ('Singapore', 'NNP'),\n",
              " ('in', 'IN'),\n",
              " ('2015', 'CD'),\n",
              " (',', ','),\n",
              " ('and', 'CC'),\n",
              " ('since', 'IN'),\n",
              " ('expanded', 'VBN'),\n",
              " ('its', 'PRP$'),\n",
              " ('reach', 'NN'),\n",
              " ('to', 'TO'),\n",
              " ('Malaysia', 'NNP'),\n",
              " (',', ','),\n",
              " ('Thailand', 'NNP'),\n",
              " (',', ','),\n",
              " ('Taiwan', 'NNP'),\n",
              " (',', ','),\n",
              " ('Indonesia', 'NNP'),\n",
              " (',', ','),\n",
              " ('Vietnam', 'NNP'),\n",
              " (',', ','),\n",
              " ('the', 'DT'),\n",
              " ('Philippines', 'NNPS'),\n",
              " (',', ','),\n",
              " ('and', 'CC'),\n",
              " ('Brazil', 'NNP'),\n",
              " ('.', '.'),\n",
              " ('It', 'PRP'),\n",
              " ('serves', 'VBZ'),\n",
              " ('users', 'NNS'),\n",
              " ('in', 'IN'),\n",
              " ('Southeast', 'NNP'),\n",
              " ('Asia', 'NNP'),\n",
              " ('and', 'CC'),\n",
              " ('Taiwan', 'NNP'),\n",
              " ('to', 'TO'),\n",
              " ('buy', 'VB'),\n",
              " ('and', 'CC'),\n",
              " ('sell', 'VB'),\n",
              " ('products', 'NNS'),\n",
              " ('online', 'PRP'),\n",
              " ('.', '.'),\n",
              " ('Shopee', 'NNP'),\n",
              " ('presents', 'VBZ'),\n",
              " ('an', 'DT'),\n",
              " ('expansive', 'JJ'),\n",
              " ('range', 'NN'),\n",
              " ('of', 'IN'),\n",
              " ('products', 'NNS'),\n",
              " (',', ','),\n",
              " ('a', 'DT'),\n",
              " ('social', 'JJ'),\n",
              " ('community', 'NN'),\n",
              " ('for', 'IN'),\n",
              " ('exploration', 'NN'),\n",
              " (',', ','),\n",
              " ('and', 'CC'),\n",
              " ('smooth', 'JJ'),\n",
              " ('and', 'CC'),\n",
              " ('satisfactory', 'JJ'),\n",
              " ('services', 'NNS'),\n",
              " ('.', '.'),\n",
              " ('Due', 'JJ'),\n",
              " ('to', 'TO'),\n",
              " ('the', 'DT'),\n",
              " ('mobile', 'JJ'),\n",
              " ('and', 'CC'),\n",
              " ('social', 'JJ'),\n",
              " ('element', 'NN'),\n",
              " ('built', 'VBN'),\n",
              " ('within', 'IN'),\n",
              " ('the', 'DT'),\n",
              " ('concept', 'NN'),\n",
              " (',', ','),\n",
              " ('Shopee', 'NNP'),\n",
              " ('was', 'VBD'),\n",
              " ('described', 'VBN'),\n",
              " ('as', 'IN'),\n",
              " ('one', 'CD'),\n",
              " ('of', 'IN'),\n",
              " ('the', 'DT'),\n",
              " ('``', '``'),\n",
              " ('5', 'CD'),\n",
              " ('disruptive', 'JJ'),\n",
              " ('ecommerce', 'NN'),\n",
              " ('startups', 'NN'),\n",
              " ('we', 'PRP'),\n",
              " ('saw', 'VBD'),\n",
              " ('in', 'IN'),\n",
              " ('2015', 'CD'),\n",
              " (\"''\", \"''\"),\n",
              " ('by', 'IN'),\n",
              " ('Tech', 'NNP'),\n",
              " ('In', 'IN'),\n",
              " ('Asia', 'NNP'),\n",
              " ('.', '.')]"
            ]
          },
          "metadata": {
            "tags": []
          },
          "execution_count": 106
        }
      ]
    },
    {
      "cell_type": "code",
      "metadata": {
        "ExecuteTime": {
          "end_time": "2020-06-06T18:54:38.832619Z",
          "start_time": "2020-06-06T18:54:38.828957Z"
        },
        "id": "P9poq4oZox_1",
        "colab_type": "code",
        "colab": {},
        "outputId": "c9e2adeb-0922-4c61-93ed-1e1f303bfba6"
      },
      "source": [
        "nltk.help.upenn_tagset('NNP')"
      ],
      "execution_count": 0,
      "outputs": [
        {
          "output_type": "stream",
          "text": [
            "NNP: noun, proper, singular\n",
            "    Motown Venneboerger Czestochwa Ranzer Conchita Trumplane Christos\n",
            "    Oceanside Escobar Kreisler Sawyer Cougar Yvette Ervin ODI Darryl CTCA\n",
            "    Shannon A.K.C. Meltex Liverpool ...\n"
          ],
          "name": "stdout"
        }
      ]
    },
    {
      "cell_type": "code",
      "metadata": {
        "ExecuteTime": {
          "end_time": "2020-06-06T18:54:44.273042Z",
          "start_time": "2020-06-06T18:54:44.269170Z"
        },
        "id": "WUuKQtcCox_3",
        "colab_type": "code",
        "colab": {},
        "outputId": "026f3f54-1e92-4749-d5e7-8eb7800b9c63"
      },
      "source": [
        "nltk.help.upenn_tagset('NN')"
      ],
      "execution_count": 0,
      "outputs": [
        {
          "output_type": "stream",
          "text": [
            "NN: noun, common, singular or mass\n",
            "    common-carrier cabbage knuckle-duster Casino afghan shed thermostat\n",
            "    investment slide humour falloff slick wind hyena override subhumanity\n",
            "    machinist ...\n"
          ],
          "name": "stdout"
        }
      ]
    },
    {
      "cell_type": "code",
      "metadata": {
        "ExecuteTime": {
          "end_time": "2020-06-06T18:55:14.962806Z",
          "start_time": "2020-06-06T18:55:14.959284Z"
        },
        "id": "jOi_eGajox_5",
        "colab_type": "code",
        "colab": {},
        "outputId": "d95fbe0a-cac6-4fce-b5e4-881bb53b503a"
      },
      "source": [
        "nltk.help.upenn_tagset('PRP$')"
      ],
      "execution_count": 0,
      "outputs": [
        {
          "output_type": "stream",
          "text": [
            "PRP$: pronoun, possessive\n",
            "    her his mine my our ours their thy your\n"
          ],
          "name": "stdout"
        }
      ]
    },
    {
      "cell_type": "code",
      "metadata": {
        "id": "Usz7eyLFox_8",
        "colab_type": "code",
        "colab": {}
      },
      "source": [
        "#https://www.ling.upenn.edu/courses/Fall_2003/ling001/penn_treebank_pos.html"
      ],
      "execution_count": 0,
      "outputs": []
    },
    {
      "cell_type": "markdown",
      "metadata": {
        "id": "KI4Z_KW_ox_-",
        "colab_type": "text"
      },
      "source": [
        "## Named Entity Recognition"
      ]
    },
    {
      "cell_type": "code",
      "metadata": {
        "ExecuteTime": {
          "end_time": "2020-06-06T19:06:47.670680Z",
          "start_time": "2020-06-06T19:06:47.517854Z"
        },
        "id": "GBYxmc4fox_-",
        "colab_type": "code",
        "colab": {}
      },
      "source": [
        "namedEnt = nltk.ne_chunk(nltk.pos_tag(shopee_tok))\n",
        "namedEnt.draw()"
      ],
      "execution_count": 0,
      "outputs": []
    },
    {
      "cell_type": "code",
      "metadata": {
        "id": "Y5f7tHkKoyAA",
        "colab_type": "code",
        "colab": {}
      },
      "source": [
        ""
      ],
      "execution_count": 0,
      "outputs": []
    },
    {
      "cell_type": "code",
      "metadata": {
        "id": "5pI0F9OooyAC",
        "colab_type": "code",
        "colab": {}
      },
      "source": [
        ""
      ],
      "execution_count": 0,
      "outputs": []
    },
    {
      "cell_type": "markdown",
      "metadata": {
        "id": "0wvRHoJaoyAD",
        "colab_type": "text"
      },
      "source": [
        "# Sentiment Analysis - Scikit Learn"
      ]
    },
    {
      "cell_type": "markdown",
      "metadata": {
        "id": "84HOerYxoyAD",
        "colab_type": "text"
      },
      "source": [
        "Data Source: https://www.kaggle.com/c/sentiment-analysis-on-movie-reviews\n",
        "\n",
        "\n",
        "The dataset is comprised of tab-separated files with phrases from the Rotten Tomatoes dataset. The train/test split has been preserved for the purposes of benchmarking, but the sentences have been shuffled from their original order. Each Sentence has been parsed into many phrases by the Stanford parser. Each phrase has a PhraseId. Each sentence has a SentenceId. Phrases that are repeated (such as short/common words) are only included once in the data.\n",
        "\n",
        "train.tsv contains the phrases and their associated sentiment labels. We have additionally provided a SentenceId so that you can track which phrases belong to a single sentence.\n",
        "test.tsv contains just phrases. You must assign a sentiment label to each phrase.\n",
        "The sentiment labels are:\n",
        "\n",
        "0 - negative\n",
        "1 - somewhat negative\n",
        "2 - neutral\n",
        "3 - somewhat positive\n",
        "4 - positive"
      ]
    },
    {
      "cell_type": "code",
      "metadata": {
        "id": "wVyooI6RoyAE",
        "colab_type": "code",
        "colab": {}
      },
      "source": [
        "df = pd.read_csv('train.tsv', sep='\\t')"
      ],
      "execution_count": 0,
      "outputs": []
    },
    {
      "cell_type": "code",
      "metadata": {
        "id": "_u0FyKocoyAF",
        "colab_type": "code",
        "colab": {}
      },
      "source": [
        "df.shape"
      ],
      "execution_count": 0,
      "outputs": []
    },
    {
      "cell_type": "code",
      "metadata": {
        "id": "J2lMKnvjoyAH",
        "colab_type": "code",
        "colab": {}
      },
      "source": [
        "df.info()"
      ],
      "execution_count": 0,
      "outputs": []
    },
    {
      "cell_type": "code",
      "metadata": {
        "id": "p0VENsIJoyAI",
        "colab_type": "code",
        "colab": {}
      },
      "source": [
        "df"
      ],
      "execution_count": 0,
      "outputs": []
    },
    {
      "cell_type": "code",
      "metadata": {
        "id": "elGrGUH2oyAL",
        "colab_type": "code",
        "colab": {}
      },
      "source": [
        "df['Phrase']"
      ],
      "execution_count": 0,
      "outputs": []
    },
    {
      "cell_type": "markdown",
      "metadata": {
        "id": "pSetWpIqoyAM",
        "colab_type": "text"
      },
      "source": [
        "As was mentioned in the original competition description, there are no individual movie reviews but rather phrases taken out of context and split into smaller parts, each with an assigned sentiment category. The competition is evaluated based on scoring results of each test phrase, so the context of the whole review does not matter here. "
      ]
    },
    {
      "cell_type": "code",
      "metadata": {
        "id": "VZxHRSY1oyAN",
        "colab_type": "code",
        "colab": {}
      },
      "source": [
        "df['Sentiment'].describe()"
      ],
      "execution_count": 0,
      "outputs": []
    },
    {
      "cell_type": "code",
      "metadata": {
        "id": "2C1dnK5zoyAQ",
        "colab_type": "code",
        "colab": {}
      },
      "source": [
        "df.Sentiment.value_counts()"
      ],
      "execution_count": 0,
      "outputs": []
    },
    {
      "cell_type": "code",
      "metadata": {
        "id": "lKLmtwYuoyAS",
        "colab_type": "code",
        "colab": {}
      },
      "source": [
        "Sentiment_count = df.groupby('Sentiment').count()\n",
        "\n",
        "plt.bar(Sentiment_count.index.values, Sentiment_count['Phrase'])\n",
        "plt.xlabel('Review Sentiments')\n",
        "plt.ylabel('Number of Review')\n",
        "plt.show()"
      ],
      "execution_count": 0,
      "outputs": []
    },
    {
      "cell_type": "markdown",
      "metadata": {
        "id": "EL2Ny5M_oyAU",
        "colab_type": "text"
      },
      "source": [
        "## Count Vectorizer"
      ]
    },
    {
      "cell_type": "code",
      "metadata": {
        "id": "OCSeSu_2oyAV",
        "colab_type": "code",
        "colab": {}
      },
      "source": [
        "#tokenizer to remove unwanted elements from out data like symbols and numbers\n",
        "token = RegexpTokenizer(r'[a-zA-Z0-9]+')\n",
        "\n",
        "cv = CountVectorizer(lowercase=True, stop_words='english', ngram_range = (1,1), tokenizer = token.tokenize)\n",
        "\n",
        "text_counts= cv.fit_transform(df['Phrase'])"
      ],
      "execution_count": 0,
      "outputs": []
    },
    {
      "cell_type": "code",
      "metadata": {
        "id": "Ah-Lcu-BoyAW",
        "colab_type": "code",
        "colab": {}
      },
      "source": [
        "df.shape"
      ],
      "execution_count": 0,
      "outputs": []
    },
    {
      "cell_type": "code",
      "metadata": {
        "id": "g1CGc1CmoyAX",
        "colab_type": "code",
        "colab": {}
      },
      "source": [
        "print(text_counts)"
      ],
      "execution_count": 0,
      "outputs": []
    },
    {
      "cell_type": "code",
      "metadata": {
        "id": "VWevuhz6oyAZ",
        "colab_type": "code",
        "colab": {}
      },
      "source": [
        "X_train, X_test, y_train, y_test = train_test_split(text_counts, df['Sentiment'], test_size=0.3, random_state=1)"
      ],
      "execution_count": 0,
      "outputs": []
    },
    {
      "cell_type": "code",
      "metadata": {
        "id": "nJGF7dtOoyAa",
        "colab_type": "code",
        "colab": {}
      },
      "source": [
        "# Model Generation Using Multinomial Naive Bayes\n",
        "clf = MultinomialNB().fit(X_train, y_train)\n",
        "predicted = clf.predict(X_test)\n",
        "\n",
        "print(\"MultinomialNB Accuracy:\",metrics.accuracy_score(y_test, predicted))"
      ],
      "execution_count": 0,
      "outputs": []
    },
    {
      "cell_type": "markdown",
      "metadata": {
        "id": "jeDJ7apnoyAc",
        "colab_type": "text"
      },
      "source": [
        "## TFIDF Vectorizer"
      ]
    },
    {
      "cell_type": "code",
      "metadata": {
        "id": "_lFasfyFoyAc",
        "colab_type": "code",
        "colab": {}
      },
      "source": [
        "tf = TfidfVectorizer()\n",
        "\n",
        "text_tf = tf.fit_transform(df['Phrase'])"
      ],
      "execution_count": 0,
      "outputs": []
    },
    {
      "cell_type": "code",
      "metadata": {
        "id": "HxLgqPFsoyAe",
        "colab_type": "code",
        "colab": {}
      },
      "source": [
        "print(text_tf)"
      ],
      "execution_count": 0,
      "outputs": []
    },
    {
      "cell_type": "code",
      "metadata": {
        "id": "nkbFYe5LoyAi",
        "colab_type": "code",
        "colab": {}
      },
      "source": [
        "X_train, X_test, y_train, y_test = train_test_split(text_tf, df['Sentiment'], test_size=0.3, random_state=123)"
      ],
      "execution_count": 0,
      "outputs": []
    },
    {
      "cell_type": "code",
      "metadata": {
        "id": "h9xZE-wLoyAn",
        "colab_type": "code",
        "colab": {}
      },
      "source": [
        "# Model Generation Using Multinomial Naive Bayes\n",
        "clf = MultinomialNB().fit(X_train, y_train)\n",
        "predicted= clf.predict(X_test)\n",
        "\n",
        "print(\"MultinomialNB Accuracy:\",metrics.accuracy_score(y_test, predicted))"
      ],
      "execution_count": 0,
      "outputs": []
    },
    {
      "cell_type": "code",
      "metadata": {
        "id": "sX47Hwv8oyAq",
        "colab_type": "code",
        "colab": {}
      },
      "source": [
        ""
      ],
      "execution_count": 0,
      "outputs": []
    },
    {
      "cell_type": "markdown",
      "metadata": {
        "id": "WiwCddLeoyAv",
        "colab_type": "text"
      },
      "source": [
        "## *Sentiment Analysis - Textblob"
      ]
    },
    {
      "cell_type": "markdown",
      "metadata": {
        "id": "m7FdxH8loyAw",
        "colab_type": "text"
      },
      "source": [
        "\n",
        "\n",
        "1. **TextBlob Module:** Linguistic researchers have labeled the sentiment of words based on their domain expertise. Sentiment of words can vary based on where it is in a sentence. The TextBlob module allows us to take advantage of these labels.\n",
        "2. **Sentiment Labels:** Each word in a corpus is labeled in terms of polarity and subjectivity (there are more labels as well, but we're going to ignore them for now). A corpus' sentiment is the average of these.\n",
        "   * **Polarity**: How positive or negative a word is. -1 is very negative. +1 is very positive.\n",
        "   * **Subjectivity**: How subjective, or opinionated a word is. 0 is fact. +1 is very much an opinion.\n",
        "\n",
        "For more info on how TextBlob coded up its [sentiment function](https://planspace.org/20150607-textblob_sentiment/).\n",
        "\n",
        "Let's take a look at the sentiment of the various transcripts, both overall and throughout the comedy routine."
      ]
    },
    {
      "cell_type": "code",
      "metadata": {
        "ExecuteTime": {
          "end_time": "2020-06-06T14:45:00.569678Z",
          "start_time": "2020-06-06T14:44:59.920420Z"
        },
        "id": "T5vhEOesoyAw",
        "colab_type": "code",
        "colab": {}
      },
      "source": [
        "#!pip install textblob\n",
        "from textblob import TextBlob\n",
        "from bs4 import BeautifulSoup\n",
        "import requests\n",
        "import matplotlib.pyplot as plt\n",
        "import pandas as pd"
      ],
      "execution_count": 0,
      "outputs": []
    },
    {
      "cell_type": "code",
      "metadata": {
        "id": "2wzHCymsoyA0",
        "colab_type": "code",
        "colab": {}
      },
      "source": [
        " TextBlob('the weather today is bad :)').sentiment"
      ],
      "execution_count": 0,
      "outputs": []
    },
    {
      "cell_type": "code",
      "metadata": {
        "id": "nnOMizPboyA6",
        "colab_type": "code",
        "colab": {}
      },
      "source": [
        " TextBlob('the weather today is bad :(').sentiment"
      ],
      "execution_count": 0,
      "outputs": []
    },
    {
      "cell_type": "code",
      "metadata": {
        "id": "FymIiifgoyA_",
        "colab_type": "code",
        "colab": {}
      },
      "source": [
        " TextBlob('the weather is good').sentiment"
      ],
      "execution_count": 0,
      "outputs": []
    },
    {
      "cell_type": "code",
      "metadata": {
        "id": "1wbk9OKMoyBF",
        "colab_type": "code",
        "colab": {}
      },
      "source": [
        " TextBlob('it rained today').sentiment"
      ],
      "execution_count": 0,
      "outputs": []
    },
    {
      "cell_type": "markdown",
      "metadata": {
        "id": "MBCdg1HxoyBH",
        "colab_type": "text"
      },
      "source": [
        "### Sentiment Analysis on Music Lyrics"
      ]
    },
    {
      "cell_type": "code",
      "metadata": {
        "ExecuteTime": {
          "end_time": "2020-06-06T14:44:50.256142Z",
          "start_time": "2020-06-06T14:44:17.077315Z"
        },
        "id": "KU-RYQA_oyBH",
        "colab_type": "code",
        "colab": {}
      },
      "source": [
        "def scrape_lyrics(url):\n",
        "    page = requests.get(url)\n",
        "    html = BeautifulSoup(page.text, \"html.parser\")\n",
        "    lyrics = html.find(\"pre\", class_=\"lyric-body\").get_text()\n",
        "    print(url)\n",
        "    #print(lyrics)\n",
        "    return lyrics.replace(\"\\n\",\" \")\n",
        "\n",
        "\n",
        "links = ['https://www.lyrics.com/lyric/36863481/Justin+Bieber/Yummy',\n",
        "     'https://www.lyrics.com/lyric/35362456/Ed+Sheeran/Castle+on+the+Hill',\n",
        "     'https://www.lyrics.com/lyric/35342586/Taylor+Swift/22',\n",
        "     'https://www.lyrics.com/lyric/36147543/Kygo/Happy+Now',\n",
        "     'https://www.lyrics.com/sublyric/58125/Lauv/Superhero',\n",
        "     'https://www.lyrics.com/lyric/30514737/Fix+You',\n",
        "     'https://www.lyrics.com/lyric/32981724/One+Direction/Perfect',\n",
        "     'https://www.lyrics.com/lyric/36489666/Bahari/Crashing',\n",
        "     'https://www.lyrics.com/lyric/33787626/ROZES/Matches',\n",
        "     'https://www.lyrics.com/lyric/36341880/Maroon+5/She+Will+Be+Loved',\n",
        "     'https://www.lyrics.com/lyric/25306933/Queen/Dont+Stop+Me+Now',\n",
        "     'https://www.lyrics.com/lyric/31781320/Eric+Clapton/Tears+In+Heaven']\n",
        "\n",
        "\n",
        "lyrics = [scrape_lyrics(link) for link in links]\n",
        "\n",
        "artists = ['JustinBieber', 'EdSheeran', 'TaylorSwift', 'Kygo', 'Lauv', 'Coldplay', 'OneDirection','Bahari','Rozes','Maroon5', 'Queen', 'EricClapton']\n",
        "\n",
        "#fun fact: queen dont stop me now is apparently the happiest song, and eric clapton is supposedly a sad song\n",
        "# https://www.indy100.com/article/dont-stop-me-now-is-the-happiest-song-in-the-world-according-to-a-neuroscientist-7318321\n",
        "#but there's more to the what affects the sentiment of the song, not just the lyrics, e.g. tempo"
      ],
      "execution_count": 0,
      "outputs": []
    },
    {
      "cell_type": "code",
      "metadata": {
        "ExecuteTime": {
          "end_time": "2020-06-06T14:46:37.336217Z",
          "start_time": "2020-06-06T14:46:37.104772Z"
        },
        "id": "7On7NehSoyBL",
        "colab_type": "code",
        "colab": {}
      },
      "source": [
        "df = pd.DataFrame({'Lyrics':lyrics}, index=artists)\n",
        "\n",
        "pol = lambda x: TextBlob(x).sentiment.polarity\n",
        "sub = lambda x: TextBlob(x).sentiment.subjectivity\n",
        "df['polarity'] = df['Lyrics'].apply(pol)\n",
        "df['subjectivity'] = df['Lyrics'].apply(sub)\n",
        "\n",
        "plt.rcParams['figure.figsize'] = [10, 8]\n",
        "\n",
        "for artist in df.index:\n",
        "    x = df.polarity.loc[artist]\n",
        "    y = df.subjectivity.loc[artist]\n",
        "    plt.scatter(x, y, color='green')\n",
        "    plt.text(x+.001, y+.001, artist, fontsize=10)\n",
        "    plt.xlim(-.7, .7) \n",
        "    plt.ylim(0,1) \n",
        "    \n",
        "plt.title('Sentiment Analysis', fontsize=20)\n",
        "plt.xlabel('<-- Negative ---------- Positive -->', fontsize=15)\n",
        "plt.ylabel('<-- Facts -------- Opinions -->', fontsize=15)\n",
        "\n",
        "plt.show()"
      ],
      "execution_count": 0,
      "outputs": []
    },
    {
      "cell_type": "markdown",
      "metadata": {
        "id": "7NeD0Q1QoyBN",
        "colab_type": "text"
      },
      "source": [
        "# Natural Language Generation"
      ]
    },
    {
      "cell_type": "code",
      "metadata": {
        "ExecuteTime": {
          "end_time": "2020-06-06T15:20:05.272076Z",
          "start_time": "2020-06-06T15:20:01.349398Z"
        },
        "id": "Opw6NPDsoyBN",
        "colab_type": "code",
        "colab": {}
      },
      "source": [
        "import pandas as pd\n",
        "import markovify \n",
        "import ipywidgets as widgets\n",
        "from transformers import pipeline"
      ],
      "execution_count": 0,
      "outputs": []
    },
    {
      "cell_type": "markdown",
      "metadata": {
        "id": "nV81EDeroyBP",
        "colab_type": "text"
      },
      "source": [
        "## Markov Chains"
      ]
    },
    {
      "cell_type": "code",
      "metadata": {
        "ExecuteTime": {
          "end_time": "2020-06-06T15:10:39.454538Z",
          "start_time": "2020-06-06T15:10:30.282305Z"
        },
        "id": "o56NMCthoyBP",
        "colab_type": "code",
        "colab": {}
      },
      "source": [
        "#!pip install markovify"
      ],
      "execution_count": 0,
      "outputs": []
    },
    {
      "cell_type": "code",
      "metadata": {
        "ExecuteTime": {
          "end_time": "2020-06-06T15:10:51.679026Z",
          "start_time": "2020-06-06T15:10:51.668789Z"
        },
        "id": "WytyyoZRoyBR",
        "colab_type": "code",
        "colab": {}
      },
      "source": [
        "import pandas as pd\n",
        "import markovify \n"
      ],
      "execution_count": 0,
      "outputs": []
    },
    {
      "cell_type": "code",
      "metadata": {
        "ExecuteTime": {
          "end_time": "2020-06-06T15:10:55.736510Z",
          "start_time": "2020-06-06T15:10:55.697323Z"
        },
        "id": "-Sbj6P2poyBT",
        "colab_type": "code",
        "colab": {}
      },
      "source": [
        "df_news_headlines = pd.read_csv('abcnews-date-text.csv')\n",
        "df_news_headlines.head()"
      ],
      "execution_count": 0,
      "outputs": []
    },
    {
      "cell_type": "code",
      "metadata": {
        "id": "vv51XPzHoyBU",
        "colab_type": "code",
        "colab": {}
      },
      "source": [
        "text_model = markovify.NewlineText(df_news_headlines.headline_text, state_size = 2)"
      ],
      "execution_count": 0,
      "outputs": []
    },
    {
      "cell_type": "code",
      "metadata": {
        "ExecuteTime": {
          "end_time": "2020-06-06T15:18:12.880781Z",
          "start_time": "2020-06-06T15:18:12.862721Z"
        },
        "id": "jrkcF1QuoyBW",
        "colab_type": "code",
        "colab": {}
      },
      "source": [
        "# Print ten randomly-generated sentences using the built model\n",
        "for i in range(10):\n",
        "    print(text_model.make_sentence())"
      ],
      "execution_count": 0,
      "outputs": []
    },
    {
      "cell_type": "code",
      "metadata": {
        "ExecuteTime": {
          "end_time": "2020-06-06T15:18:37.071873Z",
          "start_time": "2020-06-06T15:18:37.058490Z"
        },
        "id": "Ha-GDLnHoyBX",
        "colab_type": "code",
        "colab": {}
      },
      "source": [
        "for i in range(10):\n",
        "    print(text_model.make_short_sentence(1000))"
      ],
      "execution_count": 0,
      "outputs": []
    },
    {
      "cell_type": "code",
      "metadata": {
        "id": "jO9gZ7GOoyBY",
        "colab_type": "code",
        "colab": {}
      },
      "source": [
        ""
      ],
      "execution_count": 0,
      "outputs": []
    },
    {
      "cell_type": "markdown",
      "metadata": {
        "id": "AkD71TgboyBb",
        "colab_type": "text"
      },
      "source": [
        "# References and other links"
      ]
    },
    {
      "cell_type": "markdown",
      "metadata": {
        "id": "8NfmNcbooyBc",
        "colab_type": "text"
      },
      "source": [
        "1. https://www.nltk.org/index.html\n",
        "2. https://github.com/adashofdata\n",
        "3. https://github.com/adashofdata/nlp-in-python-tutorial\n",
        "4. https://github.com/jsvine/markovify\n",
        "5. https://www.twilio.com/blog/2016/09/fun-with-markov-chains-python-and-twilio-sms.html\n",
        "6. https://github.com/huggingface\n",
        "7. http://jalammar.github.io/illustrated-transformer/\n",
        "8. https://papers.nips.cc/paper/7181-attention-is-all-you-need.pdf\n",
        "9. https://www.ling.upenn.edu/courses/Fall_2003/ling001/penn_treebank_pos.html\n",
        "10. https://mccormickml.com/2019/07/22/BERT-fine-tuning/\n",
        "11. https://huggingface.co/transformers/pretrained_models.html\n",
        "12. https://huggingface.co/transformers/usage.html\n",
        "13. https://scikit-learn.org/stable/auto_examples/classification/plot_classifier_comparison.html"
      ]
    },
    {
      "cell_type": "code",
      "metadata": {
        "id": "J5HSiWVToyBc",
        "colab_type": "code",
        "colab": {}
      },
      "source": [
        ""
      ],
      "execution_count": 0,
      "outputs": []
    }
  ]
}